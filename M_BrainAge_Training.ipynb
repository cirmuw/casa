{
 "cells": [
  {
   "cell_type": "code",
   "execution_count": 1,
   "metadata": {},
   "outputs": [],
   "source": [
    "from pytorch_lightning import Trainer\n",
    "import active_catinous.FastGramDynamicMemoryBrainAge as braincatsmodel\n",
    "from active_catinous.FastGramDynamicMemoryBrainAge import FastGramDynamicMemoryBrainAge\n",
    "from datasets.BrainAgeDataset import BrainAgeDataset\n",
    "from datasets.BrainAgeContinuous import BrainAgeContinuous\n",
    "\n",
    "import matplotlib.pyplot as plt\n",
    "from pytorch_lightning.callbacks import ModelCheckpoint\n",
    "from torch.utils.data import DataLoader\n",
    "import os\n",
    "import torchvision.models as models\n",
    "import torch.nn as nn\n",
    "import torch\n",
    "import torch.nn.functional as F\n",
    "import argparse\n",
    "import pytorch_lightning as pl\n",
    "import sklearn \n",
    "from sklearn.metrics import confusion_matrix, auc, roc_curve\n",
    "import torch\n",
    "import pandas as pd\n",
    "import pickle\n",
    "from py_jotools import mut, slurm, cache\n",
    "import numpy as np\n",
    "import gc\n",
    "\n",
    "import hashlib\n",
    "import dill\n",
    "import active_catinous.utils as cutils\n",
    "\n",
    "from sklearn.metrics import mean_absolute_error\n",
    "\n",
    "from models.AgePredictor import EncoderRegressor\n",
    "from models.unet3d import EncoderModelGenesis\n",
    "\n",
    "%load_ext autoreload\n",
    "%autoreload "
   ]
  },
  {
   "cell_type": "markdown",
   "metadata": {},
   "source": [
    "# After balancing"
   ]
  },
  {
   "cell_type": "code",
   "execution_count": 2,
   "metadata": {},
   "outputs": [
    {
     "name": "stdout",
     "output_type": "stream",
     "text": [
      "activecatinous97055\n",
      "sshpass -f ~/.ssh/pass ssh mperkonigg@cn5.cir.meduniwien.ac.at sbatch --export=NONE --partition centos7 /scratch/activecatinous97055.job\n",
      "Submitted batch job 3061812\n",
      "\n",
      "activecatinous78534\n",
      "sshpass -f ~/.ssh/pass ssh mperkonigg@cn5.cir.meduniwien.ac.at sbatch --export=NONE --partition centos7 /scratch/activecatinous78534.job\n",
      "Submitted batch job 3061813\n",
      "\n",
      "activecatinous37855\n",
      "sshpass -f ~/.ssh/pass ssh mperkonigg@cn5.cir.meduniwien.ac.at sbatch --export=NONE --partition centos7 /scratch/activecatinous37855.job\n",
      "Submitted batch job 3061814\n",
      "\n"
     ]
    }
   ],
   "source": [
    "#experiments with startbudget of memory max 64 and 128\n",
    "# 1/20 = 85\n",
    "# 1/15 = 113 \n",
    "# 1/10 = 170\n",
    "# 1/8 = 212 with 0.00001 and 0.0001\n",
    "# 1/5 = 340\n",
    "\n",
    "schedule = True\n",
    "\n",
    "sparams = {\n",
    "    'binary': '/home/cir/mperkonigg/env/catinous/bin/python',\n",
    "    'cwd': '/home/cir/mperkonigg/catinous/active_catinous/',\n",
    "    'gpu': 1,\n",
    "    'partition': 'centos7',\n",
    "    'memory': 100000,\n",
    "    'constraint': 'bigGPUmem',\n",
    "    'jobname': 'activecatinous',\n",
    "    'outputpath': '/home/cir/mperkonigg/slurmoutput/',\n",
    "    'mailuser': 'matthias.perkonigg@meduniwien.ac.at',\n",
    "    'minutes': '300'}\n",
    "\n",
    "hparams={'continuous': True,\n",
    "         'use_memory':True,\n",
    "        'datasetfile': '/project/catinous/brainds_split_val_test_balance.csv',\n",
    "        'base_model': 'batch_brainds_split_val_test_balance_base_train_1_88ef2d0cc2.pt',\n",
    "        'val_check_interval': 10,\n",
    "        'run_postfix': 1,\n",
    "        'memorymaximum': 64,\n",
    "        'force_misclassified':True,\n",
    "        'completion_limit': 5.0, #performance for first domain after base training\n",
    "        'batch_size': 2,\n",
    "        'training_batch_size': 8,\n",
    "         'learning_rate': 0.00001,\n",
    "         'random_cache': True,\n",
    "         'gradient_clip_val': 0.5,\n",
    "         'allowedlabelratio': 0,\n",
    "         'len_perf_queue': 8,\n",
    "         'transition_phase_after':0.7\n",
    "        }\n",
    "\n",
    "for i in range(3):\n",
    "    hparams['startbudget'] = 85\n",
    "    hparams['memorymaximum'] = 128\n",
    "    hparams['run_postfix'] = 1+i\n",
    "\n",
    "    if schedule:\n",
    "        slurm.srun(braincatsmodel.trained_model, [hparams], params=sparams, remote=True)\n",
    "    else:\n",
    "        model, logs, df_cache, basemodel_lr = braincatsmodel.trained_model(hparams)"
   ]
  },
  {
   "cell_type": "code",
   "execution_count": 6,
   "metadata": {},
   "outputs": [
    {
     "name": "stdout",
     "output_type": "stream",
     "text": [
      "activecatinous81236\n",
      "sshpass -f ~/.ssh/pass ssh mperkonigg@cn5.cir.meduniwien.ac.at sbatch --export=NONE --partition centos7 /scratch/activecatinous81236.job\n",
      "Submitted batch job 3063184\n",
      "\n",
      "activecatinous34587\n",
      "sshpass -f ~/.ssh/pass ssh mperkonigg@cn5.cir.meduniwien.ac.at sbatch --export=NONE --partition centos7 /scratch/activecatinous34587.job\n"
     ]
    },
    {
     "ename": "KeyboardInterrupt",
     "evalue": "",
     "output_type": "error",
     "traceback": [
      "\u001b[0;31m---------------------------------------------------------------------------\u001b[0m",
      "\u001b[0;31mKeyboardInterrupt\u001b[0m                         Traceback (most recent call last)",
      "\u001b[0;32m<ipython-input-6-a02ee271c5ec>\u001b[0m in \u001b[0;36m<module>\u001b[0;34m\u001b[0m\n\u001b[1;32m     50\u001b[0m \u001b[0;34m\u001b[0m\u001b[0m\n\u001b[1;32m     51\u001b[0m             \u001b[0;32mif\u001b[0m \u001b[0mschedule\u001b[0m\u001b[0;34m:\u001b[0m\u001b[0;34m\u001b[0m\u001b[0;34m\u001b[0m\u001b[0m\n\u001b[0;32m---> 52\u001b[0;31m                 \u001b[0mslurm\u001b[0m\u001b[0;34m.\u001b[0m\u001b[0msrun\u001b[0m\u001b[0;34m(\u001b[0m\u001b[0mbraincatsmodel\u001b[0m\u001b[0;34m.\u001b[0m\u001b[0mtrained_model\u001b[0m\u001b[0;34m,\u001b[0m \u001b[0;34m[\u001b[0m\u001b[0mhparams\u001b[0m\u001b[0;34m]\u001b[0m\u001b[0;34m,\u001b[0m \u001b[0mparams\u001b[0m\u001b[0;34m=\u001b[0m\u001b[0msparams\u001b[0m\u001b[0;34m,\u001b[0m \u001b[0mremote\u001b[0m\u001b[0;34m=\u001b[0m\u001b[0;32mTrue\u001b[0m\u001b[0;34m)\u001b[0m\u001b[0;34m\u001b[0m\u001b[0;34m\u001b[0m\u001b[0m\n\u001b[0m\u001b[1;32m     53\u001b[0m             \u001b[0;32melse\u001b[0m\u001b[0;34m:\u001b[0m\u001b[0;34m\u001b[0m\u001b[0;34m\u001b[0m\u001b[0m\n\u001b[1;32m     54\u001b[0m                 \u001b[0mmodel\u001b[0m\u001b[0;34m,\u001b[0m \u001b[0mlogs\u001b[0m\u001b[0;34m,\u001b[0m \u001b[0mdf_cache\u001b[0m\u001b[0;34m,\u001b[0m \u001b[0mbasemodel_lr\u001b[0m \u001b[0;34m=\u001b[0m \u001b[0mbraincatsmodel\u001b[0m\u001b[0;34m.\u001b[0m\u001b[0mtrained_model\u001b[0m\u001b[0;34m(\u001b[0m\u001b[0mhparams\u001b[0m\u001b[0;34m)\u001b[0m\u001b[0;34m\u001b[0m\u001b[0;34m\u001b[0m\u001b[0m\n",
      "\u001b[0;32m~/Documents/projects/py_jotools/py_jotools/slurm.py\u001b[0m in \u001b[0;36msrun\u001b[0;34m(function, fparam, kwargs, params, remote)\u001b[0m\n\u001b[1;32m     79\u001b[0m         \u001b[0mcommand\u001b[0m \u001b[0;34m=\u001b[0m \u001b[0;34m\"sbatch {scriptfilename}\"\u001b[0m\u001b[0;34m\u001b[0m\u001b[0;34m\u001b[0m\u001b[0m\n\u001b[1;32m     80\u001b[0m     \u001b[0mprint\u001b[0m\u001b[0;34m(\u001b[0m\u001b[0mcommand\u001b[0m\u001b[0;34m.\u001b[0m\u001b[0mformat\u001b[0m\u001b[0;34m(\u001b[0m\u001b[0mscriptfilename\u001b[0m \u001b[0;34m=\u001b[0m \u001b[0mscriptfilename\u001b[0m\u001b[0;34m,\u001b[0m\u001b[0mpartition\u001b[0m \u001b[0;34m=\u001b[0m \u001b[0mslurm_params_default\u001b[0m\u001b[0;34m[\u001b[0m\u001b[0;34m'partition'\u001b[0m\u001b[0;34m]\u001b[0m\u001b[0;34m)\u001b[0m\u001b[0;34m)\u001b[0m\u001b[0;34m\u001b[0m\u001b[0;34m\u001b[0m\u001b[0m\n\u001b[0;32m---> 81\u001b[0;31m     \u001b[0mblubb\u001b[0m \u001b[0;34m=\u001b[0m \u001b[0mos\u001b[0m\u001b[0;34m.\u001b[0m\u001b[0mpopen\u001b[0m\u001b[0;34m(\u001b[0m\u001b[0mcommand\u001b[0m\u001b[0;34m.\u001b[0m\u001b[0mformat\u001b[0m\u001b[0;34m(\u001b[0m\u001b[0mscriptfilename\u001b[0m \u001b[0;34m=\u001b[0m \u001b[0mscriptfilename\u001b[0m\u001b[0;34m,\u001b[0m\u001b[0mpartition\u001b[0m \u001b[0;34m=\u001b[0m \u001b[0mslurm_params_default\u001b[0m\u001b[0;34m[\u001b[0m\u001b[0;34m'partition'\u001b[0m\u001b[0;34m]\u001b[0m\u001b[0;34m)\u001b[0m\u001b[0;34m)\u001b[0m\u001b[0;34m.\u001b[0m\u001b[0mread\u001b[0m\u001b[0;34m(\u001b[0m\u001b[0;34m)\u001b[0m\u001b[0;34m\u001b[0m\u001b[0;34m\u001b[0m\u001b[0m\n\u001b[0m\u001b[1;32m     82\u001b[0m     \u001b[0mprint\u001b[0m\u001b[0;34m(\u001b[0m\u001b[0mblubb\u001b[0m\u001b[0;34m)\u001b[0m\u001b[0;34m\u001b[0m\u001b[0;34m\u001b[0m\u001b[0m\n\u001b[1;32m     83\u001b[0m     \u001b[0;32mreturn\u001b[0m \u001b[0mcomp_package\u001b[0m\u001b[0;34m[\u001b[0m\u001b[0;34m'respath'\u001b[0m\u001b[0;34m]\u001b[0m\u001b[0;34m\u001b[0m\u001b[0;34m\u001b[0m\u001b[0m\n",
      "\u001b[0;31mKeyboardInterrupt\u001b[0m: "
     ]
    }
   ],
   "source": [
    "#experiments with startbudget of memory max 64 and 128\n",
    "# 1/20 = 85\n",
    "# 1/15 = 113 \n",
    "# 1/10 = 170\n",
    "# 1/8 = 212 with 0.00001 and 0.0001\n",
    "# 1/5 = 340\n",
    "\n",
    "schedule = True\n",
    "\n",
    "sparams = {\n",
    "    'binary': '/home/cir/mperkonigg/env/catinous/bin/python',\n",
    "    'cwd': '/home/cir/mperkonigg/catinous/active_catinous/',\n",
    "    'gpu': 1,\n",
    "    'partition': 'centos7',\n",
    "    'memory': 100000,\n",
    "    'constraint': 'bigGPUmem',\n",
    "    'jobname': 'activecatinous',\n",
    "    'outputpath': '/home/cir/mperkonigg/slurmoutput/',\n",
    "    'mailuser': 'matthias.perkonigg@meduniwien.ac.at',\n",
    "    'minutes': '300'}\n",
    "\n",
    "hparams={'continuous': True,\n",
    "         'use_memory':True,\n",
    "        'datasetfile': '/project/catinous/brainds_split_val_test_balance.csv',\n",
    "        'base_model': 'batch_brainds_split_val_test_balance_base_train_1_88ef2d0cc2.pt',\n",
    "        'val_check_interval': 10,\n",
    "        'run_postfix': 1,\n",
    "        'memorymaximum': 64,\n",
    "        'force_misclassified':True,\n",
    "        'completion_limit': 7.0, #performance for first domain after base training\n",
    "        'batch_size': 2,\n",
    "        'training_batch_size': 8,\n",
    "         'learning_rate': 0.00001,\n",
    "         'random_cache': True,\n",
    "         'gradient_clip_val': 0.5,\n",
    "         'allowedlabelratio': 0,3063184\n",
    "         'len_perf_queue': 8,\n",
    "         'transition_phase_after':0.7\n",
    "        }\n",
    "\n",
    "startbugdets = [170, 212, 340]\n",
    "memorymaximas = [128]\n",
    "\n",
    "for i in range(3):\n",
    "    for sb in startbugdets:\n",
    "        for mm in memorymaximas:\n",
    "            hparams['startbudget'] = sb\n",
    "            hparams['memorymaximum'] = mm\n",
    "            hparams['run_postfix'] = 1+i\n",
    "\n",
    "            if schedule:\n",
    "                slurm.srun(braincatsmodel.trained_model, [hparams], params=sparams, remote=True)\n",
    "            else:\n",
    "                model, logs, df_cache, basemodel_lr = braincatsmodel.trained_model(hparams)"
   ]
  },
  {
   "cell_type": "code",
   "execution_count": 4,
   "metadata": {},
   "outputs": [
    {
     "name": "stdout",
     "output_type": "stream",
     "text": [
      "naive_activecatinous13602\n",
      "sshpass -f ~/.ssh/pass ssh mperkonigg@cn1.cir.meduniwien.ac.at sbatch --export=NONE --partition centos7 /scratch/naive_activecatinous13602.job\n",
      "Submitted batch job 3059163\n",
      "\n",
      "naive_activecatinous06465\n",
      "sshpass -f ~/.ssh/pass ssh mperkonigg@cn1.cir.meduniwien.ac.at sbatch --export=NONE --partition centos7 /scratch/naive_activecatinous06465.job\n",
      "Submitted batch job 3059164\n",
      "\n",
      "naive_activecatinous94493\n",
      "sshpass -f ~/.ssh/pass ssh mperkonigg@cn1.cir.meduniwien.ac.at sbatch --export=NONE --partition centos7 /scratch/naive_activecatinous94493.job\n",
      "Submitted batch job 3059165\n",
      "\n",
      "naive_activecatinous79828\n",
      "sshpass -f ~/.ssh/pass ssh mperkonigg@cn1.cir.meduniwien.ac.at sbatch --export=NONE --partition centos7 /scratch/naive_activecatinous79828.job\n",
      "Submitted batch job 3059166\n",
      "\n",
      "naive_activecatinous21438\n",
      "sshpass -f ~/.ssh/pass ssh mperkonigg@cn1.cir.meduniwien.ac.at sbatch --export=NONE --partition centos7 /scratch/naive_activecatinous21438.job\n",
      "Submitted batch job 3059167\n",
      "\n",
      "naive_activecatinous80495\n",
      "sshpass -f ~/.ssh/pass ssh mperkonigg@cn1.cir.meduniwien.ac.at sbatch --export=NONE --partition centos7 /scratch/naive_activecatinous80495.job\n",
      "Submitted batch job 3059169\n",
      "\n",
      "naive_activecatinous03327\n",
      "sshpass -f ~/.ssh/pass ssh mperkonigg@cn1.cir.meduniwien.ac.at sbatch --export=NONE --partition centos7 /scratch/naive_activecatinous03327.job\n",
      "Submitted batch job 3059172\n",
      "\n",
      "naive_activecatinous82681\n",
      "sshpass -f ~/.ssh/pass ssh mperkonigg@cn1.cir.meduniwien.ac.at sbatch --export=NONE --partition centos7 /scratch/naive_activecatinous82681.job\n",
      "Submitted batch job 3059173\n",
      "\n",
      "naive_activecatinous33522\n",
      "sshpass -f ~/.ssh/pass ssh mperkonigg@cn1.cir.meduniwien.ac.at sbatch --export=NONE --partition centos7 /scratch/naive_activecatinous33522.job\n",
      "Submitted batch job 3059174\n",
      "\n",
      "naive_activecatinous38103\n",
      "sshpass -f ~/.ssh/pass ssh mperkonigg@cn1.cir.meduniwien.ac.at sbatch --export=NONE --partition centos7 /scratch/naive_activecatinous38103.job\n",
      "Submitted batch job 3059176\n",
      "\n",
      "naive_activecatinous94454\n",
      "sshpass -f ~/.ssh/pass ssh mperkonigg@cn1.cir.meduniwien.ac.at sbatch --export=NONE --partition centos7 /scratch/naive_activecatinous94454.job\n",
      "Submitted batch job 3059177\n",
      "\n",
      "naive_activecatinous55327\n",
      "sshpass -f ~/.ssh/pass ssh mperkonigg@cn1.cir.meduniwien.ac.at sbatch --export=NONE --partition centos7 /scratch/naive_activecatinous55327.job\n",
      "Submitted batch job 3059178\n",
      "\n",
      "naive_activecatinous05199\n",
      "sshpass -f ~/.ssh/pass ssh mperkonigg@cn1.cir.meduniwien.ac.at sbatch --export=NONE --partition centos7 /scratch/naive_activecatinous05199.job\n",
      "Submitted batch job 3059180\n",
      "\n",
      "naive_activecatinous49857\n",
      "sshpass -f ~/.ssh/pass ssh mperkonigg@cn1.cir.meduniwien.ac.at sbatch --export=NONE --partition centos7 /scratch/naive_activecatinous49857.job\n",
      "Submitted batch job 3059181\n",
      "\n",
      "naive_activecatinous93852\n",
      "sshpass -f ~/.ssh/pass ssh mperkonigg@cn1.cir.meduniwien.ac.at sbatch --export=NONE --partition centos7 /scratch/naive_activecatinous93852.job\n",
      "Submitted batch job 3059182\n",
      "\n",
      "naive_activecatinous68077\n",
      "sshpass -f ~/.ssh/pass ssh mperkonigg@cn1.cir.meduniwien.ac.at sbatch --export=NONE --partition centos7 /scratch/naive_activecatinous68077.job\n",
      "Submitted batch job 3059183\n",
      "\n",
      "naive_activecatinous76691\n",
      "sshpass -f ~/.ssh/pass ssh mperkonigg@cn1.cir.meduniwien.ac.at sbatch --export=NONE --partition centos7 /scratch/naive_activecatinous76691.job\n",
      "Submitted batch job 3059184\n",
      "\n",
      "naive_activecatinous98701\n",
      "sshpass -f ~/.ssh/pass ssh mperkonigg@cn1.cir.meduniwien.ac.at sbatch --export=NONE --partition centos7 /scratch/naive_activecatinous98701.job\n",
      "Submitted batch job 3059185\n",
      "\n",
      "naive_activecatinous20654\n",
      "sshpass -f ~/.ssh/pass ssh mperkonigg@cn1.cir.meduniwien.ac.at sbatch --export=NONE --partition centos7 /scratch/naive_activecatinous20654.job\n",
      "Submitted batch job 3059187\n",
      "\n",
      "naive_activecatinous69883\n",
      "sshpass -f ~/.ssh/pass ssh mperkonigg@cn1.cir.meduniwien.ac.at sbatch --export=NONE --partition centos7 /scratch/naive_activecatinous69883.job\n",
      "Submitted batch job 3059188\n",
      "\n",
      "naive_activecatinous08944\n",
      "sshpass -f ~/.ssh/pass ssh mperkonigg@cn1.cir.meduniwien.ac.at sbatch --export=NONE --partition centos7 /scratch/naive_activecatinous08944.job\n",
      "Submitted batch job 3059189\n",
      "\n",
      "naive_activecatinous95684\n",
      "sshpass -f ~/.ssh/pass ssh mperkonigg@cn1.cir.meduniwien.ac.at sbatch --export=NONE --partition centos7 /scratch/naive_activecatinous95684.job\n",
      "Submitted batch job 3059190\n",
      "\n",
      "naive_activecatinous41454\n",
      "sshpass -f ~/.ssh/pass ssh mperkonigg@cn1.cir.meduniwien.ac.at sbatch --export=NONE --partition centos7 /scratch/naive_activecatinous41454.job\n",
      "Submitted batch job 3059191\n",
      "\n",
      "naive_activecatinous88353\n",
      "sshpass -f ~/.ssh/pass ssh mperkonigg@cn1.cir.meduniwien.ac.at sbatch --export=NONE --partition centos7 /scratch/naive_activecatinous88353.job\n",
      "Submitted batch job 3059193\n",
      "\n"
     ]
    }
   ],
   "source": [
    "#experiments with startbudget of memory max 64 and 128\n",
    "# 1/20 = 85\n",
    "# 1/15 = 113\n",
    "# 1/10 = 170\n",
    "# 1/8 = 212\n",
    "# 1/5 = 340\n",
    "\n",
    "schedule = True\n",
    "\n",
    "sparams = {\n",
    "    'binary': '/home/cir/mperkonigg/env/catinous/bin/python',\n",
    "    'cwd': '/home/cir/mperkonigg/catinous/active_catinous/',\n",
    "    'gpu': 1,\n",
    "    'partition': 'centos7',\n",
    "    'memory': 100000,\n",
    "    'constraint': 'bigGPUmem',\n",
    "    'jobname': 'naive_activecatinous',\n",
    "    'outputpath': '/home/cir/mperkonigg/slurmoutput/',\n",
    "    'mailuser': 'matthias.perkonigg@meduniwien.ac.at',\n",
    "    'minutes': '300'}\n",
    "\n",
    "hparams={'continuous': True,\n",
    "         'use_memory': True,\n",
    "         'naive_continuous': True,\n",
    "         'naive_continuous_rate':15,\n",
    "        'datasetfile': '/project/catinous/brainds_split_val_test_balance.csv',\n",
    "        'base_model': 'batch_brainds_split_val_test_balance_base_train_1_88ef2d0cc2.pt',\n",
    "        'val_check_interval': 10,\n",
    "        'run_postfix': 1,\n",
    "        'memorymaximum': 32,\n",
    "        'force_misclassified':True,\n",
    "        'completion_limit': 6.5,\n",
    "        'batch_size': 2,\n",
    "        'training_batch_size': 4,\n",
    "         'learning_rate': 0.00001,\n",
    "         'random_cache': True,\n",
    "         'gradient_clip_val': 0.5,\n",
    "         'allowedlabelratio': 0,\n",
    "         'transition_phase_after':0.7\n",
    "        }\n",
    "\n",
    "\n",
    "continuous_rate = [20, 10, 8, 5]\n",
    "memorymaximas = [64, 128]\n",
    "\n",
    "for i in range(3):\n",
    "    for cr in continuous_rate:\n",
    "        for mm in memorymaximas:\n",
    "            hparams['naive_continuous_rate'] = cr\n",
    "            hparams['memorymaximum'] = mm\n",
    "            hparams['run_postfix'] = i+1\n",
    "            if schedule:\n",
    "                slurm.srun(braincatsmodel.trained_model, [hparams], params=sparams, remote=True)\n",
    "            else:\n",
    "                model, logs, df_cache, basemodel_lr = braincatsmodel.trained_model(hparams)"
   ]
  },
  {
   "cell_type": "code",
   "execution_count": 6,
   "metadata": {},
   "outputs": [
    {
     "data": {
      "text/html": [
       "<div>\n",
       "<style scoped>\n",
       "    .dataframe tbody tr th:only-of-type {\n",
       "        vertical-align: middle;\n",
       "    }\n",
       "\n",
       "    .dataframe tbody tr th {\n",
       "        vertical-align: top;\n",
       "    }\n",
       "\n",
       "    .dataframe thead th {\n",
       "        text-align: right;\n",
       "    }\n",
       "</style>\n",
       "<table border=\"1\" class=\"dataframe\">\n",
       "  <thead>\n",
       "    <tr style=\"text-align: right;\">\n",
       "      <th></th>\n",
       "      <th></th>\n",
       "      <th>Unnamed: 0</th>\n",
       "      <th>ID</th>\n",
       "      <th>Age</th>\n",
       "      <th>Image</th>\n",
       "    </tr>\n",
       "    <tr>\n",
       "      <th>split</th>\n",
       "      <th>Scanner</th>\n",
       "      <th></th>\n",
       "      <th></th>\n",
       "      <th></th>\n",
       "      <th></th>\n",
       "    </tr>\n",
       "  </thead>\n",
       "  <tbody>\n",
       "    <tr>\n",
       "      <th>base_train</th>\n",
       "      <th>1.5T Philips</th>\n",
       "      <td>201</td>\n",
       "      <td>201</td>\n",
       "      <td>201</td>\n",
       "      <td>201</td>\n",
       "    </tr>\n",
       "    <tr>\n",
       "      <th rowspan=\"3\" valign=\"top\">test</th>\n",
       "      <th>1.5T Philips</th>\n",
       "      <td>31</td>\n",
       "      <td>31</td>\n",
       "      <td>31</td>\n",
       "      <td>31</td>\n",
       "    </tr>\n",
       "    <tr>\n",
       "      <th>3.0T</th>\n",
       "      <td>187</td>\n",
       "      <td>187</td>\n",
       "      <td>187</td>\n",
       "      <td>187</td>\n",
       "    </tr>\n",
       "    <tr>\n",
       "      <th>3.0T Philips</th>\n",
       "      <td>18</td>\n",
       "      <td>18</td>\n",
       "      <td>18</td>\n",
       "      <td>18</td>\n",
       "    </tr>\n",
       "    <tr>\n",
       "      <th rowspan=\"3\" valign=\"top\">train</th>\n",
       "      <th>1.5T Philips</th>\n",
       "      <td>52</td>\n",
       "      <td>52</td>\n",
       "      <td>52</td>\n",
       "      <td>52</td>\n",
       "    </tr>\n",
       "    <tr>\n",
       "      <th>3.0T</th>\n",
       "      <td>1504</td>\n",
       "      <td>1504</td>\n",
       "      <td>1504</td>\n",
       "      <td>1504</td>\n",
       "    </tr>\n",
       "    <tr>\n",
       "      <th>3.0T Philips</th>\n",
       "      <td>146</td>\n",
       "      <td>146</td>\n",
       "      <td>146</td>\n",
       "      <td>146</td>\n",
       "    </tr>\n",
       "    <tr>\n",
       "      <th rowspan=\"3\" valign=\"top\">val</th>\n",
       "      <th>1.5T Philips</th>\n",
       "      <td>31</td>\n",
       "      <td>31</td>\n",
       "      <td>31</td>\n",
       "      <td>31</td>\n",
       "    </tr>\n",
       "    <tr>\n",
       "      <th>3.0T</th>\n",
       "      <td>187</td>\n",
       "      <td>187</td>\n",
       "      <td>187</td>\n",
       "      <td>187</td>\n",
       "    </tr>\n",
       "    <tr>\n",
       "      <th>3.0T Philips</th>\n",
       "      <td>18</td>\n",
       "      <td>18</td>\n",
       "      <td>18</td>\n",
       "      <td>18</td>\n",
       "    </tr>\n",
       "  </tbody>\n",
       "</table>\n",
       "</div>"
      ],
      "text/plain": [
       "                         Unnamed: 0    ID   Age  Image\n",
       "split      Scanner                                    \n",
       "base_train 1.5T Philips         201   201   201    201\n",
       "test       1.5T Philips          31    31    31     31\n",
       "           3.0T                 187   187   187    187\n",
       "           3.0T Philips          18    18    18     18\n",
       "train      1.5T Philips          52    52    52     52\n",
       "           3.0T                1504  1504  1504   1504\n",
       "           3.0T Philips         146   146   146    146\n",
       "val        1.5T Philips          31    31    31     31\n",
       "           3.0T                 187   187   187    187\n",
       "           3.0T Philips          18    18    18     18"
      ]
     },
     "execution_count": 6,
     "metadata": {},
     "output_type": "execute_result"
    }
   ],
   "source": [
    "df = pd.read_csv('/project/catinous/brainds_split_val_test_balance.csv')\n",
    "df = df.loc[df.Scanner.isin(['1.5T Philips', '3.0T Philips', '3.0T'])]\n",
    "df.groupby(['split', 'Scanner']).count()"
   ]
  },
  {
   "cell_type": "code",
   "execution_count": 6,
   "metadata": {},
   "outputs": [
    {
     "name": "stdout",
     "output_type": "stream",
     "text": [
      "activecatinous87416\n",
      "sshpass -f ~/.ssh/pass ssh cn1.cir.meduniwien.ac.at sbatch --export=NONE --partition centos7 /scratch/activecatinous87416.job\n",
      "Submitted batch job 3057157\n",
      "\n"
     ]
    }
   ],
   "source": [
    "#experiments with startbudget of memory max 64 and 128\n",
    "# 1/20 = 85\n",
    "# 1/15 = 113 \n",
    "# 1/10 = 170\n",
    "# 1/8 = 212 with 0.00001 and 0.0001\n",
    "# 1/5 = 340\n",
    "\n",
    "schedule = True\n",
    "\n",
    "sparams = {\n",
    "    'binary': '/home/cir/mperkonigg/env/catinous/bin/python',\n",
    "    'cwd': '/home/cir/mperkonigg/catinous/active_catinous/',\n",
    "    'gpu': 1,\n",
    "    'partition': 'centos7',\n",
    "    'memory': 100000,\n",
    "    'constraint': 'bigGPUmem',\n",
    "    'jobname': 'activecatinous',\n",
    "    'outputpath': '/home/cir/mperkonigg/slurmoutput/',\n",
    "    'mailuser': 'matthias.perkonigg@meduniwien.ac.at',\n",
    "    'minutes': '300'}\n",
    "\n",
    "hparams={'continuous': True,\n",
    "         'use_memory':True,\n",
    "        'datasetfile': '/project/catinous/brainds_split.csv',\n",
    "        'base_model': 'batch_brainds_split_base_train_1_af4af4fb90.pt',\n",
    "        'val_check_interval': 10,\n",
    "        'run_postfix': 1,\n",
    "        'memorymaximum': 64,\n",
    "        'force_misclassified':True,\n",
    "        'completion_limit': 7.0, #performance for first domain after base training\n",
    "        'batch_size': 2,\n",
    "        'training_batch_size': 8,\n",
    "         'learning_rate': 0.00001,\n",
    "         'random_cache': True,\n",
    "         'gradient_clip_val': 0.5,\n",
    "         'allowedlabelratio': 0,\n",
    "         'len_perf_queue': 8,\n",
    "         'transition_phase_after':0.7\n",
    "        }\n",
    "\n",
    "hparams['startbudget'] = 212\n",
    "hparams['memorymaximum'] = 128\n",
    "hparams['run_postfix'] = 2\n",
    "\n",
    "if schedule:\n",
    "    slurm.srun(braincatsmodel.trained_model, [hparams], params=sparams, remote=True)\n",
    "else:\n",
    "    model, logs, df_cache, basemodel_lr = braincatsmodel.trained_model(hparams)"
   ]
  },
  {
   "cell_type": "code",
   "execution_count": 2,
   "metadata": {},
   "outputs": [
    {
     "name": "stdout",
     "output_type": "stream",
     "text": [
      "activecatinous75198\n",
      "sshpass -f ~/.ssh/pass ssh cn1.cir.meduniwien.ac.at sbatch --export=NONE --partition centos7 /scratch/activecatinous75198.job\n",
      "Submitted batch job 3039450\n",
      "\n"
     ]
    }
   ],
   "source": [
    "#experiments with startbudget of memory max 64 and 128\n",
    "# 1/20 = 85\n",
    "# 1/15 = 113 \n",
    "# 1/10 = 170\n",
    "# 1/8 = 212 with 0.00001 and 0.0001\n",
    "# 1/5 = 340\n",
    "\n",
    "schedule = True\n",
    "\n",
    "sparams = {\n",
    "    'binary': '/home/cir/mperkonigg/env/catinous/bin/python',\n",
    "    'cwd': '/home/cir/mperkonigg/catinous/active_catinous/',\n",
    "    'gpu': 1,\n",
    "    'partition': 'centos7',\n",
    "    'memory': 100000,\n",
    "    'constraint': 'bigGPUmem',\n",
    "    'jobname': 'activecatinous',\n",
    "    'outputpath': '/home/cir/mperkonigg/slurmoutput/',\n",
    "    'mailuser': 'matthias.perkonigg@meduniwien.ac.at',\n",
    "    'minutes': '300'}\n",
    "\n",
    "hparams={'continuous': True,\n",
    "         'use_memory':True,\n",
    "        'datasetfile': '/project/catinous/brainds_split.csv',\n",
    "        'base_model': 'batch_brainds_split_base_train_1_af4af4fb90.pt',\n",
    "        'val_check_interval': 500,\n",
    "        'run_postfix': 1,\n",
    "        'memorymaximum': 64,\n",
    "        'force_misclassified':True,\n",
    "        'completion_limit': 8.17, #performance for first domain after base training\n",
    "        'batch_size': 2,\n",
    "        'training_batch_size': 8,\n",
    "         'learning_rate': 0.00001,\n",
    "         'random_cache': True,\n",
    "         'gradient_clip_val': 0.5,\n",
    "         'allowedlabelratio': 0,\n",
    "         'len_perf_queue': 8,\n",
    "         'transition_phase_after':0.7\n",
    "        }\n",
    "\n",
    "startbugdets = [85, 170, 212, 340]\n",
    "memorymaximas = [64, 128]\n",
    "\n",
    "sb=212\n",
    "mm=128\n",
    "i=0\n",
    "#if i==0 and ((sb==85 and mm==128) or (sb==85 and mm==64) or (sb==170 and mm==64) or (sb==170 and mm==128) or (sb==212 and mm==128)):\n",
    "#    pass\n",
    "#else:\n",
    "hparams['startbudget'] = sb\n",
    "hparams['memorymaximum'] = mm\n",
    "hparams['run_postfix'] = 1+i\n",
    "\n",
    "if schedule:\n",
    "    slurm.srun(braincatsmodel.trained_model, [hparams], params=sparams, remote=True)\n",
    "else:\n",
    "    model, logs, df_cache, basemodel_lr = braincatsmodel.trained_model(hparams)"
   ]
  },
  {
   "cell_type": "code",
   "execution_count": 3,
   "metadata": {},
   "outputs": [],
   "source": [
    "df_wrong_scanner = df_cache.loc[df_cache.filepath=='1.5T Philips']\n",
    "df_wrong_scanner = df_wrong_scanner.rename(columns={'filepath':'scanner', 'scanner':'filepath'})\n",
    "df_cache.loc[df_cache.filepath=='1.5T Philips', 'filepath'] = np.NaN\n",
    "df_cache = df_cache.dropna().reset_index()\n",
    "df_cache = df_wrong_scanner.append(df_cache)"
   ]
  },
  {
   "cell_type": "code",
   "execution_count": 2,
   "metadata": {},
   "outputs": [
    {
     "name": "stdout",
     "output_type": "stream",
     "text": [
      "naive_activecatinous18009\n",
      "sshpass -f ~/.ssh/pass ssh cn1.cir.meduniwien.ac.at sbatch --export=NONE --partition centos7 /scratch/naive_activecatinous18009.job\n",
      "Submitted batch job 3045284\n",
      "\n",
      "naive_activecatinous80834\n",
      "sshpass -f ~/.ssh/pass ssh cn1.cir.meduniwien.ac.at sbatch --export=NONE --partition centos7 /scratch/naive_activecatinous80834.job\n",
      "Submitted batch job 3045285\n",
      "\n",
      "naive_activecatinous29483\n",
      "sshpass -f ~/.ssh/pass ssh cn1.cir.meduniwien.ac.at sbatch --export=NONE --partition centos7 /scratch/naive_activecatinous29483.job\n",
      "Submitted batch job 3045286\n",
      "\n",
      "naive_activecatinous76348\n",
      "sshpass -f ~/.ssh/pass ssh cn1.cir.meduniwien.ac.at sbatch --export=NONE --partition centos7 /scratch/naive_activecatinous76348.job\n",
      "Submitted batch job 3045288\n",
      "\n",
      "naive_activecatinous58108\n",
      "sshpass -f ~/.ssh/pass ssh cn1.cir.meduniwien.ac.at sbatch --export=NONE --partition centos7 /scratch/naive_activecatinous58108.job\n",
      "Submitted batch job 3045289\n",
      "\n",
      "naive_activecatinous42727\n",
      "sshpass -f ~/.ssh/pass ssh cn1.cir.meduniwien.ac.at sbatch --export=NONE --partition centos7 /scratch/naive_activecatinous42727.job\n",
      "Submitted batch job 3045290\n",
      "\n",
      "naive_activecatinous21067\n",
      "sshpass -f ~/.ssh/pass ssh cn1.cir.meduniwien.ac.at sbatch --export=NONE --partition centos7 /scratch/naive_activecatinous21067.job\n",
      "Submitted batch job 3045291\n",
      "\n",
      "naive_activecatinous03072\n",
      "sshpass -f ~/.ssh/pass ssh cn1.cir.meduniwien.ac.at sbatch --export=NONE --partition centos7 /scratch/naive_activecatinous03072.job\n",
      "Submitted batch job 3045292\n",
      "\n",
      "naive_activecatinous38577\n",
      "sshpass -f ~/.ssh/pass ssh cn1.cir.meduniwien.ac.at sbatch --export=NONE --partition centos7 /scratch/naive_activecatinous38577.job\n",
      "Submitted batch job 3045293\n",
      "\n",
      "naive_activecatinous91553\n",
      "sshpass -f ~/.ssh/pass ssh cn1.cir.meduniwien.ac.at sbatch --export=NONE --partition centos7 /scratch/naive_activecatinous91553.job\n",
      "Submitted batch job 3045294\n",
      "\n",
      "naive_activecatinous08167\n",
      "sshpass -f ~/.ssh/pass ssh cn1.cir.meduniwien.ac.at sbatch --export=NONE --partition centos7 /scratch/naive_activecatinous08167.job\n",
      "Submitted batch job 3045295\n",
      "\n",
      "naive_activecatinous28686\n",
      "sshpass -f ~/.ssh/pass ssh cn1.cir.meduniwien.ac.at sbatch --export=NONE --partition centos7 /scratch/naive_activecatinous28686.job\n",
      "Submitted batch job 3045296\n",
      "\n",
      "naive_activecatinous92418\n",
      "sshpass -f ~/.ssh/pass ssh cn1.cir.meduniwien.ac.at sbatch --export=NONE --partition centos7 /scratch/naive_activecatinous92418.job\n",
      "Submitted batch job 3045297\n",
      "\n",
      "naive_activecatinous53641\n",
      "sshpass -f ~/.ssh/pass ssh cn1.cir.meduniwien.ac.at sbatch --export=NONE --partition centos7 /scratch/naive_activecatinous53641.job\n",
      "Submitted batch job 3045298\n",
      "\n",
      "naive_activecatinous09852\n",
      "sshpass -f ~/.ssh/pass ssh cn1.cir.meduniwien.ac.at sbatch --export=NONE --partition centos7 /scratch/naive_activecatinous09852.job\n",
      "Submitted batch job 3045299\n",
      "\n",
      "naive_activecatinous11135\n",
      "sshpass -f ~/.ssh/pass ssh cn1.cir.meduniwien.ac.at sbatch --export=NONE --partition centos7 /scratch/naive_activecatinous11135.job\n",
      "Submitted batch job 3045300\n",
      "\n",
      "naive_activecatinous38472\n",
      "sshpass -f ~/.ssh/pass ssh cn1.cir.meduniwien.ac.at sbatch --export=NONE --partition centos7 /scratch/naive_activecatinous38472.job\n",
      "Submitted batch job 3045301\n",
      "\n",
      "naive_activecatinous80094\n",
      "sshpass -f ~/.ssh/pass ssh cn1.cir.meduniwien.ac.at sbatch --export=NONE --partition centos7 /scratch/naive_activecatinous80094.job\n",
      "Submitted batch job 3045302\n",
      "\n",
      "naive_activecatinous26648\n",
      "sshpass -f ~/.ssh/pass ssh cn1.cir.meduniwien.ac.at sbatch --export=NONE --partition centos7 /scratch/naive_activecatinous26648.job\n",
      "Submitted batch job 3045303\n",
      "\n",
      "naive_activecatinous08736\n",
      "sshpass -f ~/.ssh/pass ssh cn1.cir.meduniwien.ac.at sbatch --export=NONE --partition centos7 /scratch/naive_activecatinous08736.job\n",
      "Submitted batch job 3045304\n",
      "\n",
      "naive_activecatinous48823\n",
      "sshpass -f ~/.ssh/pass ssh cn1.cir.meduniwien.ac.at sbatch --export=NONE --partition centos7 /scratch/naive_activecatinous48823.job\n",
      "Submitted batch job 3045305\n",
      "\n",
      "naive_activecatinous87098\n",
      "sshpass -f ~/.ssh/pass ssh cn1.cir.meduniwien.ac.at sbatch --export=NONE --partition centos7 /scratch/naive_activecatinous87098.job\n",
      "Submitted batch job 3045306\n",
      "\n",
      "naive_activecatinous49367\n",
      "sshpass -f ~/.ssh/pass ssh cn1.cir.meduniwien.ac.at sbatch --export=NONE --partition centos7 /scratch/naive_activecatinous49367.job\n",
      "Submitted batch job 3045307\n",
      "\n",
      "naive_activecatinous03272\n",
      "sshpass -f ~/.ssh/pass ssh cn1.cir.meduniwien.ac.at sbatch --export=NONE --partition centos7 /scratch/naive_activecatinous03272.job\n",
      "Submitted batch job 3045308\n",
      "\n"
     ]
    }
   ],
   "source": [
    "#experiments with startbudget of memory max 64 and 128\n",
    "# 1/20 = 85\n",
    "# 1/15 = 113\n",
    "# 1/10 = 170\n",
    "# 1/8 = 212\n",
    "# 1/5 = 340\n",
    "\n",
    "schedule = True\n",
    "\n",
    "sparams = {\n",
    "    'binary': '/home/cir/mperkonigg/env/catinous/bin/python',\n",
    "    'cwd': '/home/cir/mperkonigg/catinous/active_catinous/',\n",
    "    'gpu': 1,\n",
    "    'partition': 'centos7',\n",
    "    'memory': 100000,\n",
    "    'constraint': 'bigGPUmem',\n",
    "    'jobname': 'naive_activecatinous',\n",
    "    'outputpath': '/home/cir/mperkonigg/slurmoutput/',\n",
    "    'mailuser': 'matthias.perkonigg@meduniwien.ac.at',\n",
    "    'minutes': '300'}\n",
    "\n",
    "hparams={'continuous': True,\n",
    "         'use_memory': True,\n",
    "         'naive_continuous': True,\n",
    "         'naive_continuous_rate':15,\n",
    "        'datasetfile': '/project/catinous/brainds_split.csv',\n",
    "        'base_model': 'batch_brainds_split_base_train_1_af4af4fb90.pt',\n",
    "        'val_check_interval': 10,\n",
    "        'run_postfix': 1,\n",
    "        'memorymaximum': 32,\n",
    "        'force_misclassified':True,\n",
    "        'completion_limit': 6.5,\n",
    "        'batch_size': 2,\n",
    "        'training_batch_size': 4,\n",
    "         'learning_rate': 0.00001,\n",
    "         'random_cache': True,\n",
    "         'gradient_clip_val': 0.5,\n",
    "         'allowedlabelratio': 0,\n",
    "         'transition_phase_after':0.7\n",
    "        }\n",
    "\n",
    "\n",
    "continuous_rate = [20, 10, 8, 5]\n",
    "memorymaximas = [64, 128]\n",
    "\n",
    "for i in range(3):\n",
    "    for cr in continuous_rate:\n",
    "        for mm in memorymaximas:\n",
    "            hparams['naive_continuous_rate'] = cr\n",
    "            hparams['memorymaximum'] = mm\n",
    "            hparams['run_postfix'] = i+1\n",
    "            if schedule:\n",
    "                slurm.srun(braincatsmodel.trained_model, [hparams], params=sparams, remote=True)\n",
    "            else:\n",
    "                model, logs, df_cache, basemodel_lr = braincatsmodel.trained_model(hparams)"
   ]
  },
  {
   "cell_type": "code",
   "execution_count": 2,
   "metadata": {},
   "outputs": [
    {
     "name": "stdout",
     "output_type": "stream",
     "text": [
      "naive_activecatinous74416\n",
      "sshpass -f ~/.ssh/pass ssh cn1.cir.meduniwien.ac.at sbatch --export=NONE --partition centos7 /scratch/naive_activecatinous74416.job\n",
      "Submitted batch job 3057555\n",
      "\n",
      "naive_activecatinous79719\n",
      "sshpass -f ~/.ssh/pass ssh cn1.cir.meduniwien.ac.at sbatch --export=NONE --partition centos7 /scratch/naive_activecatinous79719.job\n",
      "Submitted batch job 3057556\n",
      "\n",
      "naive_activecatinous50396\n",
      "sshpass -f ~/.ssh/pass ssh cn1.cir.meduniwien.ac.at sbatch --export=NONE --partition centos7 /scratch/naive_activecatinous50396.job\n",
      "Submitted batch job 3057557\n",
      "\n"
     ]
    }
   ],
   "source": [
    "#experiments with startbudget of memory max 64 and 128\n",
    "# 1/20 = 85\n",
    "# 1/15 = 113\n",
    "# 1/10 = 170\n",
    "# 1/8 = 212\n",
    "# 1/5 = 340\n",
    "\n",
    "schedule = True\n",
    "\n",
    "sparams = {\n",
    "    'binary': '/home/cir/mperkonigg/env/catinous/bin/python',\n",
    "    'cwd': '/home/cir/mperkonigg/catinous/active_catinous/',\n",
    "    'gpu': 1,\n",
    "    'partition': 'centos7',\n",
    "    'memory': 100000,\n",
    "    'constraint': 'bigGPUmem',\n",
    "    'jobname': 'naive_activecatinous',\n",
    "    'outputpath': '/home/cir/mperkonigg/slurmoutput/',\n",
    "    'mailuser': 'matthias.perkonigg@meduniwien.ac.at',\n",
    "    'minutes': '300'}\n",
    "\n",
    "hparams={'continuous': True,\n",
    "         'use_memory': True,\n",
    "         'naive_continuous': True,\n",
    "         'naive_continuous_rate':15,\n",
    "        'datasetfile': '/project/catinous/brainds_split.csv',\n",
    "        'base_model': 'batch_brainds_split_base_train_1_af4af4fb90.pt',\n",
    "        'val_check_interval': 10,\n",
    "        'run_postfix': 1,\n",
    "        'memorymaximum': 32,\n",
    "        'force_misclassified':True,\n",
    "        'completion_limit': 6.5,\n",
    "        'batch_size': 2,\n",
    "        'training_batch_size': 4,\n",
    "         'learning_rate': 0.00001,\n",
    "         'random_cache': True,\n",
    "         'gradient_clip_val': 0.5,\n",
    "         'allowedlabelratio': 0,\n",
    "         'transition_phase_after':0.7\n",
    "        }\n",
    "\n",
    "hparams['naive_continuous_rate'] = 10\n",
    "hparams['memorymaximum'] = 64\n",
    "hparams['run_postfix'] = 2\n",
    "if schedule:\n",
    "    slurm.srun(braincatsmodel.trained_model, [hparams], params=sparams, remote=True)\n",
    "else:\n",
    "    model, logs, df_cache, basemodel_lr = braincatsmodel.trained_model(hparams)\n",
    "    \n",
    "hparams['naive_continuous_rate'] = 10\n",
    "hparams['memorymaximum'] = 64\n",
    "hparams['run_postfix'] = 3\n",
    "if schedule:\n",
    "    slurm.srun(braincatsmodel.trained_model, [hparams], params=sparams, remote=True)\n",
    "else:\n",
    "    model, logs, df_cache, basemodel_lr = braincatsmodel.trained_model(hparams)\n",
    "    \n",
    "    \n",
    "hparams['naive_continuous_rate'] = 8\n",
    "hparams['memorymaximum'] = 128\n",
    "hparams['run_postfix'] = 2\n",
    "if schedule:\n",
    "    slurm.srun(braincatsmodel.trained_model, [hparams], params=sparams, remote=True)\n",
    "else:\n",
    "    model, logs, df_cache, basemodel_lr = braincatsmodel.trained_model(hparams)"
   ]
  },
  {
   "cell_type": "code",
   "execution_count": 6,
   "metadata": {},
   "outputs": [],
   "source": [
    "def test_model(model, ds, device):\n",
    "    output = []\n",
    "    target = []\n",
    "    for data in ds:\n",
    "        x, y, img, res = data\n",
    "        x = x.float().to(device)\n",
    "        y_out = model.forward(x)\n",
    "\n",
    "        target.extend(y.detach().cpu().numpy())\n",
    "        output.extend([o[0] for o in y_out.detach().cpu().numpy()])\n",
    "        \n",
    "        model.grammatrices = []\n",
    "        \n",
    "    return target, output\n",
    "\n",
    "def test_hparams(hparams, dev='cuda'):\n",
    "    device = torch.device(dev)\n",
    "    test_phil15 = DataLoader(BrainAgeDataset('/project/catinous/brainds_split.csv', split='test', res='1.5T Philips'), batch_size=4, num_workers=4)\n",
    "    test_phil30 = DataLoader(BrainAgeDataset('/project/catinous/brainds_split.csv', split='test', res='3.0T Philips'), batch_size=4, num_workers=4)\n",
    "    test_30 = DataLoader(BrainAgeDataset('/project/catinous/brainds_split.csv', split='test', res='3.0T'), batch_size=4, num_workers=4)\n",
    "    \n",
    "    model, logs, df_cache, basemodel_lr = braincatsmodel.trained_model(hparams, train=False)\n",
    "    \n",
    "    target_15, output_15 = test_model(model, test_phil15, device)\n",
    "    print('test phil 15', mean_absolute_error(target_15, output_15))\n",
    "    target_30, output_30 = test_model(model, test_phil30, device)\n",
    "    print('test phil 30', mean_absolute_error(target_30, output_30))\n",
    "    target, output = test_model(model, test_30, device)\n",
    "    print('test 30', mean_absolute_error(target, output))"
   ]
  },
  {
   "cell_type": "code",
   "execution_count": 3,
   "metadata": {},
   "outputs": [],
   "source": [
    "hparams={'continuous': True,\n",
    "         'use_memory':True,\n",
    "        'datasetfile': '/project/catinous/brainds_split.csv',\n",
    "        'base_model': 'batch_brainds_split_base_train_1_af4af4fb90.pt',\n",
    "        'val_check_interval': 30,\n",
    "        'run_postfix': 1,\n",
    "        'memorymaximum': 64,\n",
    "        'force_misclassified':True,\n",
    "        'completion_limit': 6.5,\n",
    "        'batch_size': 2,\n",
    "        'training_batch_size': 4,\n",
    "         'learning_rate': 0.00001,\n",
    "         'random_cache': True,\n",
    "         'gradient_clip_val': 0.5,\n",
    "         'allowedlabelratio': 0\n",
    "        }"
   ]
  },
  {
   "cell_type": "code",
   "execution_count": 4,
   "metadata": {},
   "outputs": [
    {
     "name": "stdout",
     "output_type": "stream",
     "text": [
      "init\n",
      "64\n",
      "/project/catinous/active_catinous/trained_models/cont_brainds_split_basemodel_brainds_fmiss_memory_tf08_1_a4e882795d.pt\n",
      "Read: /project/catinous/active_catinous/trained_models/cont_brainds_split_basemodel_brainds_fmiss_memory_tf08_1_a4e882795d.pt\n",
      "test phil 15 7.734721\n",
      "test phil 30 8.738034\n",
      "test 30 9.165479\n"
     ]
    }
   ],
   "source": [
    "hparams['startbudget'] = 340\n",
    "test_hparams(hparams)"
   ]
  },
  {
   "cell_type": "code",
   "execution_count": 5,
   "metadata": {},
   "outputs": [
    {
     "name": "stdout",
     "output_type": "stream",
     "text": [
      "init\n",
      "128\n",
      "/project/catinous/active_catinous/trained_models/cont_brainds_split_basemodel_brainds_fmiss_memory_tf08_1_10c966b4b1.pt\n",
      "Read: /project/catinous/active_catinous/trained_models/cont_brainds_split_basemodel_brainds_fmiss_memory_tf08_1_10c966b4b1.pt\n",
      "test phil 15 10.593702\n",
      "test phil 30 9.637116\n",
      "test 30 7.652421\n"
     ]
    }
   ],
   "source": [
    "hparams['memorymaximum'] = 128\n",
    "hparams['startbudget'] = 340\n",
    "test_hparams(hparams)"
   ]
  },
  {
   "cell_type": "code",
   "execution_count": 4,
   "metadata": {},
   "outputs": [
    {
     "name": "stdout",
     "output_type": "stream",
     "text": [
      "init\n",
      "64\n",
      "/project/catinous/active_catinous/trained_models/cont_brainds_split_basemodel_brainds_fmiss_memory_tf08_1_f2015c6759.pt\n",
      "Read: /project/catinous/active_catinous/trained_models/cont_brainds_split_basemodel_brainds_fmiss_memory_tf08_1_f2015c6759.pt\n",
      "test phil 15 7.535403\n",
      "test phil 30 9.165476\n",
      "test 30 8.642139\n"
     ]
    }
   ],
   "source": [
    "hparams['startbudget'] = 212\n",
    "test_hparams(hparams)"
   ]
  },
  {
   "cell_type": "code",
   "execution_count": 4,
   "metadata": {},
   "outputs": [
    {
     "name": "stdout",
     "output_type": "stream",
     "text": [
      "init\n",
      "128\n",
      "/project/catinous/active_catinous/trained_models/cont_brainds_split_basemodel_brainds_fmiss_memory_tf08_1_976da7a5c0.pt\n",
      "Read: /project/catinous/active_catinous/trained_models/cont_brainds_split_basemodel_brainds_fmiss_memory_tf08_1_976da7a5c0.pt\n",
      "test phil 15 9.43274\n",
      "test phil 30 9.942894\n",
      "test 30 8.293361\n"
     ]
    }
   ],
   "source": [
    "hparams['memorymaximum'] = 128\n",
    "hparams['startbudget'] = 212\n",
    "test_hparams(hparams)"
   ]
  },
  {
   "cell_type": "code",
   "execution_count": 4,
   "metadata": {},
   "outputs": [
    {
     "name": "stdout",
     "output_type": "stream",
     "text": [
      "init\n",
      "64\n",
      "/project/catinous/active_catinous/trained_models/cont_brainds_split_basemodel_brainds_fmiss_memory_tf08_1_0852e230e6.pt\n",
      "Read: /project/catinous/active_catinous/trained_models/cont_brainds_split_basemodel_brainds_fmiss_memory_tf08_1_0852e230e6.pt\n",
      "test phil 15 8.0726185\n",
      "test phil 30 8.782521\n",
      "test 30 8.608504\n"
     ]
    }
   ],
   "source": [
    "hparams['startbudget'] = 212\n",
    "hparams['learning_rate'] = 0.0001\n",
    "test_hparams(hparams)"
   ]
  },
  {
   "cell_type": "code",
   "execution_count": 4,
   "metadata": {},
   "outputs": [
    {
     "name": "stdout",
     "output_type": "stream",
     "text": [
      "init\n",
      "64\n",
      "/project/catinous/active_catinous/trained_models/cont_brainds_split_basemodel_brainds_fmiss_memory_tf08_1_36e539216f.pt\n",
      "Read: /project/catinous/active_catinous/trained_models/cont_brainds_split_basemodel_brainds_fmiss_memory_tf08_1_36e539216f.pt\n",
      "test phil 15 8.222592\n",
      "test phil 30 8.633889\n",
      "test 30 9.691646\n"
     ]
    }
   ],
   "source": [
    "hparams['startbudget'] = 170\n",
    "test_hparams(hparams)"
   ]
  },
  {
   "cell_type": "code",
   "execution_count": 4,
   "metadata": {},
   "outputs": [
    {
     "name": "stdout",
     "output_type": "stream",
     "text": [
      "init\n",
      "128\n",
      "/project/catinous/active_catinous/trained_models/cont_brainds_split_basemodel_brainds_fmiss_memory_tf08_1_6d9047026b.pt\n",
      "Read: /project/catinous/active_catinous/trained_models/cont_brainds_split_basemodel_brainds_fmiss_memory_tf08_1_6d9047026b.pt\n",
      "test phil 15 10.407262\n",
      "test phil 30 9.433815\n",
      "test 30 8.557557\n"
     ]
    }
   ],
   "source": [
    "hparams['memorymaximum'] = 128\n",
    "hparams['startbudget'] = 170\n",
    "test_hparams(hparams)"
   ]
  },
  {
   "cell_type": "code",
   "execution_count": 4,
   "metadata": {},
   "outputs": [
    {
     "name": "stdout",
     "output_type": "stream",
     "text": [
      "init\n",
      "64\n",
      "/project/catinous/active_catinous/trained_models/cont_brainds_split_basemodel_brainds_fmiss_memory_tf08_1_a9eba22ef7.pt\n",
      "Read: /project/catinous/active_catinous/trained_models/cont_brainds_split_basemodel_brainds_fmiss_memory_tf08_1_a9eba22ef7.pt\n",
      "No columns to parse from file\n",
      "test phil 15 6.8602114\n",
      "test phil 30 12.195896\n",
      "test 30 12.864751\n"
     ]
    }
   ],
   "source": [
    "hparams['startbudget'] = 85\n",
    "test_hparams(hparams)"
   ]
  },
  {
   "cell_type": "code",
   "execution_count": 3,
   "metadata": {},
   "outputs": [],
   "source": [
    "hparams={'continuous': True,\n",
    "         'use_memory': True,\n",
    "         'naive_continuous': True,\n",
    "        'datasetfile': '/project/catinous/brainds_split.csv',\n",
    "        'base_model': 'batch_brainds_split_base_train_1_af4af4fb90.pt',\n",
    "        'val_check_interval': 30,\n",
    "        'run_postfix': 1,\n",
    "        'memorymaximum': 64,\n",
    "        'force_misclassified':True,\n",
    "        'completion_limit': 6.5,\n",
    "        'batch_size': 2,\n",
    "        'training_batch_size': 4,\n",
    "         'learning_rate': 0.00001,\n",
    "         'random_cache': True,\n",
    "         'gradient_clip_val': 0.5,\n",
    "         'allowedlabelratio': 0,\n",
    "        }"
   ]
  },
  {
   "cell_type": "code",
   "execution_count": 4,
   "metadata": {},
   "outputs": [
    {
     "name": "stdout",
     "output_type": "stream",
     "text": [
      "init\n",
      "/project/catinous/active_catinous/trained_models/cont_naive_brainds_split_basemodel_brainds_fmiss_memory_tf08_1_41354bd7b6.pt\n",
      "Read: /project/catinous/active_catinous/trained_models/cont_naive_brainds_split_basemodel_brainds_fmiss_memory_tf08_1_41354bd7b6.pt\n",
      "test phil 15 8.129477\n",
      "test phil 30 10.051588\n",
      "test 30 7.8155146\n"
     ]
    }
   ],
   "source": [
    "hparams['naive_continuous_rate'] = 5\n",
    "test_hparams(hparams)"
   ]
  },
  {
   "cell_type": "code",
   "execution_count": 4,
   "metadata": {},
   "outputs": [
    {
     "name": "stdout",
     "output_type": "stream",
     "text": [
      "init\n",
      "/project/catinous/active_catinous/trained_models/cont_naive_brainds_split_basemodel_brainds_fmiss_memory_tf08_1_518d2c6fdc.pt\n",
      "Read: /project/catinous/active_catinous/trained_models/cont_naive_brainds_split_basemodel_brainds_fmiss_memory_tf08_1_518d2c6fdc.pt\n",
      "test phil 15 7.5707746\n",
      "test phil 30 9.707224\n",
      "test 30 8.643781\n"
     ]
    }
   ],
   "source": [
    "hparams['naive_continuous_rate'] = 8\n",
    "test_hparams(hparams)"
   ]
  },
  {
   "cell_type": "code",
   "execution_count": null,
   "metadata": {},
   "outputs": [],
   "source": [
    "hparams['naive_continuous_rate'] = 10\n",
    "test_hparams(hparams)"
   ]
  },
  {
   "cell_type": "code",
   "execution_count": 4,
   "metadata": {},
   "outputs": [
    {
     "name": "stdout",
     "output_type": "stream",
     "text": [
      "init\n",
      "/project/catinous/active_catinous/trained_models/cont_naive_brainds_split_basemodel_brainds_fmiss_memory_tf08_1_5231941cc4.pt\n",
      "Read: /project/catinous/active_catinous/trained_models/cont_naive_brainds_split_basemodel_brainds_fmiss_memory_tf08_1_5231941cc4.pt\n",
      "test phil 15 7.5746155\n",
      "test phil 30 10.89379\n",
      "test 30 8.107142\n"
     ]
    }
   ],
   "source": [
    "hparams['naive_continuous_rate'] = 20\n",
    "test_hparams(hparams)"
   ]
  },
  {
   "cell_type": "code",
   "execution_count": 5,
   "metadata": {},
   "outputs": [
    {
     "name": "stdout",
     "output_type": "stream",
     "text": [
      "phil 15 10.666701\n",
      "phil 30 8.456664\n",
      "30 8.365326\n"
     ]
    }
   ],
   "source": [
    "# lr 0.00001, cache 64, completion limit 6.5\n",
    "\n",
    "target_15, output_15 = test_model(model, val_phil15, device)\n",
    "print('val phil 15', mean_absolute_error(target_15, output_15))\n",
    "target_30, output_30 = test_model(model, val_phil30, device)\n",
    "print('val phil 30', mean_absolute_error(target_30, output_30))\n",
    "target, output = test_model(model, val_30, device)\n",
    "print('val 30', mean_absolute_error(target, output))"
   ]
  },
  {
   "cell_type": "code",
   "execution_count": 5,
   "metadata": {},
   "outputs": [
    {
     "name": "stdout",
     "output_type": "stream",
     "text": [
      "test phil 15 7.6996946\n",
      "test phil 30 9.11212\n",
      "test 30 8.534444\n"
     ]
    }
   ],
   "source": [
    "# lr 0.00001, cache 64, completion limit 6.5\n",
    "\n",
    "target_15, output_15 = test_model(model, test_phil15, device)\n",
    "print('test phil 15', mean_absolute_error(target_15, output_15))\n",
    "target_30, output_30 = test_model(model, test_phil30, device)\n",
    "print('test phil 30', mean_absolute_error(target_30, output_30))\n",
    "target, output = test_model(model, test_30, device)\n",
    "print('test 30', mean_absolute_error(target, output))"
   ]
  },
  {
   "cell_type": "code",
   "execution_count": 6,
   "metadata": {},
   "outputs": [
    {
     "name": "stdout",
     "output_type": "stream",
     "text": [
      "test phil 15 9.165473\n",
      "test phil 30 9.36241\n",
      "test 30 8.85728\n"
     ]
    }
   ],
   "source": [
    "# lr 0.00001, cache 64, completion limit 6.5\n",
    "\n",
    "target_15, output_15 = test_model(model, test_phil15, device)\n",
    "print('test phil 15', mean_absolute_error(target_15, output_15))\n",
    "target_30, output_30 = test_model(model, test_phil30, device)\n",
    "print('test phil 30', mean_absolute_error(target_30, output_30))\n",
    "target, output = test_model(model, test_30, device)\n",
    "print('test 30', mean_absolute_error(target, output))"
   ]
  },
  {
   "cell_type": "code",
   "execution_count": 6,
   "metadata": {},
   "outputs": [
    {
     "name": "stdout",
     "output_type": "stream",
     "text": [
      "test phil 15 9.165473\n",
      "test phil 30 9.36241\n",
      "test 30 8.85728\n"
     ]
    }
   ],
   "source": [
    "# lr 0.00001, cache 64, completion limit 6.5\n",
    "\n",
    "target_15, output_15 = test_model(model, test_phil15, device)\n",
    "print('test phil 15', mean_absolute_error(target_15, output_15))\n",
    "target_30, output_30 = test_model(model, test_phil30, device)\n",
    "print('test phil 30', mean_absolute_error(target_30, output_30))\n",
    "target, output = test_model(model, test_30, device)\n",
    "print('test 30', mean_absolute_error(target, output))"
   ]
  },
  {
   "cell_type": "code",
   "execution_count": 5,
   "metadata": {},
   "outputs": [
    {
     "name": "stdout",
     "output_type": "stream",
     "text": [
      "phil 15 10.048024\n",
      "phil 30 14.706595\n",
      "30 11.786385\n"
     ]
    }
   ],
   "source": [
    "# lr 0.000001, cache 64, completion limit 6.5\n",
    "\n",
    "target_15, output_15 = test_model(model, val_phil15, device)\n",
    "print('phil 15', mean_absolute_error(target_15, output_15))\n",
    "target_30, output_30 = test_model(model, val_phil30, device)\n",
    "print('phil 30', mean_absolute_error(target_30, output_30))\n",
    "target, output = test_model(model, val_30, device)\n",
    "print('30', mean_absolute_error(target, output))"
   ]
  },
  {
   "cell_type": "code",
   "execution_count": null,
   "metadata": {},
   "outputs": [],
   "source": [
    "phil 15 6.451279\n",
    "phil 30 11.190129\n",
    "30 16.200583"
   ]
  },
  {
   "cell_type": "code",
   "execution_count": 26,
   "metadata": {},
   "outputs": [
    {
     "data": {
      "text/plain": [
       "<matplotlib.axes._subplots.AxesSubplot at 0x7f9ad8bedb00>"
      ]
     },
     "execution_count": 26,
     "metadata": {},
     "output_type": "execute_result"
    },
    {
     "data": {
      "image/png": "[encoded data removed]",
      "text/plain": [
       "<Figure size 504x360 with 1 Axes>"
      ]
     },
     "metadata": {
      "needs_background": "light"
     },
     "output_type": "display_data"
    }
   ],
   "source": [
    "fig, ax = plt.subplots(1,1, figsize=(7, 5))\n",
    "ax.set_xlim([0, 100])\n",
    "sns.kdeplot(target_15, shade=True, ax=ax, label='1.5T Philips')\n",
    "sns.kdeplot(target_30, shade=True, ax=ax, label='3.0T Philips')\n",
    "sns.kdeplot(target, shade=True, ax=ax, label='3.0T Siemens')"
   ]
  },
  {
   "cell_type": "code",
   "execution_count": 6,
   "metadata": {},
   "outputs": [
    {
     "data": {
      "text/plain": [
       "<matplotlib.legend.Legend at 0x7f214470b550>"
      ]
     },
     "execution_count": 6,
     "metadata": {},
     "output_type": "execute_result"
    },
    {
     "data": {
      "image/png": "[encoded data removed]",
      "text/plain": [
       "<Figure size 504x360 with 1 Axes>"
      ]
     },
     "metadata": {
      "needs_background": "light"
     },
     "output_type": "display_data"
    }
   ],
   "source": [
    "fig, ax = plt.subplots(1,1, figsize=(7, 5))\n",
    "ax.set_xlim([0, 100])\n",
    "sns.kdeplot(output_15, shade=True, ax=ax, label='1.5T Philips')\n",
    "sns.kdeplot(output_30, shade=True, ax=ax, label='3.0T Philips')\n",
    "sns.kdeplot(output, shade=True, ax=ax, label='3.0T Siemens')\n",
    "ax.legend()"
   ]
  },
  {
   "cell_type": "code",
   "execution_count": 8,
   "metadata": {},
   "outputs": [
    {
     "data": {
      "text/plain": [
       "<matplotlib.axes._subplots.AxesSubplot at 0x7f9b6e6c1278>"
      ]
     },
     "execution_count": 8,
     "metadata": {},
     "output_type": "execute_result"
    },
    {
     "data": {
      "image/png": "[encoded data removed]",
      "text/plain": [
       "<Figure size 432x288 with 1 Axes>"
      ]
     },
     "metadata": {
      "needs_background": "light"
     },
     "output_type": "display_data"
    }
   ],
   "source": [
    "sns.kdeplot(output_15, shade=True)\n",
    "sns.kdeplot(target_15, shade=True)"
   ]
  },
  {
   "cell_type": "code",
   "execution_count": 9,
   "metadata": {},
   "outputs": [
    {
     "data": {
      "text/plain": [
       "<matplotlib.axes._subplots.AxesSubplot at 0x7f9be44dfba8>"
      ]
     },
     "execution_count": 9,
     "metadata": {},
     "output_type": "execute_result"
    },
    {
     "data": {
      "image/png": "[encoded data removed]",
      "text/plain": [
       "<Figure size 432x288 with 1 Axes>"
      ]
     },
     "metadata": {
      "needs_background": "light"
     },
     "output_type": "display_data"
    }
   ],
   "source": [
    "sns.kdeplot(output_30, shade=True)\n",
    "sns.kdeplot(target_30, shade=True)"
   ]
  },
  {
   "cell_type": "code",
   "execution_count": 10,
   "metadata": {},
   "outputs": [
    {
     "data": {
      "text/plain": [
       "<matplotlib.axes._subplots.AxesSubplot at 0x7f9b6e5c9208>"
      ]
     },
     "execution_count": 10,
     "metadata": {},
     "output_type": "execute_result"
    },
    {
     "data": {
      "image/png": "[encoded data removed]",
      "text/plain": [
       "<Figure size 432x288 with 1 Axes>"
      ]
     },
     "metadata": {
      "needs_background": "light"
     },
     "output_type": "display_data"
    }
   ],
   "source": [
    "sns.kdeplot(output, shade=True)\n",
    "sns.kdeplot(target, shade=True)"
   ]
  },
  {
   "cell_type": "code",
   "execution_count": 8,
   "metadata": {},
   "outputs": [
    {
     "data": {
      "text/plain": [
       "2679"
      ]
     },
     "execution_count": 8,
     "metadata": {},
     "output_type": "execute_result"
    }
   ],
   "source": [
    "df = pd.read_csv('/project/catinous/brainds_split.csv')"
   ]
  },
  {
   "cell_type": "code",
   "execution_count": 7,
   "metadata": {},
   "outputs": [],
   "source": [
    "gram1 = np.array([-0.01316056, 0.01297002,  0.01034372, -0.01889127, -0.0077553, 0.01073803,\n",
    "                      -0.02623499, 0.12702392, -0.02179161, -0.02619308, 0.07392235, 0.00097519,\n",
    "                      0.01510646, 0.00574221, 0.04500553, 0.06350208, 0.01094581, -0.04030469,\n",
    "                      0.05210259, 0.02890038, 0.03643065, 0.0147496, -0.02249765, 0.086908,\n",
    "                      0.05209908,  0.01729487,  0.0067578,0.05051985, -0.03565041,  0.06045241])"
   ]
  },
  {
   "cell_type": "code",
   "execution_count": 4,
   "metadata": {},
   "outputs": [],
   "source": [
    "import torch.nn.functional as F"
   ]
  },
  {
   "cell_type": "code",
   "execution_count": 8,
   "metadata": {},
   "outputs": [
    {
     "ename": "TypeError",
     "evalue": "'int' object is not callable",
     "output_type": "error",
     "traceback": [
      "\u001b[0;31m---------------------------------------------------------------------------\u001b[0m",
      "\u001b[0;31mTypeError\u001b[0m                                 Traceback (most recent call last)",
      "\u001b[0;32m<ipython-input-8-509126b2c8f7>\u001b[0m in \u001b[0;36m<module>\u001b[0;34m\u001b[0m\n\u001b[0;32m----> 1\u001b[0;31m \u001b[0mF\u001b[0m\u001b[0;34m.\u001b[0m\u001b[0mmse_loss\u001b[0m\u001b[0;34m(\u001b[0m\u001b[0mgram1\u001b[0m\u001b[0;34m,\u001b[0m \u001b[0mgram1\u001b[0m\u001b[0;34m,\u001b[0m \u001b[0mreduction\u001b[0m\u001b[0;34m=\u001b[0m\u001b[0;34m'mean'\u001b[0m\u001b[0;34m)\u001b[0m\u001b[0;34m\u001b[0m\u001b[0;34m\u001b[0m\u001b[0m\n\u001b[0m",
      "\u001b[0;32m~/.local/lib/python3.6/site-packages/torch/nn/functional.py\u001b[0m in \u001b[0;36mmse_loss\u001b[0;34m(input, target, size_average, reduce, reduction)\u001b[0m\n\u001b[1;32m   2633\u001b[0m                 \u001b[0mmse_loss\u001b[0m\u001b[0;34m,\u001b[0m \u001b[0mtens_ops\u001b[0m\u001b[0;34m,\u001b[0m \u001b[0minput\u001b[0m\u001b[0;34m,\u001b[0m \u001b[0mtarget\u001b[0m\u001b[0;34m,\u001b[0m \u001b[0msize_average\u001b[0m\u001b[0;34m=\u001b[0m\u001b[0msize_average\u001b[0m\u001b[0;34m,\u001b[0m \u001b[0mreduce\u001b[0m\u001b[0;34m=\u001b[0m\u001b[0mreduce\u001b[0m\u001b[0;34m,\u001b[0m\u001b[0;34m\u001b[0m\u001b[0;34m\u001b[0m\u001b[0m\n\u001b[1;32m   2634\u001b[0m                 reduction=reduction)\n\u001b[0;32m-> 2635\u001b[0;31m     \u001b[0;32mif\u001b[0m \u001b[0;32mnot\u001b[0m \u001b[0;34m(\u001b[0m\u001b[0mtarget\u001b[0m\u001b[0;34m.\u001b[0m\u001b[0msize\u001b[0m\u001b[0;34m(\u001b[0m\u001b[0;34m)\u001b[0m \u001b[0;34m==\u001b[0m \u001b[0minput\u001b[0m\u001b[0;34m.\u001b[0m\u001b[0msize\u001b[0m\u001b[0;34m(\u001b[0m\u001b[0;34m)\u001b[0m\u001b[0;34m)\u001b[0m\u001b[0;34m:\u001b[0m\u001b[0;34m\u001b[0m\u001b[0;34m\u001b[0m\u001b[0m\n\u001b[0m\u001b[1;32m   2636\u001b[0m         warnings.warn(\"Using a target size ({}) that is different to the input size ({}). \"\n\u001b[1;32m   2637\u001b[0m                       \u001b[0;34m\"This will likely lead to incorrect results due to broadcasting. \"\u001b[0m\u001b[0;34m\u001b[0m\u001b[0;34m\u001b[0m\u001b[0m\n",
      "\u001b[0;31mTypeError\u001b[0m: 'int' object is not callable"
     ]
    }
   ],
   "source": [
    "F.mse_loss(gram1, gram1, reduction='mean')"
   ]
  },
  {
   "cell_type": "markdown",
   "metadata": {},
   "source": [
    "# BASELINE! Joint training and every thing seperatly"
   ]
  },
  {
   "cell_type": "code",
   "execution_count": 2,
   "metadata": {},
   "outputs": [
    {
     "name": "stdout",
     "output_type": "stream",
     "text": [
      "baseline_activecont72528\n",
      "sshpass -f ~/.ssh/pass ssh mperkonigg@cn5.cir.meduniwien.ac.at sbatch --export=NONE --partition centos7 /scratch/baseline_activecont72528.job\n",
      "Submitted batch job 3063133\n",
      "\n"
     ]
    }
   ],
   "source": [
    "schedule = True\n",
    "\n",
    "sparams = {\n",
    "    'binary': '/home/cir/mperkonigg/env/catinous/bin/python',\n",
    "    'cwd': '/home/cir/mperkonigg/catinous/active_catinous/',\n",
    "    'gpu': 1,\n",
    "    'partition': 'centos7',\n",
    "    'memory': 100000,\n",
    "    'jobname': 'baseline_activecont',\n",
    "    'outputpath': '/home/cir/mperkonigg/slurmoutput/',\n",
    "    'mailuser': 'matthias.perkonigg@meduniwien.ac.at',\n",
    "    'minutes': '240'}\n",
    "\n",
    "hparams={'continuous':False,\n",
    "         'use_memory':False,\n",
    "         'datasetfile': '/project/catinous/brainds_split_val_test_balance_wo_ge.csv',\n",
    "         'noncontinuous_train_splits': ['base_train', 'train'],\n",
    "         'noncontinuous_steps': 4000,\n",
    "         'root_dir': '',\n",
    "         'batch_size': 2,\n",
    "        'learning_rate': 0.0001}\n",
    "\n",
    "if schedule:\n",
    "    slurm.srun(braincatsmodel.trained_model, [hparams], params=sparams, remote=True)\n",
    "else:\n",
    "    model, logs, df_cache, basemodel_lr = braincatsmodel.trained_model(hparams)"
   ]
  },
  {
   "cell_type": "code",
   "execution_count": 3,
   "metadata": {},
   "outputs": [
    {
     "name": "stdout",
     "output_type": "stream",
     "text": [
      "baseline_activecont43188\n",
      "sshpass -f ~/.ssh/pass ssh mperkonigg@cn5.cir.meduniwien.ac.at sbatch --export=NONE --partition centos7 /scratch/baseline_activecont43188.job\n",
      "Submitted batch job 3063134\n",
      "\n"
     ]
    }
   ],
   "source": [
    "schedule = True\n",
    "\n",
    "sparams = {\n",
    "    'binary': '/home/cir/mperkonigg/env/catinous/bin/python',\n",
    "    'cwd': '/home/cir/mperkonigg/catinous/active_catinous/',\n",
    "    'gpu': 1,\n",
    "    'partition': 'centos7',\n",
    "    'memory': 100000,\n",
    "    'jobname': 'baseline_activecont',\n",
    "    'outputpath': '/home/cir/mperkonigg/slurmoutput/',\n",
    "    'mailuser': 'matthias.perkonigg@meduniwien.ac.at',\n",
    "    'minutes': '240'}\n",
    "\n",
    "hparams={'continuous':False,\n",
    "         'use_memory':False,\n",
    "         'datasetfile': '/project/catinous/brainds_split_val_test_balance.csv',\n",
    "         'noncontinuous_train_splits': ['base_train', 'train'],\n",
    "         'noncontinuous_steps': 2000,\n",
    "         'root_dir': '',\n",
    "         'batch_size': 2,\n",
    "        'learning_rate': 0.0001,\n",
    "        'scanner': '1.5T Philips'}\n",
    "\n",
    "if schedule:\n",
    "    slurm.srun(braincatsmodel.trained_model, [hparams], params=sparams, remote=True)\n",
    "else:\n",
    "    model, logs, df_cache, basemodel_lr = braincatsmodel.trained_model(hparams)"
   ]
  },
  {
   "cell_type": "code",
   "execution_count": 4,
   "metadata": {},
   "outputs": [
    {
     "name": "stdout",
     "output_type": "stream",
     "text": [
      "baseline_activecont70526\n",
      "sshpass -f ~/.ssh/pass ssh mperkonigg@cn5.cir.meduniwien.ac.at sbatch --export=NONE --partition centos7 /scratch/baseline_activecont70526.job\n",
      "Submitted batch job 3063135\n",
      "\n"
     ]
    }
   ],
   "source": [
    "schedule = True\n",
    "\n",
    "sparams = {\n",
    "    'binary': '/home/cir/mperkonigg/env/catinous/bin/python',\n",
    "    'cwd': '/home/cir/mperkonigg/catinous/active_catinous/',\n",
    "    'gpu': 1,\n",
    "    'partition': 'centos7',\n",
    "    'memory': 100000,\n",
    "    'jobname': 'baseline_activecont',\n",
    "    'outputpath': '/home/cir/mperkonigg/slurmoutput/',\n",
    "    'mailuser': 'matthias.perkonigg@meduniwien.ac.at',\n",
    "    'minutes': '240'}\n",
    "\n",
    "hparams={'continuous':False,\n",
    "         'use_memory':False,\n",
    "         'datasetfile': '/project/catinous/brainds_split_val_test_balance.csv',\n",
    "         'noncontinuous_train_splits': ['base_train', 'train'],\n",
    "         'noncontinuous_steps': 2000,\n",
    "         'root_dir': '',\n",
    "         'batch_size': 2,\n",
    "        'learning_rate': 0.0001,\n",
    "        'scanner': '3.0T Philips'}\n",
    "\n",
    "if schedule:\n",
    "    slurm.srun(braincatsmodel.trained_model, [hparams], params=sparams, remote=True)\n",
    "else:\n",
    "    model, logs, df_cache, basemodel_lr = braincatsmodel.trained_model(hparams)"
   ]
  },
  {
   "cell_type": "code",
   "execution_count": 5,
   "metadata": {},
   "outputs": [
    {
     "name": "stdout",
     "output_type": "stream",
     "text": [
      "baseline_activecont59485\n",
      "sshpass -f ~/.ssh/pass ssh mperkonigg@cn5.cir.meduniwien.ac.at sbatch --export=NONE --partition centos7 /scratch/baseline_activecont59485.job\n",
      "Submitted batch job 3063136\n",
      "\n"
     ]
    }
   ],
   "source": [
    "schedule = True\n",
    "\n",
    "sparams = {\n",
    "    'binary': '/home/cir/mperkonigg/env/catinous/bin/python',\n",
    "    'cwd': '/home/cir/mperkonigg/catinous/active_catinous/',\n",
    "    'gpu': 1,\n",
    "    'partition': 'centos7',\n",
    "    'memory': 100000,\n",
    "    'jobname': 'baseline_activecont',\n",
    "    'outputpath': '/home/cir/mperkonigg/slurmoutput/',\n",
    "    'mailuser': 'matthias.perkonigg@meduniwien.ac.at',\n",
    "    'minutes': '240'}\n",
    "\n",
    "hparams={'continuous':False,\n",
    "         'use_memory':False,\n",
    "         'datasetfile': '/project/catinous/brainds_split_val_test_balance.csv',\n",
    "         'noncontinuous_train_splits': ['base_train', 'train'],\n",
    "         'noncontinuous_steps': 2000,\n",
    "         'root_dir': '',\n",
    "         'batch_size': 2,\n",
    "        'learning_rate': 0.0001,\n",
    "        'scanner': '3.0T'}\n",
    "\n",
    "if schedule:\n",
    "    slurm.srun(braincatsmodel.trained_model, [hparams], params=sparams, remote=True)\n",
    "else:\n",
    "    model, logs, df_cache, basemodel_lr = braincatsmodel.trained_model(hparams)"
   ]
  },
  {
   "cell_type": "code",
   "execution_count": null,
   "metadata": {},
   "outputs": [],
   "source": [
    "device = torch.device('cuda')\n",
    "hparams={'continuous':False,\n",
    "         #'use_memory':False,\n",
    "         'datasetfile': '/project/catinous/brainds_split.csv',\n",
    "         'noncontinous_train_splits': ['base_train', 'train'],\n",
    "         'noncontinous_steps': 5000,\n",
    "         'root_dir': '',\n",
    "         'batch_size': 2,\n",
    "        'learning_rate': 0.0001}\n",
    "\n",
    "\n",
    "model = FastGramDynamicMemoryBrainAge(hparams, device)\n",
    "model.load_state_dict(torch.load('/project/catinous/active_catinous/trained_models/batch_brainds_split_base_train-train_1_861e8c8d6f.pt'))\n",
    "model.eval()\n",
    "val_phil15 = DataLoader(BrainAgeDataset('/project/catinous/brainds_split.csv', split='val', res='1.5T Philips'), batch_size=4, num_workers=4)\n",
    "val_phil30 = DataLoader(BrainAgeDataset('/project/catinous/brainds_split.csv', split='val', res='3.0T Philips'), batch_size=4, num_workers=4)\n",
    "val_30 = DataLoader(BrainAgeDataset('/project/catinous/brainds_split.csv', split='val', res='3.0T'), batch_size=4, num_workers=4)"
   ]
  },
  {
   "cell_type": "code",
   "execution_count": 6,
   "metadata": {},
   "outputs": [
    {
     "name": "stdout",
     "output_type": "stream",
     "text": [
      "phil 15 7.0311036\n",
      "phil 30 9.228156\n",
      "30 4.966187\n"
     ]
    }
   ],
   "source": [
    "target_15, output_15 = test_model(model, test_phil15, device)\n",
    "print('phil 15', mean_absolute_error(target_15, output_15))\n",
    "target_30, output_30 = test_model(model, test_phil30, device)\n",
    "print('phil 30', mean_absolute_error(target_30, output_30))\n",
    "target, output = test_model(model, test_30, device)\n",
    "print('30', mean_absolute_error(target, output))"
   ]
  },
  {
   "cell_type": "code",
   "execution_count": 7,
   "metadata": {},
   "outputs": [
    {
     "data": {
      "text/plain": [
       "<matplotlib.axes._subplots.AxesSubplot at 0x7f7ea1107710>"
      ]
     },
     "execution_count": 7,
     "metadata": {},
     "output_type": "execute_result"
    },
    {
     "data": {
      "image/png": "[encoded data removed]",
      "text/plain": [
       "<Figure size 432x288 with 1 Axes>"
      ]
     },
     "metadata": {
      "needs_background": "light"
     },
     "output_type": "display_data"
    }
   ],
   "source": [
    "sns.kdeplot(output_30, shade=True)\n",
    "sns.kdeplot(target_30, shade=True)"
   ]
  },
  {
   "cell_type": "code",
   "execution_count": 12,
   "metadata": {},
   "outputs": [
    {
     "data": {
      "text/plain": [
       "<matplotlib.axes._subplots.AxesSubplot at 0x7f7dde256c18>"
      ]
     },
     "execution_count": 12,
     "metadata": {},
     "output_type": "execute_result"
    },
    {
     "data": {
      "image/png": "[encoded data removed]",
      "text/plain": [
       "<Figure size 432x288 with 1 Axes>"
      ]
     },
     "metadata": {
      "needs_background": "light"
     },
     "output_type": "display_data"
    }
   ],
   "source": [
    "sns.kdeplot(output, shade=True)\n",
    "sns.kdeplot(output_15, shade=True)\n",
    "sns.kdeplot(output_30, shade=True)"
   ]
  },
  {
   "cell_type": "code",
   "execution_count": 13,
   "metadata": {},
   "outputs": [
    {
     "data": {
      "text/plain": [
       "<matplotlib.axes._subplots.AxesSubplot at 0x7f7dde1208d0>"
      ]
     },
     "execution_count": 13,
     "metadata": {},
     "output_type": "execute_result"
    },
    {
     "data": {
      "image/png": "[encoded data removed]",
      "text/plain": [
       "<Figure size 432x288 with 1 Axes>"
      ]
     },
     "metadata": {
      "needs_background": "light"
     },
     "output_type": "display_data"
    }
   ],
   "source": [
    "sns.kdeplot(target, shade=True)\n",
    "sns.kdeplot(target_15, shade=True)\n",
    "sns.kdeplot(target_30, shade=True)"
   ]
  },
  {
   "cell_type": "code",
   "execution_count": 5,
   "metadata": {},
   "outputs": [
    {
     "name": "stdout",
     "output_type": "stream",
     "text": [
      "init\n",
      "{}\n"
     ]
    }
   ],
   "source": [
    "device = torch.device('cuda')\n",
    "\n",
    "hparams={'continuous':False,\n",
    "         'datasetfile': '/project/catinous/brainds_split.csv',\n",
    "         'noncontinuous_train_splits': ['base_train'],\n",
    "         'noncontinuous_steps': 2000,\n",
    "         'root_dir': '',\n",
    "         'batch_size': 2,\n",
    "        'learning_rate':0.00001}\n",
    "\n",
    "\n",
    "\n",
    "model = FastGramDynamicMemoryBrainAge(hparams, device)\n",
    "state_dict = torch.load('/project/catinous/active_catinous/trained_models/batch_brainds_split_base_train_1_af4af4fb90.pt')\n",
    "new_state_dict = dict()\n",
    "for key in state_dict.keys():\n",
    "        new_state_dict[key.replace(\"model.\", \"\")] = state_dict[key]\n",
    "model.model.load_state_dict(new_state_dict)\n",
    "model.eval()\n",
    "pass"
   ]
  },
  {
   "cell_type": "code",
   "execution_count": 6,
   "metadata": {},
   "outputs": [
    {
     "name": "stdout",
     "output_type": "stream",
     "text": [
      "phil 15 6.8602114\n",
      "phil 30 12.195896\n",
      "30 12.864751\n"
     ]
    }
   ],
   "source": [
    "target_15, output_15 = test_model(model, test_phil15, device)\n",
    "print('phil 15', mean_absolute_error(target_15, output_15))\n",
    "target_30, output_30 = test_model(model, test_phil30, device)\n",
    "print('phil 30', mean_absolute_error(target_30, output_30))\n",
    "target, output = test_model(model, test_30, device)\n",
    "print('30', mean_absolute_error(target, output))"
   ]
  },
  {
   "cell_type": "code",
   "execution_count": 8,
   "metadata": {},
   "outputs": [],
   "source": [
    "val_phil15 = DataLoader(BrainAgeDataset('/project/catinous/brainds_split.csv', split='val', res='1.5T Philips'), batch_size=4, num_workers=4)\n",
    "val_phil30 = DataLoader(BrainAgeDataset('/project/catinous/brainds_split.csv', split='val', res='3.0T Philips'), batch_size=4, num_workers=4)\n",
    "val_30 = DataLoader(BrainAgeDataset('/project/catinous/brainds_split.csv', split='val', res='3.0T'), batch_size=4, num_workers=4)"
   ]
  },
  {
   "cell_type": "code",
   "execution_count": 9,
   "metadata": {},
   "outputs": [
    {
     "name": "stdout",
     "output_type": "stream",
     "text": [
      "phil 15 8.173025\n",
      "phil 30 12.502894\n",
      "30 13.443603\n"
     ]
    }
   ],
   "source": [
    "target_15, output_15 = test_model(model, val_phil15, device)\n",
    "print('phil 15', mean_absolute_error(target_15, output_15))\n",
    "target_30, output_30 = test_model(model, val_phil30, device)\n",
    "print('phil 30', mean_absolute_error(target_30, output_30))\n",
    "target, output = test_model(model, val_30, device)\n",
    "print('30', mean_absolute_error(target, output))"
   ]
  },
  {
   "cell_type": "code",
   "execution_count": 6,
   "metadata": {},
   "outputs": [
    {
     "name": "stdout",
     "output_type": "stream",
     "text": [
      "phil 15 7.106489\n",
      "phil 30 11.239478\n",
      "30 24.084946\n"
     ]
    }
   ],
   "source": [
    "#1.5T Philips\n",
    "target_15, output_15 = test_model(model, test_phil15, device)\n",
    "print('phil 15', mean_absolute_error(target_15, output_15))\n",
    "target_30, output_30 = test_model(model, test_phil30, device)\n",
    "print('phil 30', mean_absolute_error(target_30, output_30))\n",
    "target, output = test_model(model, test_30, device)\n",
    "print('30', mean_absolute_error(target, output))"
   ]
  },
  {
   "cell_type": "code",
   "execution_count": 6,
   "metadata": {},
   "outputs": [
    {
     "name": "stdout",
     "output_type": "stream",
     "text": [
      "phil 15 21.801609\n",
      "phil 30 6.7252007\n",
      "30 9.425754\n"
     ]
    }
   ],
   "source": [
    "#3.0T Philips\n",
    "target_15, output_15 = test_model(model, test_phil15, device)\n",
    "print('phil 15', mean_absolute_error(target_15, output_15))\n",
    "target_30, output_30 = test_model(model, test_phil30, device)\n",
    "print('phil 30', mean_absolute_error(target_30, output_30))\n",
    "target, output = test_model(model, test_30, device)\n",
    "print('30', mean_absolute_error(target, output))"
   ]
  },
  {
   "cell_type": "code",
   "execution_count": 8,
   "metadata": {},
   "outputs": [
    {
     "name": "stdout",
     "output_type": "stream",
     "text": [
      "phil 15 15.2704\n",
      "phil 30 22.398981\n",
      "30 5.1909504\n"
     ]
    }
   ],
   "source": [
    "#3.0T\n",
    "target_15, output_15 = test_model(model, test_phil15, device)\n",
    "print('phil 15', mean_absolute_error(target_15, output_15))\n",
    "target_30, output_30 = test_model(model, test_phil30, device)\n",
    "print('phil 30', mean_absolute_error(target_30, output_30))\n",
    "target, output = test_model(model, test_30, device)\n",
    "print('30', mean_absolute_error(target, output))"
   ]
  }
 ],
 "metadata": {
  "kernelspec": {
   "display_name": "Python 3",
   "language": "python",
   "name": "python3"
  },
  "language_info": {
   "codemirror_mode": {
    "name": "ipython",
    "version": 3
   },
   "file_extension": ".py",
   "mimetype": "text/x-python",
   "name": "python",
   "nbconvert_exporter": "python",
   "pygments_lexer": "ipython3",
   "version": "3.6.9"
  }
 },
 "nbformat": 4,
 "nbformat_minor": 4
}
