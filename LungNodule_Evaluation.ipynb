{
 "cells": [
  {
   "cell_type": "code",
   "execution_count": 1,
   "metadata": {},
   "outputs": [],
   "source": [
    "from pytorch_lightning import Trainer\n",
    "import active_catinous.FastGramDynamicMemoryLungNodule as lungmodel\n",
    "from active_catinous.FastGramDynamicMemoryLungNodule import FastGramDynamicMemoryLungNodule\n",
    "from datasets.LIDCDataset import LIDCDataset\n",
    "from datasets.LIDCDatasetContinuous import LIDCDatasetContinuous\n",
    "\n",
    "import matplotlib.pyplot as plt\n",
    "from pytorch_lightning.callbacks import ModelCheckpoint\n",
    "from torch.utils.data import DataLoader\n",
    "import os\n",
    "import torchvision.models as models\n",
    "import torch.nn as nn\n",
    "import torch\n",
    "import torch.nn.functional as F\n",
    "import argparse\n",
    "import pytorch_lightning as pl\n",
    "import sklearn \n",
    "from sklearn.metrics import confusion_matrix, auc, roc_curve\n",
    "import torch\n",
    "import pandas as pd\n",
    "#import seaborn as sns\n",
    "import pickle\n",
    "from py_jotools import slurm, cache\n",
    "import numpy as np\n",
    "import gc\n",
    "#from evalscript import eval_testset, eval_forbwtfwt\n",
    "\n",
    "import hashlib\n",
    "import dill\n",
    "import active_catinous.utils as cutils\n",
    "\n",
    "from sklearn.metrics import mean_absolute_error\n",
    "\n",
    "from models.AgePredictor import EncoderRegressor\n",
    "from models.unet3d import EncoderModelGenesis\n",
    "\n",
    "from matplotlib.colors import ListedColormap, LinearSegmentedColormap\n",
    "import matplotlib\n",
    "from glob import glob\n",
    "import datetime \n",
    "import numpy as np\n",
    "import matplotlib.pyplot as plt\n",
    "from matplotlib.colors import LinearSegmentedColormap\n",
    "%load_ext autoreload\n",
    "%autoreload "
   ]
  },
  {
   "cell_type": "code",
   "execution_count": 2,
   "metadata": {},
   "outputs": [
    {
     "data": {
      "image/png": "[encoded data removed]",
      "text/plain": [
       "<Figure size 432x72 with 1 Axes>"
      ]
     },
     "metadata": {
      "needs_background": "light"
     },
     "output_type": "display_data"
    }
   ],
   "source": [
    "mapname = 'roma'\n",
    "\n",
    "cm_data = np.loadtxt(f\"/home/mperkonigg/Documents/ScientificColourMaps6/{mapname}/{mapname}.txt\")\n",
    "#colormap = LinearSegmentedColormap.from_list('scientific_cm', cm_data)\n",
    "#x = np.linspace(0, 100, 25)[None, :]\n",
    "#plt.imshow(x, aspect='auto',cmap=colormap)\n",
    "#plt.axis('off')\n",
    "#plt.show()\n",
    "colormap = ListedColormap([cm_data[0], cm_data[85],cm_data[180], cm_data[20], cm_data[45], cm_data[227]], name='scientific_cm')\n",
    "matplotlib.cm.register_cmap(cmap=colormap, name='scientific_cm')\n",
    "sns.set_palette('scientific_cm')\n",
    "sns.palplot(sns.color_palette())"
   ]
  },
  {
   "cell_type": "code",
   "execution_count": 3,
   "metadata": {},
   "outputs": [
    {
     "data": {
      "image/png": "[encoded data removed]",
      "text/plain": [
       "<Figure size 3600x108 with 1 Axes>"
      ]
     },
     "metadata": {
      "needs_background": "light"
     },
     "output_type": "display_data"
    }
   ],
   "source": [
    "ds = LIDCDatasetContinuous('/project/catinous/lunadata/luna_lunacombined_dataset.csv', transition_phase_after=0.7, seed=2314134)\n",
    "scan = ds.df.res == 'geb'\n",
    "scan[ds.df.res == 'sie'] = 2\n",
    "\n",
    "plt.figure(figsize=(50,1.5))\n",
    "plt.imshow(np.tile(scan,(50,1)), cmap=ListedColormap(colormap.colors[:3]))\n",
    "plt.axis('off')\n",
    "plt.tight_layout()"
   ]
  },
  {
   "cell_type": "code",
   "execution_count": 2,
   "metadata": {},
   "outputs": [],
   "source": [
    "def res_data_for_params(hparams):\n",
    "    df = pd.DataFrame()\n",
    "    base_params = []\n",
    "    for i in range(5):\n",
    "        base_params.append(hparams.copy())\n",
    "        base_params[-1]['run_postfix'] = i+1\n",
    "        if not lungmodel.is_cached(base_params[-1]):\n",
    "            print('not cached')\n",
    "            #slurm.srun(catsmodel.trained_model, [base_params[-1]], params=sparams, remote=True)    \n",
    "        else:\n",
    "            _, df_temp, _, _ = lungmodel.trained_model(base_params[-1], train=False)\n",
    "            df_temp = df_temp.loc[df_temp['val_map_ges']==df_temp['val_map_ges']]\n",
    "            df_temp['idx'] = range(1,len(df_temp)+1)\n",
    "            df = df.append(df_temp)\n",
    "    return df"
   ]
  },
  {
   "cell_type": "code",
   "execution_count": 3,
   "metadata": {},
   "outputs": [
    {
     "name": "stdout",
     "output_type": "stream",
     "text": [
      "reading settings from hparams\n",
      "init\n",
      "init task model\n",
      "read base model\n",
      "only validation, not training the model\n",
      "/project/catinous/active_catinous/trained_models/ln_cont_luna_lunacombined_dataset_malignancy_basemodel_batch_fmiss_memory_tf07_1_186e38666a.pt\n",
      "Read: /project/catinous/active_catinous/trained_models/ln_cont_luna_lunacombined_dataset_malignancy_basemodel_batch_fmiss_memory_tf07_1_186e38666a.pt\n",
      "not cached\n",
      "not cached\n",
      "not cached\n",
      "not cached\n"
     ]
    }
   ],
   "source": [
    "hparams={'continuous': True,\n",
    "         'use_memory':True,\n",
    "        'datasetfile': '/project/catinous/lunadata/luna_lunacombined_dataset_malignancy.csv',\n",
    "         'base_model': 'ln_batch_luna_lunacombined_dataset_malignancy_base_train_1_9ee74b86a3.pt',\n",
    "        'val_check_interval': 10,\n",
    "        'run_postfix': 1,\n",
    "        'batch_size': 4,\n",
    "        'training_batch_size': 4,\n",
    "         'learning_rate': 0.00001,\n",
    "         'len_perf_queue': 8,\n",
    "         'transition_phase_after':0.7,\n",
    "        'memorymaximum': 64,\n",
    "        'completion_limit': 0.6,\n",
    "         'random_cache': True,\n",
    "         'startbudget': 150,\n",
    "         'allowedlabelratio': 0\n",
    "        }\n",
    "\n",
    "df_res = res_data_for_params(hparams)"
   ]
  },
  {
   "cell_type": "code",
   "execution_count": 31,
   "metadata": {},
   "outputs": [
    {
     "data": {
      "text/plain": [
       "<matplotlib.axis.YAxis at 0x7f34c335ae80>"
      ]
     },
     "execution_count": 31,
     "metadata": {},
     "output_type": "execute_result"
    },
    {
     "data": {
      "image/png": "[encoded data removed]",
      "text/plain": [
       "<Figure size 648x432 with 2 Axes>"
      ]
     },
     "metadata": {
      "needs_background": "light"
     },
     "output_type": "display_data"
    }
   ],
   "source": [
    "fig, ax = plt.subplots(2,1, figsize=(9, 6))\n",
    "plt.subplots_adjust(hspace=0.0)\n",
    "\n",
    "sns.lineplot(data=df_res, y='val_mapdet_ges', x='idx', ax=ax[0], err_style=None)\n",
    "sns.lineplot(data=df_res, y='val_mapdet_geb', x='idx', ax=ax[0], err_style=None)\n",
    "sns.lineplot(data=df_res, y='val_mapdet_sie', x='idx', ax=ax[0], err_style=None)\n",
    "\n",
    "ax[0].set_xlim(0, 9)\n",
    "\n",
    "ax[1].imshow(np.tile(scan,(100,1)), cmap=ListedColormap(colormap.colors[:3]), alpha=1.0)\n",
    "ax[1].get_yaxis().set_visible(False)\n",
    "ax[1].get_yaxis()\n"
   ]
  },
  {
   "cell_type": "code",
   "execution_count": 5,
   "metadata": {},
   "outputs": [],
   "source": [
    "def test_model(hparams):\n",
    "    model, logs, df_mem, expname = lungmodel.trained_model(hparams, train=False)\n",
    "    model.eval()\n",
    "    \n",
    "    for res in ['ges', 'geb', 'sie']:\n",
    "        ds_test = LIDCDataset('/project/catinous/lunadata/luna_lunacombined_dataset_malignancy.csv', \n",
    "                      cropped_to=(288, 288), split=['val'], res=res, validation=True)\n",
    "\n",
    "        device = torch.device('cuda')\n",
    "        iou_thres = 0.2\n",
    "\n",
    "        overall_true = 0\n",
    "        overall_wrong = 0\n",
    "        detected_count = 0\n",
    "        not_detected_count = 0 \n",
    "\n",
    "        for batch in ds_test:\n",
    "            img_batch, annot, res, image = batch\n",
    "            img_batch = img_batch.to(device)\n",
    "\n",
    "            out = model.model(img_batch)\n",
    "            out_boxes = [cutils.filter_boxes_area(out[i]['boxes'].cpu().detach().numpy(), out[i]['scores'].cpu().detach().numpy()) for i in range(len(out))]\n",
    "            boxes_np = [b[0] for b in out_boxes]\n",
    "            scores_np = [b[1] for b in out_boxes]\n",
    "\n",
    "            final_boxes, final_scores = cutils.correct_boxes(boxes_np, scores_np)\n",
    "\n",
    "            gt = annot['boxes'][0]\n",
    "            true_pred = 0\n",
    "            wrong_pred = 0\n",
    "            detected = False\n",
    "\n",
    "            if len(final_boxes)>0:\n",
    "                for i, b in enumerate(final_boxes):\n",
    "                    if final_scores[i]>0.5:\n",
    "                        if cutils.bb_intersection_over_union(gt, b)>iou_thres:\n",
    "                            true_pred+=1\n",
    "                            detected = True\n",
    "                        else:\n",
    "                            wrong_pred+=1\n",
    "                if detected:\n",
    "                    detected_count += 1\n",
    "                else:\n",
    "                    not_detected_count += 1\n",
    "            overall_true += true_pred\n",
    "            overall_wrong += wrong_pred\n",
    "        print(f'_____________{res}___________')\n",
    "        print('detections: ', detected_count/(not_detected_count+detected_count))\n",
    "        print('box predictions: ', overall_true/(overall_true+overall_wrong))\n",
    "        print('fp/scan: ', overall_wrong/len(ds_test))"
   ]
  },
  {
   "cell_type": "code",
   "execution_count": 6,
   "metadata": {},
   "outputs": [
    {
     "name": "stdout",
     "output_type": "stream",
     "text": [
      "reading settings from hparams\n",
      "init\n",
      "init task model\n",
      "read base model\n",
      "only validation, not training the model\n",
      "/project/catinous/active_catinous/trained_models/ln_cont_luna_lunacombined_dataset_malignancy_basemodel_batch_fmiss_memory_tf07_1_186e38666a.pt\n",
      "Read: /project/catinous/active_catinous/trained_models/ln_cont_luna_lunacombined_dataset_malignancy_basemodel_batch_fmiss_memory_tf07_1_186e38666a.pt\n",
      "_____________ges___________\n",
      "detections:  0.9615384615384616\n",
      "box predictions:  0.43859649122807015\n",
      "fp/scan:  1.2307692307692308\n",
      "_____________geb___________\n",
      "detections:  0.9\n",
      "box predictions:  0.2647058823529412\n",
      "fp/scan:  2.5\n",
      "_____________sie___________\n",
      "detections:  0.7272727272727273\n",
      "box predictions:  0.2962962962962963\n",
      "fp/scan:  1.7272727272727273\n"
     ]
    }
   ],
   "source": [
    "hparams={'continuous': True,\n",
    "         'use_memory':True,\n",
    "        'datasetfile': '/project/catinous/lunadata/luna_lunacombined_dataset_malignancy.csv',\n",
    "         'base_model': 'ln_batch_luna_lunacombined_dataset_malignancy_base_train_1_9ee74b86a3.pt',\n",
    "        'val_check_interval': 10,\n",
    "        'run_postfix': 1,\n",
    "        'batch_size': 4,\n",
    "        'training_batch_size': 4,\n",
    "         'learning_rate': 0.00001,\n",
    "         'len_perf_queue': 8,\n",
    "         'transition_phase_after':0.7,\n",
    "        'memorymaximum': 64,\n",
    "        'completion_limit': 0.6,\n",
    "         'random_cache': True,\n",
    "         'startbudget': 150,\n",
    "         'allowedlabelratio': 0\n",
    "        }\n",
    "test_model(hparams)"
   ]
  },
  {
   "cell_type": "code",
   "execution_count": 7,
   "metadata": {},
   "outputs": [
    {
     "name": "stdout",
     "output_type": "stream",
     "text": [
      "reading settings from hparams\n",
      "init\n",
      "init task model\n",
      "only validation, not training the model\n",
      "/project/catinous/active_catinous/trained_models/ln_batch_luna_lunacombined_dataset_malignancy_base_train_1_9ee74b86a3.pt\n",
      "Read: /project/catinous/active_catinous/trained_models/ln_batch_luna_lunacombined_dataset_malignancy_base_train_1_9ee74b86a3.pt\n",
      "_____________ges___________\n",
      "detections:  0.8\n",
      "box predictions:  0.6545454545454545\n",
      "fp/scan:  0.36538461538461536\n",
      "_____________geb___________\n",
      "detections:  0.6\n",
      "box predictions:  0.36363636363636365\n",
      "fp/scan:  1.05\n",
      "_____________sie___________\n",
      "detections:  0.5454545454545454\n",
      "box predictions:  0.42857142857142855\n",
      "fp/scan:  0.7272727272727273\n"
     ]
    }
   ],
   "source": [
    "hparams={'continuous': False,\n",
    "         'use_memory':False,\n",
    "        'datasetfile': '/project/catinous/lunadata/luna_lunacombined_dataset_malignancy.csv',\n",
    "        'val_check_interval': 100,\n",
    "        'run_postfix': 1,\n",
    "        'batch_size': 4,\n",
    "        'training_batch_size': 4,\n",
    "         'learning_rate': 0.0001,\n",
    "         'noncontinuous_steps': 2000,\n",
    "        'noncontinuous_train_splits': ['base_train'],\n",
    "         'scanner': 'ges'\n",
    "        }\n",
    "test_model(hparams)"
   ]
  },
  {
   "cell_type": "code",
   "execution_count": 8,
   "metadata": {},
   "outputs": [
    {
     "name": "stdout",
     "output_type": "stream",
     "text": [
      "reading settings from hparams\n",
      "init\n",
      "init task model\n",
      "only validation, not training the model\n",
      "/project/catinous/active_catinous/trained_models/ln_batch_luna_lunacombined_dataset_malignancy_base_train-train_1_5888224fe3.pt\n",
      "Read: /project/catinous/active_catinous/trained_models/ln_batch_luna_lunacombined_dataset_malignancy_base_train-train_1_5888224fe3.pt\n",
      "_____________ges___________\n",
      "detections:  0.74\n",
      "box predictions:  0.6727272727272727\n",
      "fp/scan:  0.34615384615384615\n",
      "_____________geb___________\n",
      "detections:  0.7368421052631579\n",
      "box predictions:  0.4827586206896552\n",
      "fp/scan:  0.75\n",
      "_____________sie___________\n",
      "detections:  0.6363636363636364\n",
      "box predictions:  0.4375\n",
      "fp/scan:  0.8181818181818182\n"
     ]
    }
   ],
   "source": [
    "hparams={'continuous': False,\n",
    "         'use_memory':False,\n",
    "        'datasetfile': '/project/catinous/lunadata/luna_lunacombined_dataset_malignancy.csv',\n",
    "        'val_check_interval': 100,\n",
    "        'run_postfix': 1,\n",
    "        'batch_size': 4,\n",
    "        'training_batch_size': 4,\n",
    "         'learning_rate': 0.0001,\n",
    "         'noncontinuous_steps': 2000,\n",
    "        'noncontinuous_train_splits': ['base_train', 'train'],\n",
    "         'scanner': 'ges'\n",
    "        }\n",
    "test_model(hparams)"
   ]
  },
  {
   "cell_type": "code",
   "execution_count": 9,
   "metadata": {},
   "outputs": [
    {
     "name": "stdout",
     "output_type": "stream",
     "text": [
      "reading settings from hparams\n",
      "init\n",
      "init task model\n",
      "only validation, not training the model\n",
      "/project/catinous/active_catinous/trained_models/ln_batch_luna_lunacombined_dataset_malignancy_base_train-train_1_1fbd21c367.pt\n",
      "Read: /project/catinous/active_catinous/trained_models/ln_batch_luna_lunacombined_dataset_malignancy_base_train-train_1_1fbd21c367.pt\n",
      "_____________ges___________\n",
      "detections:  0.4878048780487805\n",
      "box predictions:  0.5\n",
      "fp/scan:  0.38461538461538464\n",
      "_____________geb___________\n",
      "detections:  0.35294117647058826\n",
      "box predictions:  0.5\n",
      "fp/scan:  0.3\n",
      "_____________sie___________\n",
      "detections:  0.6363636363636364\n",
      "box predictions:  0.5\n",
      "fp/scan:  0.6363636363636364\n"
     ]
    }
   ],
   "source": [
    "hparams={'continuous': False,\n",
    "         'use_memory':False,\n",
    "        'datasetfile': '/project/catinous/lunadata/luna_lunacombined_dataset_malignancy.csv',\n",
    "        'val_check_interval': 100,\n",
    "        'run_postfix': 1,\n",
    "        'batch_size': 4,\n",
    "        'training_batch_size': 4,\n",
    "         'learning_rate': 0.0001,\n",
    "         'noncontinuous_steps': 2000,\n",
    "        'noncontinuous_train_splits': ['base_train', 'train'],\n",
    "         'scanner': 'geb'\n",
    "        }\n",
    "test_model(hparams)"
   ]
  },
  {
   "cell_type": "code",
   "execution_count": 10,
   "metadata": {},
   "outputs": [
    {
     "name": "stdout",
     "output_type": "stream",
     "text": [
      "reading settings from hparams\n",
      "init\n",
      "init task model\n",
      "only validation, not training the model\n",
      "/project/catinous/active_catinous/trained_models/ln_batch_luna_lunacombined_dataset_malignancy_base_train-train_1_0decbc9c82.pt\n",
      "Read: /project/catinous/active_catinous/trained_models/ln_batch_luna_lunacombined_dataset_malignancy_base_train-train_1_0decbc9c82.pt\n",
      "_____________ges___________\n",
      "detections:  0.5454545454545454\n",
      "box predictions:  0.8\n",
      "fp/scan:  0.057692307692307696\n",
      "_____________geb___________\n",
      "detections:  0.3333333333333333\n",
      "box predictions:  0.5555555555555556\n",
      "fp/scan:  0.2\n",
      "_____________sie___________\n",
      "detections:  0.7\n",
      "box predictions:  0.7777777777777778\n",
      "fp/scan:  0.18181818181818182\n"
     ]
    }
   ],
   "source": [
    "hparams={'continuous': False,\n",
    "         'use_memory':False,\n",
    "        'datasetfile': '/project/catinous/lunadata/luna_lunacombined_dataset_malignancy.csv',\n",
    "        'val_check_interval': 100,\n",
    "        'run_postfix': 1,\n",
    "        'batch_size': 4,\n",
    "        'training_batch_size': 4,\n",
    "         'learning_rate': 0.0001,\n",
    "         'noncontinuous_steps': 2000,\n",
    "        'noncontinuous_train_splits': ['base_train', 'train'],\n",
    "         'scanner': 'sie'\n",
    "        }\n",
    "test_model(hparams)"
   ]
  },
  {
   "cell_type": "code",
   "execution_count": 11,
   "metadata": {},
   "outputs": [
    {
     "name": "stdout",
     "output_type": "stream",
     "text": [
      "reading settings from hparams\n",
      "init\n",
      "init task model\n",
      "only validation, not training the model\n",
      "/project/catinous/active_catinous/trained_models/ln_batch_luna_lunacombined_dataset_malignancy_base_train-train_1_bc5c55affa.pt\n",
      "Read: /project/catinous/active_catinous/trained_models/ln_batch_luna_lunacombined_dataset_malignancy_base_train-train_1_bc5c55affa.pt\n",
      "_____________ges___________\n",
      "detections:  0.6923076923076923\n",
      "box predictions:  0.5538461538461539\n",
      "fp/scan:  0.5576923076923077\n",
      "_____________geb___________\n",
      "detections:  0.6\n",
      "box predictions:  0.4\n",
      "fp/scan:  0.9\n",
      "_____________sie___________\n",
      "detections:  0.6363636363636364\n",
      "box predictions:  0.2916666666666667\n",
      "fp/scan:  1.5454545454545454\n"
     ]
    }
   ],
   "source": [
    "hparams={'continuous': False,\n",
    "         'use_memory':False,\n",
    "        'datasetfile': '/project/catinous/lunadata/luna_lunacombined_dataset_malignancy.csv',\n",
    "        'val_check_interval': 100,\n",
    "        'run_postfix': 1,\n",
    "        'batch_size': 4,\n",
    "        'training_batch_size': 4,\n",
    "         'learning_rate': 0.0001,\n",
    "         'noncontinuous_steps': 2000,\n",
    "        'noncontinuous_train_splits': ['base_train', 'train'],\n",
    "        }\n",
    "test_model(hparams)"
   ]
  },
  {
   "cell_type": "code",
   "execution_count": null,
   "metadata": {},
   "outputs": [],
   "source": []
  }
 ],
 "metadata": {
  "kernelspec": {
   "display_name": "venv_test",
   "language": "python",
   "name": "venv_test"
  },
  "language_info": {
   "codemirror_mode": {
    "name": "ipython",
    "version": 3
   },
   "file_extension": ".py",
   "mimetype": "text/x-python",
   "name": "python",
   "nbconvert_exporter": "python",
   "pygments_lexer": "ipython3",
   "version": "3.6.9"
  }
 },
 "nbformat": 4,
 "nbformat_minor": 4
}
