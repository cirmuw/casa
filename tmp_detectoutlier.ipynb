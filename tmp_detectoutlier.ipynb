{
 "cells": [
  {
   "cell_type": "code",
   "execution_count": 1,
   "metadata": {},
   "outputs": [
    {
     "name": "stderr",
     "output_type": "stream",
     "text": [
      "In /home/mperkonigg/.local/lib/python3.6/site-packages/matplotlib/mpl-data/stylelib/_classic_test.mplstyle: \n",
      "The text.latex.preview rcparam was deprecated in Matplotlib 3.3 and will be removed two minor releases later.\n",
      "In /home/mperkonigg/.local/lib/python3.6/site-packages/matplotlib/mpl-data/stylelib/_classic_test.mplstyle: \n",
      "The mathtext.fallback_to_cm rcparam was deprecated in Matplotlib 3.3 and will be removed two minor releases later.\n",
      "In /home/mperkonigg/.local/lib/python3.6/site-packages/matplotlib/mpl-data/stylelib/_classic_test.mplstyle: Support for setting the 'mathtext.fallback_to_cm' rcParam is deprecated since 3.3 and will be removed two minor releases later; use 'mathtext.fallback : 'cm' instead.\n",
      "In /home/mperkonigg/.local/lib/python3.6/site-packages/matplotlib/mpl-data/stylelib/_classic_test.mplstyle: \n",
      "The validate_bool_maybe_none function was deprecated in Matplotlib 3.3 and will be removed two minor releases later.\n",
      "In /home/mperkonigg/.local/lib/python3.6/site-packages/matplotlib/mpl-data/stylelib/_classic_test.mplstyle: \n",
      "The savefig.jpeg_quality rcparam was deprecated in Matplotlib 3.3 and will be removed two minor releases later.\n",
      "In /home/mperkonigg/.local/lib/python3.6/site-packages/matplotlib/mpl-data/stylelib/_classic_test.mplstyle: \n",
      "The keymap.all_axes rcparam was deprecated in Matplotlib 3.3 and will be removed two minor releases later.\n",
      "In /home/mperkonigg/.local/lib/python3.6/site-packages/matplotlib/mpl-data/stylelib/_classic_test.mplstyle: \n",
      "The animation.avconv_path rcparam was deprecated in Matplotlib 3.3 and will be removed two minor releases later.\n",
      "In /home/mperkonigg/.local/lib/python3.6/site-packages/matplotlib/mpl-data/stylelib/_classic_test.mplstyle: \n",
      "The animation.avconv_args rcparam was deprecated in Matplotlib 3.3 and will be removed two minor releases later.\n"
     ]
    }
   ],
   "source": [
    "import pandas as pd\n",
    "#from datasets.BrainAgeContinuous import BrainAgeContinuous\n",
    "#from datasets.BrainAgeDataset import BrainAgeDataset\n",
    "#from datasets.CatsinomDataset import CatsinomDataset\n",
    "#from datasets.LIDCDataset import LIDCDataset\n",
    "from models.unet3d import EncoderModelGenesis\n",
    "import torchvision.models as tvmodels\n",
    "import torch\n",
    "import numpy as np\n",
    "from sklearn.manifold import TSNE\n",
    "from sklearn.decomposition import PCA\n",
    "import matplotlib.pyplot as plt\n",
    "#from statsmodels.distributions.empirical_distribution import ECDF\n",
    "#import statsmodels.api as sm\n",
    "\n",
    "from sklearn.neighbors import KernelDensity\n",
    "from sklearn.model_selection import GridSearchCV\n",
    "\n",
    "from scipy.stats import gaussian_kde, norm, multivariate_normal\n",
    "from scipy import stats\n",
    "\n",
    "from sklearn.metrics import mean_squared_error\n",
    "from sklearn.mixture import GaussianMixture, BayesianGaussianMixture\n",
    "import torch.nn as nn\n",
    "\n",
    "#from statsmodels.nonparametric.kernel_density import KDEMultivariate\n",
    "\n",
    "from sklearn.svm import OneClassSVM\n",
    "from sklearn.covariance import EllipticEnvelope\n",
    "from sklearn.ensemble import IsolationForest\n",
    "from scipy.spatial.distance import seuclidean, euclidean, mahalanobis, pdist, squareform\n",
    "from sklearn.random_projection import SparseRandomProjection\n",
    "import active_dynamicmemory.utils as cutils\n",
    "import pickle\n",
    "from datasets.BatchDataset import CardiacBatch\n",
    "from active_dynamicmemory.ActiveDynamicMemory import MemoryItem\n",
    "from datasets.ContinuousDataset import CardiacContinuous"
   ]
  },
  {
   "cell_type": "code",
   "execution_count": 2,
   "metadata": {},
   "outputs": [],
   "source": [
    "def gram_matrix(input):\n",
    "    # taken from: https://pytorch.org/tutorials/advanced/neural_style_tutorial.html\n",
    "    a, b, c, d = input.size()  # a=batch size(=1)\n",
    "    # b=number of feature maps\n",
    "    # (c,d)=dimensions of a f. map (N=c*d)\n",
    "\n",
    "    grams = []\n",
    "\n",
    "    for i in range(a):\n",
    "        features = input[i].view(b, c * d)  # resise F_XL into \\hat F_XL\n",
    "        G = torch.mm(features, features.t())  # compute the gram product\n",
    "        grams.append(G.div(b * c * d))\n",
    "\n",
    "    return grams\n",
    "\n",
    "\n",
    "def gram_matrix_3d(input, pool_factor=1):\n",
    "    # taken from: https://pytorch.org/tutorials/advanced/neural_style_tutorial.html\n",
    "    a, b, c, d, e = input.size()  # a=batch size(=1)\n",
    "    # b=number of feature maps\n",
    "    # (c,d)=dimensions of a f. map (N=c*d)\n",
    "\n",
    "    grams = []\n",
    "\n",
    "    for i in range(a):\n",
    "        features = input[i].view(b, c * d * e)  # resise F_XL into \\hat F_XL\n",
    "        G = torch.mm(features, features.t())  # compute the gram product\n",
    "        if pool_factor==1:\n",
    "            grams.append(G.div(b * c * d * e))\n",
    "        else:\n",
    "            pool = nn.MaxPool2d(pool_factor)\n",
    "            gram = G.div(b * c * d * e)\n",
    "            gram_pooled = pool(gram[None, :])\n",
    "            grams.append(gram_pooled[0])\n",
    "\n",
    "    return grams\n",
    "\n",
    "def gram_hook(m, input, output):\n",
    "    grammatrices.append(gram_matrix_3d(input[0]))\n",
    "\n",
    "def register_hooks():\n",
    "    for layer in gramlayers:\n",
    "        layer.register_forward_hook(gram_hook)\n",
    "        \n",
    "def gram_hook_2d(m, input, output):\n",
    "    grammatrices.append(gram_matrix(input[0]))\n",
    "\n",
    "def register_hooks_2d(layers):\n",
    "    for layer in layers:\n",
    "        layer.register_forward_hook(gram_hook_2d)"
   ]
  },
  {
   "cell_type": "code",
   "execution_count": 3,
   "metadata": {},
   "outputs": [],
   "source": [
    "device = torch.device('cuda')\n",
    "\n",
    "stylemodel = tvmodels.resnet50(pretrained=True)\n",
    "stylemodel.to(device)\n",
    "stylemodel.eval()\n",
    "gramlayers = [stylemodel.layer2[-1].conv1]\n",
    "register_hooks_2d(gramlayers)"
   ]
  },
  {
   "cell_type": "code",
   "execution_count": 4,
   "metadata": {},
   "outputs": [
    {
     "name": "stdout",
     "output_type": "stream",
     "text": [
      "init cardiac batch with datasetfile /project/catinous/cardiacslicessplitsingle.csv\n"
     ]
    }
   ],
   "source": [
    "grammatrices=[]\n",
    "device = torch.device('cuda')\n",
    "num_items = 128\n",
    "\n",
    "dl = torch.utils.data.DataLoader(CardiacBatch('/project/catinous/cardiacslicessplitsingle.csv',\n",
    "                                            iterations=None,\n",
    "                                            batch_size=8,\n",
    "                                            split=['base']),\n",
    "                            batch_size=8, num_workers=4, pin_memory=True, collate_fn=None)\n",
    "\n",
    "memoryitems = []\n",
    "for batch in dl:\n",
    "    torch.cuda.empty_cache()\n",
    "\n",
    "    x, y, scanner, filepath = batch\n",
    "\n",
    "    if type(x) is list:\n",
    "        x = torch.stack(x)\n",
    "\n",
    "    x = x.to(device)\n",
    "\n",
    "    if x.size()[1]==1:\n",
    "        xstyle = torch.cat([x, x, x], dim=1)\n",
    "    else:\n",
    "        xstyle = x\n",
    "    _ = stylemodel(xstyle)\n",
    "\n",
    "    for i, f in enumerate(filepath):\n",
    "        target = y[i]\n",
    "        if type(target) == torch.Tensor:\n",
    "            det_target = target.detach().cpu()\n",
    "        else:\n",
    "            det_target = {}\n",
    "            for k, v in target.items():\n",
    "                det_target[k] = v.detach().cpu()\n",
    "\n",
    "        grammatrix = [bg[i].detach().cpu().numpy().flatten() for bg in grammatrices]\n",
    "        memoryitems.append(MemoryItem(x[i].detach().cpu(), det_target, f, scanner[i],\n",
    "                                      current_grammatrix=grammatrix[0],\n",
    "                                      pseudo_domain=0))\n",
    "\n",
    "    if len(memoryitems) >= num_items:\n",
    "        break\n",
    "\n",
    "    grammatrices = []"
   ]
  },
  {
   "cell_type": "code",
   "execution_count": 5,
   "metadata": {},
   "outputs": [
    {
     "data": {
      "text/plain": [
       "128"
      ]
     },
     "execution_count": 5,
     "metadata": {},
     "output_type": "execute_result"
    }
   ],
   "source": [
    "len(memoryitems)"
   ]
  },
  {
   "cell_type": "code",
   "execution_count": 6,
   "metadata": {},
   "outputs": [
    {
     "data": {
      "text/plain": [
       "8"
      ]
     },
     "execution_count": 6,
     "metadata": {},
     "output_type": "execute_result"
    }
   ],
   "source": [
    "len(grammatrices[0])"
   ]
  },
  {
   "cell_type": "code",
   "execution_count": 7,
   "metadata": {},
   "outputs": [],
   "source": [
    "graminits = []\n",
    "for mi in memoryitems:\n",
    "    graminits.append(mi.current_grammatrix)\n",
    "\n",
    "\n",
    "clf = IsolationForest(n_estimators=10, random_state=1, warm_start=True, contamination=0.10).fit(graminits)"
   ]
  },
  {
   "cell_type": "code",
   "execution_count": 8,
   "metadata": {},
   "outputs": [
    {
     "name": "stdout",
     "output_type": "stream",
     "text": [
      "['Siemens', 'GE', 'Philips', 'Canon']\n"
     ]
    }
   ],
   "source": [
    "dl = torch.utils.data.DataLoader(CardiacContinuous('/project/catinous/cardiacslicessplitsingle.csv',\n",
    "                                                         transition_phase_after=0.8,\n",
    "                                                         seed=1,\n",
    "                                                         order=['Siemens', 'GE', 'Philips', 'Canon']),\n",
    "                              batch_size=8, num_workers=8, drop_last=True,\n",
    "                              collate_fn=None)"
   ]
  },
  {
   "cell_type": "code",
   "execution_count": 9,
   "metadata": {},
   "outputs": [
    {
     "name": "stdout",
     "output_type": "stream",
     "text": [
      "Siemens [1]\n",
      "Siemens [1]\n",
      "Siemens [-1]\n",
      "Siemens [-1]\n",
      "Siemens [1]\n",
      "Siemens [1]\n",
      "Siemens [1]\n",
      "Siemens [-1]\n",
      "Siemens [-1]\n",
      "Siemens [-1]\n",
      "Siemens [1]\n",
      "Siemens [-1]\n",
      "Siemens [1]\n",
      "Siemens [1]\n",
      "Siemens [-1]\n",
      "Siemens [1]\n",
      "Siemens [-1]\n",
      "Siemens [-1]\n",
      "Siemens [-1]\n",
      "Siemens [1]\n",
      "Siemens [1]\n",
      "Siemens [1]\n",
      "Siemens [-1]\n",
      "Siemens [1]\n",
      "Siemens [-1]\n",
      "Siemens [1]\n",
      "Siemens [-1]\n",
      "Siemens [1]\n",
      "Siemens [1]\n",
      "Siemens [-1]\n",
      "Siemens [-1]\n",
      "Siemens [-1]\n",
      "Siemens [1]\n",
      "Siemens [1]\n",
      "Siemens [-1]\n",
      "Siemens [1]\n",
      "Siemens [-1]\n",
      "Siemens [-1]\n",
      "Siemens [-1]\n",
      "Siemens [-1]\n",
      "Siemens [-1]\n",
      "Siemens [-1]\n",
      "Siemens [1]\n",
      "Siemens [-1]\n",
      "Siemens [-1]\n",
      "Siemens [1]\n",
      "Siemens [1]\n",
      "Siemens [1]\n",
      "Siemens [-1]\n",
      "Siemens [-1]\n",
      "Siemens [-1]\n",
      "Siemens [-1]\n",
      "Siemens [1]\n",
      "Siemens [-1]\n",
      "Siemens [1]\n",
      "Siemens [1]\n",
      "Siemens [-1]\n",
      "Siemens [-1]\n",
      "Siemens [-1]\n",
      "Siemens [-1]\n",
      "Siemens [-1]\n",
      "Siemens [-1]\n",
      "Siemens [1]\n",
      "Siemens [-1]\n",
      "Siemens [1]\n",
      "Siemens [-1]\n",
      "Siemens [-1]\n",
      "Siemens [-1]\n",
      "Siemens [-1]\n",
      "Siemens [1]\n",
      "Siemens [1]\n",
      "Siemens [-1]\n",
      "Siemens [-1]\n",
      "Siemens [1]\n",
      "Siemens [-1]\n",
      "Siemens [1]\n",
      "Siemens [-1]\n",
      "Siemens [-1]\n",
      "Siemens [1]\n",
      "Siemens [-1]\n",
      "Siemens [-1]\n",
      "Siemens [-1]\n",
      "Siemens [1]\n",
      "Siemens [1]\n",
      "Siemens [-1]\n",
      "Siemens [-1]\n",
      "Siemens [-1]\n",
      "Siemens [1]\n",
      "Siemens [-1]\n",
      "Siemens [1]\n",
      "Siemens [-1]\n",
      "Siemens [-1]\n",
      "Siemens [1]\n",
      "Siemens [1]\n",
      "Siemens [-1]\n",
      "Siemens [1]\n",
      "Siemens [-1]\n",
      "Siemens [1]\n",
      "Siemens [1]\n",
      "Siemens [1]\n",
      "Siemens [1]\n",
      "Siemens [1]\n",
      "Siemens [1]\n",
      "Siemens [1]\n",
      "Siemens [-1]\n",
      "Siemens [-1]\n",
      "Siemens [-1]\n",
      "Siemens [1]\n",
      "Siemens [1]\n",
      "Siemens [1]\n",
      "Siemens [-1]\n",
      "Siemens [-1]\n",
      "Siemens [1]\n",
      "Siemens [-1]\n",
      "Siemens [1]\n",
      "Siemens [1]\n",
      "Siemens [-1]\n",
      "Siemens [1]\n",
      "Siemens [1]\n",
      "Siemens [-1]\n",
      "Siemens [1]\n",
      "Siemens [-1]\n",
      "Siemens [-1]\n",
      "Siemens [1]\n",
      "Siemens [1]\n",
      "Siemens [1]\n",
      "Siemens [-1]\n",
      "Siemens [1]\n",
      "Siemens [-1]\n",
      "Siemens [-1]\n",
      "Siemens [1]\n",
      "Siemens [-1]\n",
      "Siemens [1]\n",
      "Siemens [-1]\n",
      "Siemens [-1]\n",
      "Siemens [-1]\n",
      "Siemens [-1]\n",
      "Siemens [1]\n",
      "Siemens [-1]\n",
      "Siemens [-1]\n",
      "Siemens [1]\n",
      "Siemens [1]\n",
      "Siemens [1]\n",
      "Siemens [-1]\n",
      "Siemens [-1]\n",
      "Siemens [1]\n",
      "Siemens [1]\n",
      "Siemens [-1]\n",
      "Siemens [1]\n",
      "Siemens [-1]\n",
      "Siemens [1]\n",
      "Siemens [1]\n",
      "Siemens [1]\n",
      "Siemens [-1]\n",
      "Siemens [-1]\n",
      "Siemens [1]\n",
      "Siemens [-1]\n",
      "Siemens [-1]\n",
      "Siemens [-1]\n",
      "Siemens [-1]\n",
      "Siemens [-1]\n",
      "Siemens [-1]\n",
      "Siemens [1]\n",
      "Siemens [-1]\n",
      "Siemens [1]\n",
      "Siemens [1]\n",
      "Siemens [1]\n",
      "Siemens [1]\n",
      "Siemens [-1]\n",
      "Siemens [-1]\n",
      "Siemens [1]\n",
      "Siemens [1]\n",
      "Siemens [-1]\n",
      "Siemens [-1]\n",
      "Siemens [-1]\n",
      "Siemens [1]\n",
      "Siemens [1]\n",
      "Siemens [-1]\n",
      "Siemens [1]\n",
      "Siemens [-1]\n",
      "Siemens [-1]\n",
      "Siemens [1]\n",
      "Siemens [-1]\n",
      "Siemens [-1]\n",
      "Siemens [-1]\n",
      "Siemens [-1]\n",
      "Siemens [1]\n",
      "Siemens [-1]\n",
      "Siemens [-1]\n",
      "Siemens [-1]\n",
      "Siemens [-1]\n",
      "Siemens [1]\n",
      "Siemens [1]\n",
      "Siemens [-1]\n",
      "Siemens [1]\n",
      "Siemens [-1]\n",
      "Siemens [1]\n",
      "Siemens [-1]\n",
      "Siemens [-1]\n",
      "Siemens [1]\n",
      "Siemens [1]\n",
      "Siemens [-1]\n",
      "Siemens [1]\n",
      "Siemens [-1]\n",
      "Siemens [-1]\n",
      "Siemens [1]\n",
      "Siemens [1]\n",
      "Siemens [-1]\n",
      "Siemens [1]\n",
      "Siemens [1]\n",
      "Siemens [-1]\n",
      "Siemens [-1]\n",
      "Siemens [1]\n",
      "Siemens [-1]\n",
      "Siemens [-1]\n",
      "Siemens [1]\n",
      "Siemens [1]\n",
      "Siemens [1]\n",
      "Siemens [-1]\n",
      "Siemens [1]\n",
      "Siemens [-1]\n",
      "Siemens [1]\n",
      "Siemens [1]\n",
      "Siemens [-1]\n",
      "Siemens [1]\n",
      "Siemens [-1]\n",
      "Siemens [-1]\n",
      "Siemens [1]\n",
      "Siemens [1]\n",
      "Siemens [1]\n",
      "Siemens [-1]\n",
      "Siemens [1]\n",
      "Siemens [-1]\n",
      "Siemens [1]\n",
      "Siemens [-1]\n",
      "Siemens [-1]\n",
      "Siemens [1]\n",
      "Siemens [1]\n",
      "Siemens [1]\n",
      "Siemens [1]\n",
      "Siemens [-1]\n",
      "Siemens [-1]\n",
      "Siemens [1]\n",
      "Siemens [-1]\n",
      "Siemens [1]\n",
      "Siemens [1]\n",
      "Siemens [-1]\n",
      "Siemens [1]\n",
      "Siemens [-1]\n",
      "Siemens [-1]\n",
      "Siemens [1]\n",
      "Siemens [-1]\n",
      "Siemens [1]\n",
      "Siemens [1]\n",
      "Siemens [1]\n",
      "Siemens [1]\n",
      "Siemens [-1]\n",
      "Siemens [1]\n",
      "Siemens [-1]\n",
      "Siemens [1]\n",
      "Siemens [-1]\n",
      "Siemens [-1]\n",
      "Siemens [1]\n",
      "Siemens [-1]\n",
      "Siemens [1]\n",
      "Siemens [1]\n",
      "Siemens [1]\n",
      "Siemens [1]\n",
      "Siemens [1]\n",
      "Siemens [-1]\n",
      "Siemens [1]\n",
      "Siemens [-1]\n",
      "Siemens [-1]\n",
      "Siemens [1]\n",
      "Siemens [1]\n",
      "Siemens [-1]\n",
      "Siemens [1]\n",
      "Siemens [1]\n",
      "Siemens [-1]\n",
      "Siemens [-1]\n",
      "Siemens [1]\n",
      "Siemens [1]\n",
      "Siemens [1]\n",
      "Siemens [-1]\n",
      "Siemens [-1]\n",
      "Siemens [1]\n",
      "Siemens [1]\n",
      "Siemens [-1]\n",
      "Siemens [-1]\n",
      "Siemens [1]\n",
      "Siemens [-1]\n",
      "Siemens [1]\n",
      "Siemens [-1]\n",
      "Siemens [-1]\n",
      "Siemens [1]\n",
      "Siemens [1]\n",
      "Siemens [-1]\n",
      "Siemens [-1]\n",
      "Siemens [-1]\n",
      "Siemens [-1]\n",
      "Siemens [-1]\n",
      "Siemens [1]\n",
      "Siemens [1]\n",
      "Siemens [-1]\n",
      "Siemens [1]\n",
      "Siemens [-1]\n",
      "Siemens [-1]\n",
      "Siemens [1]\n",
      "Siemens [1]\n",
      "Siemens [-1]\n",
      "Siemens [-1]\n",
      "Siemens [1]\n",
      "Siemens [-1]\n",
      "Siemens [1]\n",
      "Siemens [1]\n",
      "Siemens [1]\n",
      "Siemens [1]\n",
      "Siemens [-1]\n",
      "Siemens [-1]\n",
      "Siemens [-1]\n",
      "Siemens [-1]\n",
      "Siemens [-1]\n",
      "Siemens [1]\n",
      "Siemens [1]\n",
      "Siemens [-1]\n",
      "Siemens [1]\n",
      "Siemens [1]\n",
      "Siemens [-1]\n",
      "Siemens [-1]\n",
      "Siemens [-1]\n",
      "Siemens [-1]\n",
      "Siemens [-1]\n",
      "Siemens [1]\n",
      "Siemens [1]\n",
      "Siemens [-1]\n",
      "Siemens [-1]\n",
      "Siemens [1]\n",
      "Siemens [1]\n",
      "Siemens [1]\n",
      "Siemens [1]\n",
      "Siemens [1]\n",
      "Siemens [-1]\n",
      "Siemens [1]\n",
      "Siemens [1]\n",
      "Siemens [1]\n",
      "Siemens [1]\n",
      "Siemens [1]\n",
      "Siemens [1]\n",
      "Siemens [-1]\n",
      "Siemens [1]\n",
      "Siemens [1]\n",
      "Siemens [1]\n",
      "Siemens [1]\n",
      "Siemens [-1]\n",
      "Siemens [-1]\n",
      "Siemens [1]\n",
      "Siemens [-1]\n",
      "Siemens [1]\n",
      "Siemens [-1]\n",
      "Siemens [-1]\n",
      "Siemens [1]\n",
      "Siemens [-1]\n",
      "Siemens [1]\n",
      "Siemens [-1]\n",
      "Siemens [-1]\n",
      "Siemens [1]\n",
      "Siemens [-1]\n",
      "Siemens [1]\n",
      "Siemens [-1]\n",
      "Siemens [1]\n",
      "Siemens [-1]\n",
      "Siemens [-1]\n",
      "Siemens [1]\n",
      "Siemens [1]\n",
      "Siemens [1]\n",
      "Siemens [-1]\n",
      "Siemens [1]\n",
      "Siemens [1]\n",
      "Siemens [-1]\n",
      "Siemens [1]\n",
      "Siemens [1]\n",
      "Siemens [1]\n",
      "Siemens [-1]\n",
      "Siemens [1]\n",
      "Siemens [-1]\n",
      "Siemens [-1]\n",
      "Siemens [-1]\n",
      "Siemens [1]\n",
      "Siemens [1]\n",
      "Siemens [1]\n",
      "Siemens [1]\n",
      "Siemens [1]\n",
      "Siemens [1]\n",
      "Siemens [-1]\n",
      "Siemens [-1]\n",
      "Siemens [1]\n",
      "Siemens [1]\n",
      "Siemens [1]\n",
      "Siemens [-1]\n",
      "Siemens [-1]\n",
      "Siemens [1]\n",
      "Siemens [1]\n",
      "Siemens [1]\n",
      "Siemens [-1]\n",
      "Siemens [1]\n",
      "Siemens [-1]\n",
      "Siemens [1]\n",
      "Siemens [1]\n",
      "Siemens [-1]\n",
      "Siemens [-1]\n",
      "Siemens [-1]\n",
      "Siemens [-1]\n",
      "Siemens [-1]\n",
      "Siemens [1]\n",
      "Siemens [-1]\n",
      "Siemens [-1]\n",
      "Siemens [-1]\n",
      "Siemens [-1]\n",
      "Siemens [-1]\n",
      "Siemens [-1]\n",
      "Siemens [1]\n",
      "Siemens [1]\n",
      "Siemens [1]\n",
      "Siemens [1]\n",
      "Siemens [-1]\n",
      "Siemens [1]\n",
      "Siemens [-1]\n",
      "Siemens [-1]\n",
      "Siemens [1]\n",
      "Siemens [1]\n",
      "Siemens [1]\n",
      "Siemens [-1]\n",
      "Siemens [-1]\n",
      "Siemens [1]\n",
      "Siemens [-1]\n",
      "Siemens [-1]\n",
      "Siemens [1]\n",
      "Siemens [1]\n",
      "Siemens [-1]\n",
      "Siemens [1]\n",
      "Siemens [-1]\n",
      "Siemens [-1]\n",
      "Siemens [1]\n",
      "Siemens [-1]\n",
      "Siemens [1]\n",
      "Siemens [-1]\n",
      "Siemens [-1]\n",
      "Siemens [-1]\n",
      "Siemens [-1]\n",
      "Siemens [1]\n",
      "Siemens [1]\n",
      "Siemens [1]\n",
      "Siemens [-1]\n",
      "Siemens [1]\n",
      "Siemens [-1]\n",
      "Siemens [1]\n",
      "Siemens [-1]\n",
      "Siemens [1]\n",
      "Siemens [1]\n",
      "Siemens [1]\n",
      "Siemens [1]\n",
      "Siemens [1]\n",
      "Siemens [-1]\n",
      "Siemens [-1]\n",
      "Siemens [1]\n",
      "Siemens [-1]\n",
      "Siemens [-1]\n",
      "Siemens [-1]\n",
      "Siemens [-1]\n",
      "Siemens [-1]\n",
      "Siemens [1]\n",
      "Siemens [1]\n",
      "Siemens [-1]\n",
      "Siemens [-1]\n",
      "Siemens [1]\n",
      "Siemens [-1]\n",
      "Siemens [-1]\n",
      "Siemens [1]\n",
      "Siemens [-1]\n",
      "Siemens [1]\n",
      "Siemens [-1]\n",
      "Siemens [1]\n",
      "Siemens [1]\n",
      "Siemens [1]\n",
      "Siemens [-1]\n",
      "Siemens [1]\n",
      "Siemens [-1]\n",
      "Siemens [1]\n",
      "Siemens [-1]\n",
      "Siemens [-1]\n",
      "Siemens [1]\n",
      "Siemens [-1]\n",
      "Siemens [1]\n",
      "Siemens [1]\n",
      "Siemens [1]\n",
      "Siemens [1]\n",
      "Siemens [-1]\n",
      "Siemens [-1]\n",
      "Siemens [-1]\n",
      "Siemens [1]\n",
      "Siemens [-1]\n",
      "Siemens [1]\n",
      "Siemens [-1]\n",
      "Siemens [1]\n",
      "Siemens [1]\n",
      "Siemens [-1]\n",
      "Siemens [1]\n",
      "Siemens [1]\n",
      "Siemens [-1]\n",
      "Siemens [-1]\n",
      "Siemens [-1]\n",
      "Siemens [-1]\n",
      "GE [1]\n",
      "Siemens [1]\n",
      "Siemens [-1]\n",
      "Siemens [1]\n",
      "Siemens [1]\n",
      "Siemens [-1]\n",
      "Siemens [1]\n",
      "Siemens [-1]\n",
      "Siemens [-1]\n",
      "Siemens [-1]\n",
      "Siemens [-1]\n",
      "GE [-1]\n",
      "Siemens [-1]\n",
      "Siemens [1]\n",
      "Siemens [-1]\n",
      "Siemens [1]\n",
      "Siemens [-1]\n",
      "Siemens [-1]\n",
      "Siemens [-1]\n",
      "GE [1]\n",
      "Siemens [1]\n",
      "Siemens [-1]\n",
      "Siemens [-1]\n",
      "Siemens [-1]\n",
      "Siemens [1]\n",
      "GE [-1]\n",
      "Siemens [-1]\n",
      "Siemens [-1]\n",
      "Siemens [-1]\n",
      "Siemens [1]\n",
      "Siemens [-1]\n",
      "Siemens [1]\n",
      "Siemens [1]\n",
      "Siemens [-1]\n",
      "Siemens [-1]\n",
      "Siemens [1]\n",
      "Siemens [1]\n",
      "Siemens [1]\n",
      "Siemens [1]\n",
      "Siemens [-1]\n",
      "Siemens [1]\n",
      "Siemens [1]\n",
      "Siemens [1]\n",
      "Siemens [-1]\n",
      "Siemens [-1]\n",
      "Siemens [-1]\n",
      "Siemens [-1]\n",
      "GE [-1]\n",
      "Siemens [1]\n",
      "GE [-1]\n",
      "Siemens [1]\n",
      "Siemens [1]\n",
      "GE [1]\n",
      "Siemens [-1]\n",
      "Siemens [1]\n",
      "GE [-1]\n",
      "Siemens [1]\n",
      "GE [-1]\n",
      "GE [-1]\n",
      "GE [-1]\n",
      "Siemens [-1]\n",
      "GE [-1]\n",
      "Siemens [1]\n",
      "Siemens [-1]\n",
      "GE [-1]\n",
      "Siemens [1]\n",
      "GE [1]\n",
      "GE [1]\n",
      "Siemens [1]\n",
      "Siemens [-1]\n",
      "GE [-1]\n",
      "Siemens [1]\n",
      "Siemens [1]\n",
      "Siemens [1]\n",
      "Siemens [-1]\n",
      "GE [-1]\n",
      "Siemens [1]\n",
      "Siemens [-1]\n",
      "GE [1]\n",
      "Siemens [-1]\n",
      "Siemens [1]\n",
      "GE [-1]\n",
      "Siemens [-1]\n",
      "GE [1]\n",
      "GE [-1]\n",
      "Siemens [1]\n",
      "GE [1]\n",
      "GE [1]\n",
      "GE [-1]\n",
      "Siemens [-1]\n",
      "Siemens [1]\n",
      "GE [1]\n",
      "GE [-1]\n",
      "Siemens [-1]\n",
      "GE [1]\n",
      "GE [-1]\n",
      "GE [1]\n",
      "GE [1]\n",
      "Siemens [1]\n",
      "Siemens [1]\n",
      "Siemens [-1]\n",
      "Siemens [1]\n",
      "GE [-1]\n",
      "Siemens [-1]\n",
      "Siemens [1]\n",
      "Siemens [1]\n",
      "Siemens [1]\n",
      "GE [1]\n",
      "GE [-1]\n",
      "Siemens [-1]\n",
      "Siemens [1]\n",
      "Siemens [-1]\n",
      "GE [-1]\n",
      "Siemens [-1]\n",
      "GE [-1]\n",
      "Siemens [-1]\n",
      "GE [-1]\n",
      "Siemens [-1]\n",
      "Siemens [-1]\n",
      "GE [-1]\n",
      "GE [1]\n",
      "GE [1]\n",
      "GE [-1]\n",
      "GE [-1]\n",
      "GE [-1]\n",
      "GE [1]\n",
      "Siemens [-1]\n",
      "GE [-1]\n",
      "GE [-1]\n",
      "GE [1]\n",
      "Siemens [-1]\n",
      "GE [1]\n",
      "GE [1]\n",
      "GE [-1]\n",
      "Siemens [-1]\n",
      "GE [1]\n",
      "GE [-1]\n",
      "Siemens [-1]\n",
      "Siemens [1]\n",
      "GE [1]\n",
      "GE [-1]\n",
      "GE [1]\n",
      "Siemens [1]\n",
      "GE [1]\n",
      "GE [-1]\n",
      "GE [-1]\n",
      "GE [-1]\n",
      "GE [-1]\n",
      "GE [-1]\n",
      "GE [-1]\n",
      "Siemens [-1]\n",
      "GE [-1]\n",
      "GE [1]\n",
      "GE [1]\n",
      "Siemens [1]\n",
      "GE [-1]\n",
      "GE [1]\n",
      "GE [-1]\n",
      "GE [-1]\n",
      "GE [-1]\n",
      "GE [-1]\n",
      "Siemens [1]\n",
      "GE [1]\n",
      "GE [-1]\n",
      "Siemens [-1]\n",
      "GE [-1]\n",
      "GE [1]\n",
      "GE [-1]\n",
      "Siemens [1]\n",
      "GE [-1]\n",
      "GE [1]\n",
      "GE [1]\n",
      "GE [-1]\n",
      "Siemens [1]\n",
      "Siemens [1]\n",
      "GE [-1]\n",
      "GE [-1]\n",
      "GE [1]\n",
      "Siemens [1]\n",
      "Siemens [1]\n",
      "GE [-1]\n",
      "Siemens [-1]\n",
      "GE [-1]\n",
      "GE [-1]\n",
      "GE [-1]\n",
      "GE [-1]\n",
      "GE [1]\n",
      "Siemens [-1]\n",
      "Siemens [1]\n",
      "GE [1]\n",
      "Siemens [1]\n",
      "GE [-1]\n",
      "GE [-1]\n",
      "GE [-1]\n",
      "GE [-1]\n",
      "GE [-1]\n",
      "GE [-1]\n",
      "GE [-1]\n",
      "GE [-1]\n",
      "GE [1]\n",
      "GE [-1]\n",
      "GE [-1]\n",
      "GE [1]\n",
      "GE [-1]\n",
      "GE [1]\n",
      "GE [-1]\n",
      "GE [-1]\n",
      "GE [-1]\n",
      "GE [-1]\n",
      "GE [-1]\n",
      "GE [-1]\n",
      "GE [-1]\n",
      "GE [1]\n",
      "GE [-1]\n",
      "GE [-1]\n",
      "GE [1]\n",
      "GE [-1]\n",
      "GE [-1]\n",
      "GE [1]\n",
      "GE [-1]\n",
      "GE [-1]\n",
      "GE [1]\n",
      "GE [1]\n",
      "GE [1]\n",
      "GE [-1]\n",
      "GE [-1]\n",
      "GE [1]\n",
      "GE [1]\n",
      "GE [-1]\n",
      "GE [-1]\n",
      "GE [1]\n",
      "GE [1]\n",
      "GE [-1]\n",
      "GE [-1]\n",
      "GE [-1]\n",
      "GE [-1]\n",
      "GE [-1]\n",
      "GE [-1]\n",
      "GE [1]\n",
      "GE [-1]\n",
      "GE [-1]\n",
      "GE [-1]\n",
      "GE [-1]\n",
      "GE [-1]\n",
      "GE [-1]\n",
      "GE [-1]\n",
      "GE [1]\n",
      "GE [-1]\n",
      "GE [-1]\n",
      "GE [1]\n",
      "GE [-1]\n",
      "GE [-1]\n",
      "GE [-1]\n",
      "GE [1]\n",
      "GE [-1]\n",
      "GE [-1]\n",
      "GE [-1]\n",
      "GE [-1]\n",
      "GE [-1]\n",
      "GE [-1]\n",
      "GE [1]\n",
      "GE [-1]\n",
      "GE [-1]\n",
      "GE [-1]\n",
      "GE [-1]\n",
      "GE [1]\n",
      "GE [-1]\n",
      "GE [-1]\n",
      "GE [-1]\n",
      "GE [-1]\n",
      "GE [-1]\n",
      "GE [-1]\n",
      "GE [-1]\n",
      "GE [1]\n",
      "GE [1]\n",
      "GE [-1]\n",
      "GE [-1]\n",
      "GE [-1]\n",
      "GE [-1]\n",
      "GE [1]\n",
      "GE [-1]\n",
      "GE [1]\n",
      "GE [-1]\n",
      "GE [1]\n",
      "GE [1]\n",
      "GE [-1]\n",
      "GE [1]\n",
      "GE [1]\n",
      "GE [-1]\n",
      "GE [1]\n",
      "GE [-1]\n",
      "GE [1]\n",
      "GE [-1]\n",
      "GE [-1]\n",
      "GE [1]\n",
      "GE [-1]\n",
      "GE [1]\n",
      "GE [1]\n",
      "GE [1]\n",
      "GE [-1]\n",
      "GE [1]\n",
      "GE [-1]\n",
      "GE [-1]\n",
      "GE [-1]\n",
      "GE [-1]\n",
      "GE [-1]\n",
      "GE [1]\n",
      "GE [1]\n",
      "GE [1]\n",
      "GE [-1]\n",
      "GE [-1]\n",
      "GE [-1]\n",
      "GE [-1]\n",
      "GE [1]\n",
      "GE [-1]\n",
      "GE [1]\n",
      "GE [-1]\n",
      "GE [-1]\n",
      "GE [1]\n",
      "GE [-1]\n",
      "GE [-1]\n",
      "GE [1]\n",
      "GE [-1]\n",
      "GE [1]\n",
      "GE [-1]\n",
      "GE [1]\n",
      "GE [1]\n",
      "GE [1]\n",
      "GE [1]\n",
      "GE [-1]\n",
      "GE [-1]\n",
      "GE [-1]\n",
      "GE [-1]\n",
      "GE [-1]\n",
      "GE [1]\n",
      "GE [-1]\n",
      "GE [1]\n",
      "GE [-1]\n",
      "GE [-1]\n",
      "GE [1]\n",
      "GE [-1]\n",
      "GE [-1]\n",
      "GE [-1]\n",
      "GE [-1]\n",
      "GE [-1]\n",
      "GE [-1]\n",
      "GE [-1]\n",
      "GE [-1]\n",
      "GE [-1]\n",
      "GE [1]\n",
      "GE [-1]\n",
      "GE [-1]\n",
      "GE [-1]\n",
      "GE [-1]\n",
      "GE [1]\n",
      "GE [1]\n",
      "GE [-1]\n",
      "GE [-1]\n",
      "GE [-1]\n",
      "GE [1]\n",
      "GE [-1]\n",
      "GE [1]\n",
      "GE [-1]\n",
      "GE [-1]\n",
      "GE [1]\n",
      "GE [-1]\n",
      "GE [1]\n",
      "GE [1]\n",
      "GE [1]\n",
      "GE [-1]\n",
      "GE [-1]\n",
      "GE [1]\n",
      "GE [-1]\n",
      "GE [-1]\n",
      "GE [-1]\n",
      "GE [-1]\n",
      "GE [-1]\n",
      "GE [-1]\n",
      "GE [1]\n",
      "GE [1]\n",
      "GE [1]\n",
      "GE [1]\n",
      "GE [-1]\n",
      "GE [-1]\n",
      "GE [-1]\n",
      "GE [-1]\n",
      "GE [1]\n",
      "GE [-1]\n",
      "GE [1]\n",
      "GE [1]\n",
      "GE [1]\n",
      "GE [-1]\n",
      "GE [-1]\n",
      "GE [-1]\n",
      "GE [-1]\n",
      "GE [-1]\n",
      "GE [-1]\n",
      "GE [-1]\n",
      "GE [1]\n",
      "GE [-1]\n",
      "GE [1]\n",
      "GE [-1]\n",
      "GE [1]\n",
      "GE [1]\n",
      "GE [1]\n",
      "GE [-1]\n",
      "GE [1]\n",
      "GE [-1]\n",
      "GE [-1]\n",
      "GE [-1]\n",
      "GE [1]\n",
      "GE [-1]\n",
      "GE [-1]\n",
      "GE [1]\n",
      "GE [-1]\n",
      "GE [1]\n",
      "GE [-1]\n",
      "GE [1]\n",
      "GE [-1]\n",
      "GE [-1]\n",
      "GE [-1]\n",
      "GE [-1]\n",
      "GE [1]\n",
      "GE [-1]\n",
      "GE [1]\n",
      "GE [-1]\n",
      "GE [-1]\n",
      "GE [1]\n",
      "GE [-1]\n",
      "GE [1]\n",
      "GE [-1]\n",
      "GE [-1]\n",
      "GE [-1]\n",
      "GE [-1]\n",
      "GE [-1]\n",
      "GE [-1]\n",
      "GE [-1]\n",
      "GE [-1]\n",
      "GE [1]\n",
      "GE [1]\n",
      "GE [1]\n",
      "GE [1]\n",
      "GE [-1]\n",
      "GE [-1]\n",
      "GE [-1]\n",
      "GE [1]\n",
      "GE [1]\n",
      "GE [-1]\n",
      "GE [-1]\n",
      "GE [1]\n",
      "GE [-1]\n",
      "GE [-1]\n",
      "GE [-1]\n",
      "GE [-1]\n",
      "GE [-1]\n",
      "GE [-1]\n",
      "GE [-1]\n",
      "GE [-1]\n",
      "GE [-1]\n",
      "GE [-1]\n",
      "GE [1]\n",
      "GE [1]\n",
      "GE [1]\n",
      "GE [-1]\n",
      "GE [-1]\n",
      "GE [1]\n",
      "GE [-1]\n",
      "GE [-1]\n",
      "GE [-1]\n",
      "GE [-1]\n",
      "GE [-1]\n",
      "GE [-1]\n",
      "GE [-1]\n",
      "GE [-1]\n",
      "GE [-1]\n",
      "GE [-1]\n",
      "GE [-1]\n",
      "GE [-1]\n",
      "GE [1]\n",
      "GE [-1]\n",
      "GE [-1]\n",
      "GE [1]\n",
      "GE [1]\n",
      "GE [-1]\n",
      "GE [1]\n",
      "GE [-1]\n",
      "GE [1]\n",
      "GE [1]\n",
      "GE [-1]\n",
      "GE [1]\n",
      "GE [1]\n",
      "GE [-1]\n",
      "GE [-1]\n",
      "GE [-1]\n",
      "GE [-1]\n",
      "GE [-1]\n",
      "GE [1]\n",
      "GE [1]\n",
      "GE [-1]\n",
      "GE [1]\n",
      "GE [-1]\n",
      "GE [1]\n",
      "GE [1]\n",
      "GE [-1]\n",
      "GE [-1]\n",
      "GE [-1]\n",
      "GE [1]\n",
      "GE [-1]\n",
      "GE [-1]\n",
      "GE [-1]\n",
      "GE [1]\n",
      "GE [1]\n",
      "GE [-1]\n",
      "GE [-1]\n",
      "GE [-1]\n",
      "GE [-1]\n",
      "GE [-1]\n",
      "GE [-1]\n",
      "GE [-1]\n",
      "GE [1]\n",
      "GE [1]\n",
      "GE [-1]\n",
      "GE [-1]\n",
      "GE [-1]\n",
      "GE [-1]\n",
      "GE [1]\n",
      "GE [-1]\n",
      "GE [-1]\n",
      "GE [-1]\n",
      "GE [1]\n",
      "GE [-1]\n",
      "GE [1]\n",
      "GE [-1]\n",
      "GE [1]\n",
      "GE [-1]\n",
      "GE [1]\n",
      "GE [-1]\n",
      "GE [1]\n",
      "GE [-1]\n",
      "GE [-1]\n",
      "GE [-1]\n",
      "GE [1]\n",
      "GE [-1]\n",
      "GE [-1]\n",
      "GE [-1]\n",
      "GE [-1]\n",
      "GE [-1]\n",
      "GE [1]\n",
      "GE [-1]\n",
      "GE [-1]\n",
      "GE [1]\n",
      "GE [-1]\n",
      "GE [1]\n",
      "GE [-1]\n",
      "GE [-1]\n",
      "GE [-1]\n",
      "GE [-1]\n",
      "GE [-1]\n",
      "GE [-1]\n",
      "GE [-1]\n",
      "GE [-1]\n",
      "GE [-1]\n",
      "GE [1]\n",
      "GE [-1]\n",
      "GE [-1]\n",
      "GE [-1]\n",
      "GE [-1]\n",
      "GE [-1]\n",
      "GE [-1]\n",
      "GE [1]\n",
      "GE [-1]\n",
      "GE [-1]\n",
      "GE [1]\n",
      "GE [1]\n",
      "GE [1]\n",
      "GE [1]\n",
      "GE [-1]\n",
      "GE [-1]\n",
      "GE [-1]\n",
      "GE [-1]\n",
      "GE [-1]\n",
      "GE [-1]\n",
      "GE [1]\n",
      "GE [1]\n",
      "GE [-1]\n",
      "GE [-1]\n",
      "GE [1]\n",
      "GE [1]\n",
      "GE [-1]\n",
      "GE [-1]\n",
      "GE [1]\n",
      "GE [-1]\n",
      "GE [-1]\n",
      "GE [-1]\n",
      "GE [-1]\n",
      "GE [-1]\n",
      "GE [1]\n",
      "GE [-1]\n",
      "GE [-1]\n",
      "GE [1]\n",
      "GE [1]\n",
      "GE [1]\n",
      "GE [-1]\n",
      "GE [-1]\n",
      "GE [-1]\n",
      "GE [1]\n",
      "GE [-1]\n",
      "GE [-1]\n",
      "GE [1]\n",
      "GE [-1]\n",
      "GE [-1]\n",
      "GE [1]\n",
      "GE [1]\n",
      "GE [-1]\n",
      "GE [-1]\n",
      "GE [-1]\n",
      "GE [1]\n",
      "GE [1]\n",
      "GE [-1]\n",
      "GE [-1]\n",
      "GE [-1]\n",
      "GE [-1]\n",
      "GE [-1]\n",
      "GE [1]\n",
      "GE [1]\n",
      "GE [-1]\n",
      "GE [-1]\n",
      "GE [-1]\n",
      "GE [1]\n",
      "GE [-1]\n",
      "GE [-1]\n",
      "GE [-1]\n",
      "GE [1]\n",
      "GE [-1]\n",
      "GE [-1]\n",
      "GE [-1]\n",
      "GE [-1]\n",
      "GE [-1]\n",
      "GE [-1]\n",
      "GE [-1]\n",
      "GE [-1]\n",
      "GE [-1]\n",
      "GE [-1]\n",
      "GE [-1]\n",
      "GE [1]\n",
      "GE [-1]\n",
      "GE [-1]\n",
      "GE [1]\n",
      "GE [-1]\n",
      "GE [-1]\n",
      "GE [1]\n",
      "GE [-1]\n",
      "GE [1]\n",
      "GE [-1]\n",
      "GE [1]\n",
      "GE [-1]\n",
      "GE [-1]\n",
      "GE [-1]\n",
      "GE [1]\n",
      "GE [-1]\n",
      "GE [-1]\n",
      "GE [1]\n",
      "GE [-1]\n",
      "GE [1]\n",
      "GE [-1]\n",
      "GE [1]\n",
      "GE [-1]\n",
      "GE [-1]\n",
      "GE [-1]\n",
      "GE [-1]\n",
      "GE [-1]\n",
      "GE [-1]\n",
      "GE [1]\n",
      "GE [-1]\n",
      "GE [-1]\n",
      "GE [-1]\n",
      "GE [-1]\n",
      "GE [1]\n",
      "GE [1]\n",
      "GE [1]\n",
      "GE [-1]\n",
      "GE [1]\n",
      "GE [-1]\n",
      "GE [-1]\n",
      "GE [1]\n",
      "GE [-1]\n",
      "GE [-1]\n",
      "GE [1]\n",
      "GE [1]\n",
      "GE [-1]\n",
      "GE [-1]\n",
      "GE [-1]\n",
      "GE [1]\n",
      "GE [-1]\n",
      "GE [-1]\n",
      "GE [-1]\n",
      "GE [1]\n",
      "GE [1]\n",
      "GE [-1]\n",
      "GE [-1]\n",
      "GE [1]\n",
      "GE [1]\n",
      "GE [-1]\n",
      "GE [-1]\n",
      "GE [-1]\n",
      "GE [1]\n",
      "GE [-1]\n",
      "GE [1]\n",
      "GE [-1]\n",
      "GE [-1]\n",
      "GE [-1]\n",
      "GE [1]\n",
      "GE [-1]\n",
      "GE [-1]\n",
      "GE [-1]\n",
      "GE [1]\n",
      "GE [-1]\n",
      "GE [-1]\n",
      "GE [-1]\n",
      "GE [-1]\n",
      "GE [-1]\n",
      "GE [-1]\n",
      "GE [-1]\n",
      "Philips [1]\n",
      "GE [1]\n",
      "GE [-1]\n",
      "GE [1]\n",
      "GE [-1]\n",
      "GE [1]\n",
      "GE [-1]\n",
      "GE [1]\n",
      "Philips [-1]\n",
      "GE [-1]\n",
      "Philips [-1]\n",
      "GE [-1]\n",
      "Philips [1]\n",
      "GE [-1]\n",
      "GE [-1]\n",
      "GE [-1]\n",
      "GE [1]\n",
      "GE [1]\n",
      "GE [-1]\n",
      "GE [-1]\n",
      "Philips [-1]\n",
      "GE [1]\n",
      "GE [-1]\n",
      "Philips [1]\n",
      "GE [1]\n",
      "GE [-1]\n",
      "GE [1]\n",
      "GE [-1]\n",
      "GE [-1]\n",
      "GE [-1]\n",
      "GE [-1]\n",
      "GE [-1]\n",
      "GE [1]\n",
      "Philips [1]\n",
      "GE [1]\n",
      "GE [-1]\n",
      "GE [-1]\n",
      "GE [1]\n",
      "Philips [1]\n",
      "Philips [1]\n",
      "Philips [-1]\n",
      "GE [-1]\n",
      "GE [1]\n",
      "GE [-1]\n",
      "Philips [1]\n",
      "GE [1]\n",
      "Philips [1]\n",
      "GE [1]\n",
      "Philips [-1]\n",
      "GE [-1]\n",
      "Philips [-1]\n",
      "GE [1]\n",
      "GE [-1]\n",
      "GE [-1]\n",
      "GE [1]\n",
      "GE [-1]\n",
      "GE [1]\n",
      "Philips [1]\n",
      "GE [-1]\n",
      "Philips [1]\n",
      "Philips [1]\n",
      "Philips [1]\n",
      "GE [-1]\n",
      "GE [-1]\n",
      "GE [-1]\n",
      "GE [1]\n",
      "GE [-1]\n",
      "GE [1]\n",
      "GE [1]\n",
      "Philips [-1]\n",
      "Philips [-1]\n",
      "GE [-1]\n",
      "GE [-1]\n",
      "GE [-1]\n",
      "GE [-1]\n",
      "Philips [1]\n",
      "GE [1]\n",
      "GE [-1]\n",
      "Philips [-1]\n",
      "GE [-1]\n",
      "Philips [-1]\n",
      "GE [-1]\n",
      "GE [1]\n",
      "GE [-1]\n",
      "GE [1]\n",
      "GE [-1]\n",
      "Philips [1]\n",
      "Philips [-1]\n",
      "Philips [1]\n",
      "GE [-1]\n",
      "Philips [-1]\n",
      "GE [-1]\n",
      "GE [1]\n",
      "Philips [1]\n",
      "GE [1]\n",
      "GE [-1]\n",
      "Philips [-1]\n",
      "Philips [1]\n",
      "GE [-1]\n",
      "GE [-1]\n",
      "GE [1]\n",
      "GE [-1]\n",
      "GE [-1]\n",
      "Philips [1]\n",
      "GE [1]\n",
      "GE [1]\n",
      "GE [1]\n",
      "GE [-1]\n",
      "Philips [-1]\n",
      "GE [-1]\n",
      "GE [1]\n",
      "Philips [-1]\n",
      "Philips [1]\n",
      "GE [1]\n",
      "Philips [-1]\n",
      "GE [1]\n",
      "Philips [-1]\n",
      "GE [1]\n",
      "GE [-1]\n",
      "Philips [1]\n",
      "Philips [-1]\n",
      "GE [-1]\n",
      "Philips [1]\n",
      "GE [-1]\n",
      "GE [-1]\n",
      "GE [-1]\n",
      "Philips [-1]\n",
      "Philips [1]\n",
      "Philips [-1]\n",
      "Philips [1]\n",
      "Philips [1]\n",
      "Philips [1]\n",
      "GE [-1]\n",
      "Philips [1]\n",
      "Philips [-1]\n",
      "GE [1]\n",
      "GE [-1]\n",
      "GE [1]\n",
      "Philips [-1]\n",
      "Philips [1]\n",
      "Philips [-1]\n",
      "GE [-1]\n",
      "Philips [1]\n",
      "Philips [-1]\n",
      "Philips [-1]\n",
      "GE [1]\n",
      "Philips [-1]\n",
      "Philips [1]\n",
      "Philips [1]\n",
      "Philips [-1]\n",
      "GE [-1]\n",
      "Philips [1]\n",
      "Philips [1]\n",
      "Philips [1]\n",
      "GE [-1]\n",
      "Philips [-1]\n",
      "GE [1]\n",
      "Philips [-1]\n",
      "Philips [1]\n",
      "GE [1]\n",
      "GE [-1]\n",
      "Philips [-1]\n",
      "Philips [1]\n",
      "Philips [-1]\n",
      "Philips [1]\n",
      "Philips [-1]\n",
      "Philips [1]\n",
      "Philips [-1]\n",
      "Philips [1]\n",
      "Philips [-1]\n",
      "Philips [1]\n",
      "Philips [1]\n",
      "Philips [-1]\n",
      "Philips [1]\n",
      "Philips [1]\n",
      "Philips [-1]\n",
      "Philips [-1]\n",
      "Philips [1]\n",
      "Philips [-1]\n",
      "Philips [-1]\n",
      "Philips [1]\n",
      "Philips [1]\n",
      "Philips [-1]\n",
      "Philips [1]\n",
      "Philips [1]\n",
      "Philips [1]\n",
      "Philips [-1]\n",
      "Philips [-1]\n",
      "Philips [-1]\n",
      "Philips [1]\n",
      "Philips [1]\n",
      "Philips [-1]\n",
      "Philips [1]\n",
      "Philips [-1]\n",
      "Philips [-1]\n",
      "Philips [-1]\n",
      "Philips [-1]\n",
      "Philips [-1]\n",
      "Philips [-1]\n",
      "Philips [1]\n",
      "Philips [-1]\n",
      "Philips [1]\n",
      "Philips [-1]\n",
      "Philips [-1]\n",
      "Philips [1]\n",
      "Philips [-1]\n",
      "Philips [-1]\n",
      "Philips [1]\n",
      "Philips [-1]\n",
      "Philips [-1]\n",
      "Philips [-1]\n",
      "Philips [1]\n",
      "Philips [1]\n"
     ]
    },
    {
     "name": "stderr",
     "output_type": "stream",
     "text": [
      "ERROR:root:Internal Python error in the inspect module.\n",
      "Below is the traceback from this internal error.\n",
      "\n"
     ]
    },
    {
     "name": "stdout",
     "output_type": "stream",
     "text": [
      "Traceback (most recent call last):\n",
      "  File \"/home/mperkonigg/.local/lib/python3.6/site-packages/IPython/core/interactiveshell.py\", line 3343, in run_code\n",
      "    exec(code_obj, self.user_global_ns, self.user_ns)\n",
      "  File \"<ipython-input-9-8898703a7981>\", line 29, in <module>\n",
      "    grammatrix = [bg[i].detach().cpu().numpy().flatten() for bg in grammatrices]\n",
      "  File \"<ipython-input-9-8898703a7981>\", line 29, in <listcomp>\n",
      "    grammatrix = [bg[i].detach().cpu().numpy().flatten() for bg in grammatrices]\n",
      "KeyboardInterrupt\n",
      "\n",
      "During handling of the above exception, another exception occurred:\n",
      "\n",
      "Traceback (most recent call last):\n",
      "  File \"/home/mperkonigg/.local/lib/python3.6/site-packages/IPython/core/interactiveshell.py\", line 2044, in showtraceback\n",
      "    stb = value._render_traceback_()\n",
      "AttributeError: 'KeyboardInterrupt' object has no attribute '_render_traceback_'\n",
      "\n",
      "During handling of the above exception, another exception occurred:\n",
      "\n",
      "Traceback (most recent call last):\n",
      "  File \"/home/mperkonigg/.local/lib/python3.6/site-packages/IPython/core/ultratb.py\", line 1169, in get_records\n",
      "    return _fixed_getinnerframes(etb, number_of_lines_of_context, tb_offset)\n",
      "  File \"/home/mperkonigg/.local/lib/python3.6/site-packages/IPython/core/ultratb.py\", line 316, in wrapped\n",
      "    return f(*args, **kwargs)\n",
      "  File \"/home/mperkonigg/.local/lib/python3.6/site-packages/IPython/core/ultratb.py\", line 350, in _fixed_getinnerframes\n",
      "    records = fix_frame_records_filenames(inspect.getinnerframes(etb, context))\n",
      "  File \"/usr/lib/python3.6/inspect.py\", line 1490, in getinnerframes\n",
      "    frameinfo = (tb.tb_frame,) + getframeinfo(tb, context)\n",
      "  File \"/usr/lib/python3.6/inspect.py\", line 1448, in getframeinfo\n",
      "    filename = getsourcefile(frame) or getfile(frame)\n",
      "  File \"/usr/lib/python3.6/inspect.py\", line 696, in getsourcefile\n",
      "    if getattr(getmodule(object, filename), '__loader__', None) is not None:\n",
      "  File \"/usr/lib/python3.6/inspect.py\", line 742, in getmodule\n",
      "    os.path.realpath(f)] = module.__name__\n",
      "  File \"/usr/lib/python3.6/posixpath.py\", line 396, in realpath\n",
      "    return abspath(path)\n",
      "  File \"/usr/lib/python3.6/posixpath.py\", line 385, in abspath\n",
      "    return normpath(path)\n",
      "  File \"/usr/lib/python3.6/posixpath.py\", line 362, in normpath\n",
      "    if comp in (empty, dot):\n",
      "KeyboardInterrupt\n"
     ]
    },
    {
     "ename": "TypeError",
     "evalue": "object of type 'NoneType' has no len()",
     "output_type": "error",
     "traceback": [
      "\u001b[0;31m---------------------------------------------------------------------------\u001b[0m",
      "\u001b[0;31mKeyboardInterrupt\u001b[0m                         Traceback (most recent call last)",
      "    \u001b[0;31m[... skipping hidden 1 frame]\u001b[0m\n",
      "\u001b[0;32m<ipython-input-9-8898703a7981>\u001b[0m in \u001b[0;36m<module>\u001b[0;34m\u001b[0m\n\u001b[1;32m     28\u001b[0m \u001b[0;34m\u001b[0m\u001b[0m\n\u001b[0;32m---> 29\u001b[0;31m         \u001b[0mgrammatrix\u001b[0m \u001b[0;34m=\u001b[0m \u001b[0;34m[\u001b[0m\u001b[0mbg\u001b[0m\u001b[0;34m[\u001b[0m\u001b[0mi\u001b[0m\u001b[0;34m]\u001b[0m\u001b[0;34m.\u001b[0m\u001b[0mdetach\u001b[0m\u001b[0;34m(\u001b[0m\u001b[0;34m)\u001b[0m\u001b[0;34m.\u001b[0m\u001b[0mcpu\u001b[0m\u001b[0;34m(\u001b[0m\u001b[0;34m)\u001b[0m\u001b[0;34m.\u001b[0m\u001b[0mnumpy\u001b[0m\u001b[0;34m(\u001b[0m\u001b[0;34m)\u001b[0m\u001b[0;34m.\u001b[0m\u001b[0mflatten\u001b[0m\u001b[0;34m(\u001b[0m\u001b[0;34m)\u001b[0m \u001b[0;32mfor\u001b[0m \u001b[0mbg\u001b[0m \u001b[0;32min\u001b[0m \u001b[0mgrammatrices\u001b[0m\u001b[0;34m]\u001b[0m\u001b[0;34m\u001b[0m\u001b[0;34m\u001b[0m\u001b[0m\n\u001b[0m\u001b[1;32m     30\u001b[0m         train_memitems.append(MemoryItem(x[i].detach().cpu(), det_target, f, scanner[i],\n",
      "\u001b[0;32m<ipython-input-9-8898703a7981>\u001b[0m in \u001b[0;36m<listcomp>\u001b[0;34m(.0)\u001b[0m\n\u001b[1;32m     28\u001b[0m \u001b[0;34m\u001b[0m\u001b[0m\n\u001b[0;32m---> 29\u001b[0;31m         \u001b[0mgrammatrix\u001b[0m \u001b[0;34m=\u001b[0m \u001b[0;34m[\u001b[0m\u001b[0mbg\u001b[0m\u001b[0;34m[\u001b[0m\u001b[0mi\u001b[0m\u001b[0;34m]\u001b[0m\u001b[0;34m.\u001b[0m\u001b[0mdetach\u001b[0m\u001b[0;34m(\u001b[0m\u001b[0;34m)\u001b[0m\u001b[0;34m.\u001b[0m\u001b[0mcpu\u001b[0m\u001b[0;34m(\u001b[0m\u001b[0;34m)\u001b[0m\u001b[0;34m.\u001b[0m\u001b[0mnumpy\u001b[0m\u001b[0;34m(\u001b[0m\u001b[0;34m)\u001b[0m\u001b[0;34m.\u001b[0m\u001b[0mflatten\u001b[0m\u001b[0;34m(\u001b[0m\u001b[0;34m)\u001b[0m \u001b[0;32mfor\u001b[0m \u001b[0mbg\u001b[0m \u001b[0;32min\u001b[0m \u001b[0mgrammatrices\u001b[0m\u001b[0;34m]\u001b[0m\u001b[0;34m\u001b[0m\u001b[0;34m\u001b[0m\u001b[0m\n\u001b[0m\u001b[1;32m     30\u001b[0m         train_memitems.append(MemoryItem(x[i].detach().cpu(), det_target, f, scanner[i],\n",
      "\u001b[0;31mKeyboardInterrupt\u001b[0m: ",
      "\nDuring handling of the above exception, another exception occurred:\n",
      "\u001b[0;31mAttributeError\u001b[0m                            Traceback (most recent call last)",
      "\u001b[0;32m~/.local/lib/python3.6/site-packages/IPython/core/interactiveshell.py\u001b[0m in \u001b[0;36mshowtraceback\u001b[0;34m(self, exc_tuple, filename, tb_offset, exception_only, running_compiled_code)\u001b[0m\n\u001b[1;32m   2043\u001b[0m                         \u001b[0;31m# in the engines. This should return a list of strings.\u001b[0m\u001b[0;34m\u001b[0m\u001b[0;34m\u001b[0m\u001b[0;34m\u001b[0m\u001b[0m\n\u001b[0;32m-> 2044\u001b[0;31m                         \u001b[0mstb\u001b[0m \u001b[0;34m=\u001b[0m \u001b[0mvalue\u001b[0m\u001b[0;34m.\u001b[0m\u001b[0m_render_traceback_\u001b[0m\u001b[0;34m(\u001b[0m\u001b[0;34m)\u001b[0m\u001b[0;34m\u001b[0m\u001b[0;34m\u001b[0m\u001b[0m\n\u001b[0m\u001b[1;32m   2045\u001b[0m                     \u001b[0;32mexcept\u001b[0m \u001b[0mException\u001b[0m\u001b[0;34m:\u001b[0m\u001b[0;34m\u001b[0m\u001b[0;34m\u001b[0m\u001b[0m\n",
      "\u001b[0;31mAttributeError\u001b[0m: 'KeyboardInterrupt' object has no attribute '_render_traceback_'",
      "\nDuring handling of the above exception, another exception occurred:\n",
      "\u001b[0;31mTypeError\u001b[0m                                 Traceback (most recent call last)",
      "    \u001b[0;31m[... skipping hidden 1 frame]\u001b[0m\n",
      "\u001b[0;32m~/.local/lib/python3.6/site-packages/IPython/core/interactiveshell.py\u001b[0m in \u001b[0;36mshowtraceback\u001b[0;34m(self, exc_tuple, filename, tb_offset, exception_only, running_compiled_code)\u001b[0m\n\u001b[1;32m   2045\u001b[0m                     \u001b[0;32mexcept\u001b[0m \u001b[0mException\u001b[0m\u001b[0;34m:\u001b[0m\u001b[0;34m\u001b[0m\u001b[0;34m\u001b[0m\u001b[0m\n\u001b[1;32m   2046\u001b[0m                         stb = self.InteractiveTB.structured_traceback(etype,\n\u001b[0;32m-> 2047\u001b[0;31m                                             value, tb, tb_offset=tb_offset)\n\u001b[0m\u001b[1;32m   2048\u001b[0m \u001b[0;34m\u001b[0m\u001b[0m\n\u001b[1;32m   2049\u001b[0m                     \u001b[0mself\u001b[0m\u001b[0;34m.\u001b[0m\u001b[0m_showtraceback\u001b[0m\u001b[0;34m(\u001b[0m\u001b[0metype\u001b[0m\u001b[0;34m,\u001b[0m \u001b[0mvalue\u001b[0m\u001b[0;34m,\u001b[0m \u001b[0mstb\u001b[0m\u001b[0;34m)\u001b[0m\u001b[0;34m\u001b[0m\u001b[0;34m\u001b[0m\u001b[0m\n",
      "\u001b[0;32m~/.local/lib/python3.6/site-packages/IPython/core/ultratb.py\u001b[0m in \u001b[0;36mstructured_traceback\u001b[0;34m(self, etype, value, tb, tb_offset, number_of_lines_of_context)\u001b[0m\n\u001b[1;32m   1434\u001b[0m             \u001b[0mself\u001b[0m\u001b[0;34m.\u001b[0m\u001b[0mtb\u001b[0m \u001b[0;34m=\u001b[0m \u001b[0mtb\u001b[0m\u001b[0;34m\u001b[0m\u001b[0;34m\u001b[0m\u001b[0m\n\u001b[1;32m   1435\u001b[0m         return FormattedTB.structured_traceback(\n\u001b[0;32m-> 1436\u001b[0;31m             self, etype, value, tb, tb_offset, number_of_lines_of_context)\n\u001b[0m\u001b[1;32m   1437\u001b[0m \u001b[0;34m\u001b[0m\u001b[0m\n\u001b[1;32m   1438\u001b[0m \u001b[0;34m\u001b[0m\u001b[0m\n",
      "\u001b[0;32m~/.local/lib/python3.6/site-packages/IPython/core/ultratb.py\u001b[0m in \u001b[0;36mstructured_traceback\u001b[0;34m(self, etype, value, tb, tb_offset, number_of_lines_of_context)\u001b[0m\n\u001b[1;32m   1334\u001b[0m             \u001b[0;31m# Verbose modes need a full traceback\u001b[0m\u001b[0;34m\u001b[0m\u001b[0;34m\u001b[0m\u001b[0;34m\u001b[0m\u001b[0m\n\u001b[1;32m   1335\u001b[0m             return VerboseTB.structured_traceback(\n\u001b[0;32m-> 1336\u001b[0;31m                 \u001b[0mself\u001b[0m\u001b[0;34m,\u001b[0m \u001b[0metype\u001b[0m\u001b[0;34m,\u001b[0m \u001b[0mvalue\u001b[0m\u001b[0;34m,\u001b[0m \u001b[0mtb\u001b[0m\u001b[0;34m,\u001b[0m \u001b[0mtb_offset\u001b[0m\u001b[0;34m,\u001b[0m \u001b[0mnumber_of_lines_of_context\u001b[0m\u001b[0;34m\u001b[0m\u001b[0;34m\u001b[0m\u001b[0m\n\u001b[0m\u001b[1;32m   1337\u001b[0m             )\n\u001b[1;32m   1338\u001b[0m         \u001b[0;32melif\u001b[0m \u001b[0mmode\u001b[0m \u001b[0;34m==\u001b[0m \u001b[0;34m'Minimal'\u001b[0m\u001b[0;34m:\u001b[0m\u001b[0;34m\u001b[0m\u001b[0;34m\u001b[0m\u001b[0m\n",
      "\u001b[0;32m~/.local/lib/python3.6/site-packages/IPython/core/ultratb.py\u001b[0m in \u001b[0;36mstructured_traceback\u001b[0;34m(self, etype, evalue, etb, tb_offset, number_of_lines_of_context)\u001b[0m\n\u001b[1;32m   1191\u001b[0m \u001b[0;34m\u001b[0m\u001b[0m\n\u001b[1;32m   1192\u001b[0m         formatted_exception = self.format_exception_as_a_whole(etype, evalue, etb, number_of_lines_of_context,\n\u001b[0;32m-> 1193\u001b[0;31m                                                                tb_offset)\n\u001b[0m\u001b[1;32m   1194\u001b[0m \u001b[0;34m\u001b[0m\u001b[0m\n\u001b[1;32m   1195\u001b[0m         \u001b[0mcolors\u001b[0m \u001b[0;34m=\u001b[0m \u001b[0mself\u001b[0m\u001b[0;34m.\u001b[0m\u001b[0mColors\u001b[0m  \u001b[0;31m# just a shorthand + quicker name lookup\u001b[0m\u001b[0;34m\u001b[0m\u001b[0;34m\u001b[0m\u001b[0m\n",
      "\u001b[0;32m~/.local/lib/python3.6/site-packages/IPython/core/ultratb.py\u001b[0m in \u001b[0;36mformat_exception_as_a_whole\u001b[0;34m(self, etype, evalue, etb, number_of_lines_of_context, tb_offset)\u001b[0m\n\u001b[1;32m   1148\u001b[0m \u001b[0;34m\u001b[0m\u001b[0m\n\u001b[1;32m   1149\u001b[0m \u001b[0;34m\u001b[0m\u001b[0m\n\u001b[0;32m-> 1150\u001b[0;31m         \u001b[0mlast_unique\u001b[0m\u001b[0;34m,\u001b[0m \u001b[0mrecursion_repeat\u001b[0m \u001b[0;34m=\u001b[0m \u001b[0mfind_recursion\u001b[0m\u001b[0;34m(\u001b[0m\u001b[0morig_etype\u001b[0m\u001b[0;34m,\u001b[0m \u001b[0mevalue\u001b[0m\u001b[0;34m,\u001b[0m \u001b[0mrecords\u001b[0m\u001b[0;34m)\u001b[0m\u001b[0;34m\u001b[0m\u001b[0;34m\u001b[0m\u001b[0m\n\u001b[0m\u001b[1;32m   1151\u001b[0m \u001b[0;34m\u001b[0m\u001b[0m\n\u001b[1;32m   1152\u001b[0m         \u001b[0mframes\u001b[0m \u001b[0;34m=\u001b[0m \u001b[0mself\u001b[0m\u001b[0;34m.\u001b[0m\u001b[0mformat_records\u001b[0m\u001b[0;34m(\u001b[0m\u001b[0mrecords\u001b[0m\u001b[0;34m,\u001b[0m \u001b[0mlast_unique\u001b[0m\u001b[0;34m,\u001b[0m \u001b[0mrecursion_repeat\u001b[0m\u001b[0;34m)\u001b[0m\u001b[0;34m\u001b[0m\u001b[0;34m\u001b[0m\u001b[0m\n",
      "\u001b[0;32m~/.local/lib/python3.6/site-packages/IPython/core/ultratb.py\u001b[0m in \u001b[0;36mfind_recursion\u001b[0;34m(etype, value, records)\u001b[0m\n\u001b[1;32m    449\u001b[0m     \u001b[0;31m# first frame (from in to out) that looks different.\u001b[0m\u001b[0;34m\u001b[0m\u001b[0;34m\u001b[0m\u001b[0;34m\u001b[0m\u001b[0m\n\u001b[1;32m    450\u001b[0m     \u001b[0;32mif\u001b[0m \u001b[0;32mnot\u001b[0m \u001b[0mis_recursion_error\u001b[0m\u001b[0;34m(\u001b[0m\u001b[0metype\u001b[0m\u001b[0;34m,\u001b[0m \u001b[0mvalue\u001b[0m\u001b[0;34m,\u001b[0m \u001b[0mrecords\u001b[0m\u001b[0;34m)\u001b[0m\u001b[0;34m:\u001b[0m\u001b[0;34m\u001b[0m\u001b[0;34m\u001b[0m\u001b[0m\n\u001b[0;32m--> 451\u001b[0;31m         \u001b[0;32mreturn\u001b[0m \u001b[0mlen\u001b[0m\u001b[0;34m(\u001b[0m\u001b[0mrecords\u001b[0m\u001b[0;34m)\u001b[0m\u001b[0;34m,\u001b[0m \u001b[0;36m0\u001b[0m\u001b[0;34m\u001b[0m\u001b[0;34m\u001b[0m\u001b[0m\n\u001b[0m\u001b[1;32m    452\u001b[0m \u001b[0;34m\u001b[0m\u001b[0m\n\u001b[1;32m    453\u001b[0m     \u001b[0;31m# Select filename, lineno, func_name to track frames with\u001b[0m\u001b[0;34m\u001b[0m\u001b[0;34m\u001b[0m\u001b[0;34m\u001b[0m\u001b[0m\n",
      "\u001b[0;31mTypeError\u001b[0m: object of type 'NoneType' has no len()"
     ]
    }
   ],
   "source": [
    "grammatrices = []\n",
    "for k, batch in enumerate(dl):\n",
    "    train_memitems = []\n",
    "    grammatrices = []\n",
    "    torch.cuda.empty_cache()\n",
    "\n",
    "    x, y, scanner, filepath = batch\n",
    "\n",
    "    if type(x) is list:\n",
    "        x = torch.stack(x)\n",
    "\n",
    "    x = x.to(device)\n",
    "\n",
    "    if x.size()[1]==1:\n",
    "        xstyle = torch.cat([x, x, x], dim=1)\n",
    "    else:\n",
    "        xstyle = x\n",
    "    _ = stylemodel(xstyle)\n",
    "\n",
    "    for i, f in enumerate(filepath):\n",
    "        target = y[i]\n",
    "        if type(target) == torch.Tensor:\n",
    "            det_target = target.detach().cpu()\n",
    "        else:\n",
    "            det_target = {}\n",
    "            for k, v in target.items():\n",
    "                det_target[k] = v.detach().cpu()\n",
    "\n",
    "        grammatrix = [bg[i].detach().cpu().numpy().flatten() for bg in grammatrices]\n",
    "        train_memitems.append(MemoryItem(x[i].detach().cpu(), det_target, f, scanner[i],\n",
    "                                      current_grammatrix=grammatrix[0],\n",
    "                                      pseudo_domain=0))\n",
    "    \n",
    "    for mi in train_memitems:\n",
    "        print(mi.scanner, clf.predict(mi.current_grammatrix.reshape(1, -1)))\n",
    "        "
   ]
  },
  {
   "cell_type": "code",
   "execution_count": 4,
   "metadata": {},
   "outputs": [],
   "source": [
    "matrices_for_embedding = []\n",
    "base_matrices = []\n",
    "grammatrices = []\n",
    "scanners = []\n",
    "\n",
    "for batch in dl:\n",
    "    images, targets, scanner, filepath = batch\n",
    "    \n",
    "    x = images.to(device)\n",
    "    x = torch.cat([x, x, x], dim=1)\n",
    "    y_style = stylemodel(x.float())\n",
    "    for gm in grammatrices[0]:\n",
    "        matrices_for_embedding.append(gm.detach().cpu().numpy().flatten())\n",
    "        grammatrices = []\n",
    "    if scanner[0] == 'Siemens':\n",
    "        scanners.append(0)\n",
    "    elif scanner[0] == 'GE':\n",
    "        scanners.append(1)\n",
    "    elif scanner[0]=='Philips':\n",
    "        scanners.append(2)\n",
    "    else:\n",
    "        scanners.append(3)"
   ]
  },
  {
   "cell_type": "code",
   "execution_count": 5,
   "metadata": {},
   "outputs": [
    {
     "data": {
      "text/plain": [
       "<matplotlib.collections.PathCollection at 0x7fb1b3befcf8>"
      ]
     },
     "execution_count": 5,
     "metadata": {},
     "output_type": "execute_result"
    },
    {
     "data": {
      "image/png": "[encoded data removed]",
      "text/plain": [
       "<Figure size 432x288 with 1 Axes>"
      ]
     },
     "metadata": {
      "needs_background": "light"
     },
     "output_type": "display_data"
    }
   ],
   "source": [
    "tsne = TSNE(n_components=2, perplexity=30)\n",
    "elements_tsne = tsne.fit_transform(matrices_for_embedding)\n",
    "plt.scatter(elements_tsne[:, 0], elements_tsne[:, 1], c=scanners, cmap='Set1')"
   ]
  },
  {
   "cell_type": "code",
   "execution_count": 6,
   "metadata": {},
   "outputs": [
    {
     "data": {
      "text/plain": [
       "(262144,)"
      ]
     },
     "execution_count": 6,
     "metadata": {},
     "output_type": "execute_result"
    }
   ],
   "source": []
  },
  {
   "cell_type": "code",
   "execution_count": 19,
   "metadata": {},
   "outputs": [
    {
     "data": {
      "text/plain": [
       "<matplotlib.legend.Legend at 0x7fc37bca5780>"
      ]
     },
     "execution_count": 19,
     "metadata": {},
     "output_type": "execute_result"
    },
    {
     "data": {
      "image/png": "[encoded data removed]",
      "text/plain": [
       "<Figure size 432x288 with 1 Axes>"
      ]
     },
     "metadata": {
      "needs_background": "light"
     },
     "output_type": "display_data"
    }
   ],
   "source": [
    "fig, ax = plt.subplots()\n",
    "scatter = ax.scatter(elements_tsne[:, 0], elements_tsne[:, 1], c=scanners, cmap='Set1', )\n",
    "legend1 = ax.legend(*scatter.legend_elements(),\n",
    "                    loc=\"lower left\", title=\"Classes\")\n",
    "ax.add_artist(legend1)"
   ]
  },
  {
   "cell_type": "code",
   "execution_count": 15,
   "metadata": {},
   "outputs": [
    {
     "data": {
      "text/plain": [
       "(65536,)"
      ]
     },
     "execution_count": 15,
     "metadata": {},
     "output_type": "execute_result"
    }
   ],
   "source": [
    "matrices_for_embedding[0].shape"
   ]
  },
  {
   "cell_type": "markdown",
   "metadata": {},
   "source": [
    "matrices_for_embeddingGACY"
   ]
  },
  {
   "cell_type": "code",
   "execution_count": 3,
   "metadata": {},
   "outputs": [],
   "source": [
    "device = torch.device('cuda')\n",
    "\n",
    "stylemodel = tvmodels.resnet50(pretrained=True)\n",
    "stylemodel.to(device)\n",
    "stylemodel.eval()\n",
    "gramlayers = [stylemodel.layer1[-1].conv1,\n",
    "                          stylemodel.layer2[-1].conv1]\n",
    "register_hooks_2d(gramlayers)\n",
    "\n",
    "dl = torch.utils.data.DataLoader(LIDCDataset('/project/catinous/lunadata/luna_lunacombined_dataset_malignancy.csv',\n",
    "                               iterations=None,\n",
    "                               batch_size=4,\n",
    "                               split=['base_train']),\n",
    "               batch_size=1, num_workers=4, pin_memory=True, shuffle=True,\n",
    "                    collate_fn=cutils.collate_fn)\n",
    "\n",
    "dl_trainset = torch.utils.data.DataLoader(LIDCDataset('/project/catinous/lunadata/luna_lunacombined_dataset_malignancy.csv',\n",
    "                               iterations=None,\n",
    "                               batch_size=4,\n",
    "                               split=['train']),\n",
    "               batch_size=1, num_workers=4, pin_memory=True, shuffle=True,\n",
    "                    collate_fn=cutils.collate_fn)"
   ]
  },
  {
   "cell_type": "code",
   "execution_count": 4,
   "metadata": {},
   "outputs": [],
   "source": [
    "with open('initimages.pkl', 'rb') as f:\n",
    "    initimages = pickle.load(f)\n",
    "    \n",
    "with open('batchimages.pkl', 'rb') as f:\n",
    "    batchimages = pickle.load(f)"
   ]
  },
  {
   "cell_type": "code",
   "execution_count": 5,
   "metadata": {},
   "outputs": [],
   "source": [
    "with open('graminits.pkl', 'rb') as f:\n",
    "    graminits = pickle.load(f)"
   ]
  },
  {
   "cell_type": "code",
   "execution_count": 6,
   "metadata": {},
   "outputs": [
    {
     "data": {
      "text/plain": [
       "array([1.2230446e-07, 6.1188661e-07, 2.7963972e-07, ..., 2.0711517e-05,\n",
       "       6.8791751e-06, 2.5979023e-05], dtype=float32)"
      ]
     },
     "execution_count": 6,
     "metadata": {},
     "output_type": "execute_result"
    }
   ],
   "source": [
    "graminits[-4]"
   ]
  },
  {
   "cell_type": "code",
   "execution_count": 7,
   "metadata": {},
   "outputs": [
    {
     "data": {
      "text/plain": [
       "[[tensor([[1.2230e-07, 6.1189e-07, 2.7964e-07,  ..., 6.8759e-07, 1.9141e-07,\n",
       "           2.6144e-07],\n",
       "          [6.1189e-07, 5.5636e-05, 1.5475e-05,  ..., 4.5849e-05, 9.8103e-06,\n",
       "           1.7065e-05],\n",
       "          [2.7964e-07, 1.5475e-05, 1.8411e-05,  ..., 2.7238e-05, 6.8293e-06,\n",
       "           7.1689e-06],\n",
       "          ...,\n",
       "          [6.8759e-07, 4.5849e-05, 2.7238e-05,  ..., 8.9272e-05, 2.2973e-05,\n",
       "           2.0712e-05],\n",
       "          [1.9141e-07, 9.8103e-06, 6.8293e-06,  ..., 2.2973e-05, 2.2250e-05,\n",
       "           6.8792e-06],\n",
       "          [2.6144e-07, 1.7065e-05, 7.1689e-06,  ..., 2.0712e-05, 6.8792e-06,\n",
       "           2.5979e-05]], device='cuda:0', grad_fn=<DivBackward0>),\n",
       "  tensor([[1.5585e-07, 6.4088e-07, 2.6210e-07,  ..., 6.4839e-07, 1.5884e-07,\n",
       "           5.3770e-07],\n",
       "          [6.4088e-07, 5.2118e-05, 1.5566e-05,  ..., 4.3894e-05, 1.0406e-05,\n",
       "           1.3349e-05],\n",
       "          [2.6210e-07, 1.5566e-05, 1.8841e-05,  ..., 2.7395e-05, 8.1205e-06,\n",
       "           4.1589e-06],\n",
       "          ...,\n",
       "          [6.4839e-07, 4.3894e-05, 2.7395e-05,  ..., 8.6105e-05, 2.3146e-05,\n",
       "           1.4136e-05],\n",
       "          [1.5884e-07, 1.0406e-05, 8.1205e-06,  ..., 2.3146e-05, 2.3693e-05,\n",
       "           3.0200e-06],\n",
       "          [5.3770e-07, 1.3349e-05, 4.1589e-06,  ..., 1.4136e-05, 3.0200e-06,\n",
       "           2.0837e-05]], device='cuda:0', grad_fn=<DivBackward0>),\n",
       "  tensor([[1.5917e-07, 5.9796e-07, 2.8853e-07,  ..., 6.2834e-07, 1.8551e-07,\n",
       "           4.3902e-07],\n",
       "          [5.9796e-07, 5.5458e-05, 1.4960e-05,  ..., 4.5306e-05, 7.7295e-06,\n",
       "           1.5600e-05],\n",
       "          [2.8853e-07, 1.4960e-05, 1.7272e-05,  ..., 2.7100e-05, 6.0882e-06,\n",
       "           6.0598e-06],\n",
       "          ...,\n",
       "          [6.2834e-07, 4.5306e-05, 2.7100e-05,  ..., 9.0604e-05, 1.8825e-05,\n",
       "           1.7634e-05],\n",
       "          [1.8551e-07, 7.7295e-06, 6.0882e-06,  ..., 1.8825e-05, 1.6129e-05,\n",
       "           4.8591e-06],\n",
       "          [4.3902e-07, 1.5600e-05, 6.0598e-06,  ..., 1.7634e-05, 4.8591e-06,\n",
       "           2.3662e-05]], device='cuda:0', grad_fn=<DivBackward0>),\n",
       "  tensor([[1.3837e-07, 6.6283e-07, 2.8390e-07,  ..., 6.9276e-07, 1.8542e-07,\n",
       "           3.6331e-07],\n",
       "          [6.6283e-07, 5.4621e-05, 1.5355e-05,  ..., 4.4509e-05, 9.0655e-06,\n",
       "           1.7610e-05],\n",
       "          [2.8390e-07, 1.5355e-05, 1.9683e-05,  ..., 2.7684e-05, 6.2177e-06,\n",
       "           7.0450e-06],\n",
       "          ...,\n",
       "          [6.9276e-07, 4.4509e-05, 2.7684e-05,  ..., 8.9244e-05, 2.0527e-05,\n",
       "           2.0509e-05],\n",
       "          [1.8542e-07, 9.0655e-06, 6.2177e-06,  ..., 2.0527e-05, 1.8629e-05,\n",
       "           6.7493e-06],\n",
       "          [3.6331e-07, 1.7610e-05, 7.0450e-06,  ..., 2.0509e-05, 6.7493e-06,\n",
       "           2.6460e-05]], device='cuda:0', grad_fn=<DivBackward0>)]]"
      ]
     },
     "execution_count": 7,
     "metadata": {},
     "output_type": "execute_result"
    }
   ],
   "source": [
    "grammatrices = []\n",
    "stylemodel(initimages.to(device))\n",
    "grammatrices"
   ]
  },
  {
   "cell_type": "code",
   "execution_count": 8,
   "metadata": {},
   "outputs": [
    {
     "data": {
      "text/plain": [
       "tensor([2.4277e-05, 1.4544e-05, 2.0965e-05,  ..., 4.4857e-05, 4.4442e-05,\n",
       "        9.2610e-05], device='cuda:0', grad_fn=<ViewBackward>)"
      ]
     },
     "execution_count": 8,
     "metadata": {},
     "output_type": "execute_result"
    }
   ],
   "source": [
    "with open('grammatrices.pkl', 'rb') as f:\n",
    "    grammatrices = pickle.load(f)\n",
    "grammatrices[0][0].flatten()"
   ]
  },
  {
   "cell_type": "code",
   "execution_count": 9,
   "metadata": {},
   "outputs": [
    {
     "data": {
      "text/plain": [
       "torch.Size([4, 3, 512, 512])"
      ]
     },
     "execution_count": 9,
     "metadata": {},
     "output_type": "execute_result"
    }
   ],
   "source": [
    "batchimages.shape"
   ]
  },
  {
   "cell_type": "code",
   "execution_count": 13,
   "metadata": {},
   "outputs": [
    {
     "data": {
      "text/plain": [
       "[[tensor([[2.7324e-07, 9.4219e-07, 3.6022e-07,  ..., 1.1671e-06, 4.1239e-07,\n",
       "           2.5058e-07],\n",
       "          [9.4219e-07, 5.4386e-05, 1.5574e-05,  ..., 4.4822e-05, 1.6130e-05,\n",
       "           1.3747e-05],\n",
       "          [3.6022e-07, 1.5574e-05, 1.9381e-05,  ..., 2.5519e-05, 1.1957e-05,\n",
       "           4.5001e-06],\n",
       "          ...,\n",
       "          [1.1671e-06, 4.4822e-05, 2.5519e-05,  ..., 8.3958e-05, 3.7214e-05,\n",
       "           1.4662e-05],\n",
       "          [4.1239e-07, 1.6130e-05, 1.1957e-05,  ..., 3.7214e-05, 4.2990e-05,\n",
       "           6.5469e-06],\n",
       "          [2.5058e-07, 1.3747e-05, 4.5001e-06,  ..., 1.4662e-05, 6.5469e-06,\n",
       "           1.6573e-05]], device='cuda:0', grad_fn=<DivBackward0>),\n",
       "  tensor([[1.7677e-07, 6.9455e-07, 2.7676e-07,  ..., 8.4310e-07, 2.5366e-07,\n",
       "           4.7361e-07],\n",
       "          [6.9455e-07, 5.4986e-05, 1.5948e-05,  ..., 4.5678e-05, 9.5470e-06,\n",
       "           1.9281e-05],\n",
       "          [2.7676e-07, 1.5948e-05, 1.9147e-05,  ..., 2.8325e-05, 6.9662e-06,\n",
       "           8.5651e-06],\n",
       "          ...,\n",
       "          [8.4310e-07, 4.5678e-05, 2.8325e-05,  ..., 8.7883e-05, 2.2413e-05,\n",
       "           2.4993e-05],\n",
       "          [2.5366e-07, 9.5470e-06, 6.9662e-06,  ..., 2.2413e-05, 2.0610e-05,\n",
       "           9.4275e-06],\n",
       "          [4.7361e-07, 1.9281e-05, 8.5651e-06,  ..., 2.4993e-05, 9.4275e-06,\n",
       "           3.1517e-05]], device='cuda:0', grad_fn=<DivBackward0>),\n",
       "  tensor([[1.9166e-07, 7.2494e-07, 3.0491e-07,  ..., 7.8357e-07, 1.8430e-07,\n",
       "           4.6997e-07],\n",
       "          [7.2494e-07, 5.3406e-05, 1.5829e-05,  ..., 4.4265e-05, 1.1316e-05,\n",
       "           1.5406e-05],\n",
       "          [3.0491e-07, 1.5829e-05, 1.9730e-05,  ..., 2.6732e-05, 8.6775e-06,\n",
       "           6.1221e-06],\n",
       "          ...,\n",
       "          [7.8357e-07, 4.4265e-05, 2.6732e-05,  ..., 8.5963e-05, 2.4778e-05,\n",
       "           1.7527e-05],\n",
       "          [1.8430e-07, 1.1316e-05, 8.6775e-06,  ..., 2.4778e-05, 2.5141e-05,\n",
       "           5.2832e-06],\n",
       "          [4.6997e-07, 1.5406e-05, 6.1221e-06,  ..., 1.7527e-05, 5.2832e-06,\n",
       "           2.3594e-05]], device='cuda:0', grad_fn=<DivBackward0>),\n",
       "  tensor([[1.5121e-07, 6.1310e-07, 2.2924e-07,  ..., 7.2652e-07, 2.2312e-07,\n",
       "           2.2243e-07],\n",
       "          [6.1310e-07, 5.4754e-05, 1.4418e-05,  ..., 4.5844e-05, 9.9795e-06,\n",
       "           1.5852e-05],\n",
       "          [2.2924e-07, 1.4418e-05, 1.6518e-05,  ..., 2.5962e-05, 6.7852e-06,\n",
       "           5.8379e-06],\n",
       "          ...,\n",
       "          [7.2652e-07, 4.5844e-05, 2.5962e-05,  ..., 9.0761e-05, 2.3166e-05,\n",
       "           1.8550e-05],\n",
       "          [2.2312e-07, 9.9795e-06, 6.7852e-06,  ..., 2.3166e-05, 2.1558e-05,\n",
       "           6.2283e-06],\n",
       "          [2.2243e-07, 1.5852e-05, 5.8379e-06,  ..., 1.8550e-05, 6.2283e-06,\n",
       "           2.4646e-05]], device='cuda:0', grad_fn=<DivBackward0>)]]"
      ]
     },
     "execution_count": 13,
     "metadata": {},
     "output_type": "execute_result"
    }
   ],
   "source": [
    "grammatrices = []\n",
    "stylemodel(batchimages.to(device))\n",
    "grammatrices"
   ]
  },
  {
   "cell_type": "code",
   "execution_count": 24,
   "metadata": {},
   "outputs": [
    {
     "data": {
      "text/plain": [
       "<matplotlib.image.AxesImage at 0x7f84e48eea58>"
      ]
     },
     "execution_count": 24,
     "metadata": {},
     "output_type": "execute_result"
    },
    {
     "data": {
      "image/png": "[encoded data removed]",
      "text/plain": [
       "<Figure size 432x288 with 1 Axes>"
      ]
     },
     "metadata": {
      "needs_background": "light"
     },
     "output_type": "display_data"
    }
   ],
   "source": [
    "plt.imshow(batchimages[1].cpu()[0])"
   ]
  },
  {
   "cell_type": "code",
   "execution_count": 9,
   "metadata": {},
   "outputs": [
    {
     "data": {
      "text/plain": [
       "SparseRandomProjection(n_components=30, random_state=42)"
      ]
     },
     "execution_count": 9,
     "metadata": {},
     "output_type": "execute_result"
    }
   ],
   "source": [
    "transformer = SparseRandomProjection(random_state=42, n_components=30)\n",
    "transformer.fit(graminits)"
   ]
  },
  {
   "cell_type": "code",
   "execution_count": 12,
   "metadata": {},
   "outputs": [
    {
     "data": {
      "text/plain": [
       "array([-1.64814529e-05,  3.72142608e-02,  3.93862968e-02,  3.57540876e-02,\n",
       "       -2.83270197e-02, -5.96758534e-02, -2.37012656e-02,  1.34680638e-02,\n",
       "        3.78579045e-03, -1.76635279e-03, -2.47125236e-02, -5.66534023e-02,\n",
       "        1.78593723e-02, -9.71293179e-03,  3.06410703e-02,  1.80707206e-02,\n",
       "        3.25414333e-02,  4.30791345e-02,  5.13541708e-02, -5.77875370e-02,\n",
       "       -1.40213135e-01,  3.58611558e-02,  5.11812861e-02,  2.86695559e-02,\n",
       "        2.89939246e-02,  6.03714753e-02,  4.72039359e-02,  2.61024640e-02,\n",
       "        3.26153803e-02, -2.89328323e-03,  3.79841484e-02,  3.71078149e-02])"
      ]
     },
     "execution_count": 12,
     "metadata": {},
     "output_type": "execute_result"
    }
   ],
   "source": [
    "trans_initelements = transformer.transform(graminits)\n",
    "clf = IsolationForest(n_estimators=10, random_state=42).fit(trans_initelements)\n",
    "clf.decision_function(trans_initelements)"
   ]
  },
  {
   "cell_type": "code",
   "execution_count": 19,
   "metadata": {},
   "outputs": [],
   "source": [
    "gramm_batch = []\n",
    "for gm in grammatrices[0]:\n",
    "    gramm_batch.append(gm.flatten())"
   ]
  },
  {
   "cell_type": "code",
   "execution_count": 30,
   "metadata": {},
   "outputs": [
    {
     "ename": "RuntimeError",
     "evalue": "Can't call numpy() on Tensor that requires grad. Use tensor.detach().numpy() instead.",
     "output_type": "error",
     "traceback": [
      "\u001b[0;31m---------------------------------------------------------------------------\u001b[0m",
      "\u001b[0;31mRuntimeError\u001b[0m                              Traceback (most recent call last)",
      "\u001b[0;32m<ipython-input-30-c7a679752faa>\u001b[0m in \u001b[0;36m<module>\u001b[0;34m\u001b[0m\n\u001b[1;32m      1\u001b[0m \u001b[0;32mfor\u001b[0m \u001b[0mi\u001b[0m \u001b[0;32min\u001b[0m \u001b[0mrange\u001b[0m\u001b[0;34m(\u001b[0m\u001b[0;36m4\u001b[0m\u001b[0;34m)\u001b[0m\u001b[0;34m:\u001b[0m\u001b[0;34m\u001b[0m\u001b[0;34m\u001b[0m\u001b[0m\n\u001b[0;32m----> 2\u001b[0;31m     \u001b[0mtb\u001b[0m \u001b[0;34m=\u001b[0m \u001b[0mtransformer\u001b[0m\u001b[0;34m.\u001b[0m\u001b[0mtransform\u001b[0m\u001b[0;34m(\u001b[0m\u001b[0mgramm_batch\u001b[0m\u001b[0;34m[\u001b[0m\u001b[0mi\u001b[0m\u001b[0;34m]\u001b[0m\u001b[0;34m.\u001b[0m\u001b[0mcpu\u001b[0m\u001b[0;34m(\u001b[0m\u001b[0;34m)\u001b[0m\u001b[0;34m.\u001b[0m\u001b[0mreshape\u001b[0m\u001b[0;34m(\u001b[0m\u001b[0;36m1\u001b[0m\u001b[0;34m,\u001b[0m \u001b[0;34m-\u001b[0m\u001b[0;36m1\u001b[0m\u001b[0;34m)\u001b[0m\u001b[0;34m)\u001b[0m\u001b[0;34m\u001b[0m\u001b[0;34m\u001b[0m\u001b[0m\n\u001b[0m\u001b[1;32m      3\u001b[0m     \u001b[0mprint\u001b[0m\u001b[0;34m(\u001b[0m\u001b[0mclf\u001b[0m\u001b[0;34m.\u001b[0m\u001b[0mdecision_function\u001b[0m\u001b[0;34m(\u001b[0m\u001b[0mtb\u001b[0m\u001b[0;34m)\u001b[0m\u001b[0;34m)\u001b[0m\u001b[0;34m\u001b[0m\u001b[0;34m\u001b[0m\u001b[0m\n",
      "\u001b[0;32m~/venv_test/venv/local/lib/python3.6/site-packages/sklearn/random_projection.py\u001b[0m in \u001b[0;36mtransform\u001b[0;34m(self, X)\u001b[0m\n\u001b[1;32m    416\u001b[0m             \u001b[0mProjected\u001b[0m \u001b[0marray\u001b[0m\u001b[0;34m.\u001b[0m\u001b[0;34m\u001b[0m\u001b[0;34m\u001b[0m\u001b[0m\n\u001b[1;32m    417\u001b[0m         \"\"\"\n\u001b[0;32m--> 418\u001b[0;31m         \u001b[0mX\u001b[0m \u001b[0;34m=\u001b[0m \u001b[0mcheck_array\u001b[0m\u001b[0;34m(\u001b[0m\u001b[0mX\u001b[0m\u001b[0;34m,\u001b[0m \u001b[0maccept_sparse\u001b[0m\u001b[0;34m=\u001b[0m\u001b[0;34m[\u001b[0m\u001b[0;34m'csr'\u001b[0m\u001b[0;34m,\u001b[0m \u001b[0;34m'csc'\u001b[0m\u001b[0;34m]\u001b[0m\u001b[0;34m)\u001b[0m\u001b[0;34m\u001b[0m\u001b[0;34m\u001b[0m\u001b[0m\n\u001b[0m\u001b[1;32m    419\u001b[0m \u001b[0;34m\u001b[0m\u001b[0m\n\u001b[1;32m    420\u001b[0m         \u001b[0mcheck_is_fitted\u001b[0m\u001b[0;34m(\u001b[0m\u001b[0mself\u001b[0m\u001b[0;34m)\u001b[0m\u001b[0;34m\u001b[0m\u001b[0;34m\u001b[0m\u001b[0m\n",
      "\u001b[0;32m~/venv_test/venv/local/lib/python3.6/site-packages/sklearn/utils/validation.py\u001b[0m in \u001b[0;36minner_f\u001b[0;34m(*args, **kwargs)\u001b[0m\n\u001b[1;32m     70\u001b[0m                           FutureWarning)\n\u001b[1;32m     71\u001b[0m         \u001b[0mkwargs\u001b[0m\u001b[0;34m.\u001b[0m\u001b[0mupdate\u001b[0m\u001b[0;34m(\u001b[0m\u001b[0;34m{\u001b[0m\u001b[0mk\u001b[0m\u001b[0;34m:\u001b[0m \u001b[0marg\u001b[0m \u001b[0;32mfor\u001b[0m \u001b[0mk\u001b[0m\u001b[0;34m,\u001b[0m \u001b[0marg\u001b[0m \u001b[0;32min\u001b[0m \u001b[0mzip\u001b[0m\u001b[0;34m(\u001b[0m\u001b[0msig\u001b[0m\u001b[0;34m.\u001b[0m\u001b[0mparameters\u001b[0m\u001b[0;34m,\u001b[0m \u001b[0margs\u001b[0m\u001b[0;34m)\u001b[0m\u001b[0;34m}\u001b[0m\u001b[0;34m)\u001b[0m\u001b[0;34m\u001b[0m\u001b[0;34m\u001b[0m\u001b[0m\n\u001b[0;32m---> 72\u001b[0;31m         \u001b[0;32mreturn\u001b[0m \u001b[0mf\u001b[0m\u001b[0;34m(\u001b[0m\u001b[0;34m**\u001b[0m\u001b[0mkwargs\u001b[0m\u001b[0;34m)\u001b[0m\u001b[0;34m\u001b[0m\u001b[0;34m\u001b[0m\u001b[0m\n\u001b[0m\u001b[1;32m     73\u001b[0m     \u001b[0;32mreturn\u001b[0m \u001b[0minner_f\u001b[0m\u001b[0;34m\u001b[0m\u001b[0;34m\u001b[0m\u001b[0m\n\u001b[1;32m     74\u001b[0m \u001b[0;34m\u001b[0m\u001b[0m\n",
      "\u001b[0;32m~/venv_test/venv/local/lib/python3.6/site-packages/sklearn/utils/validation.py\u001b[0m in \u001b[0;36mcheck_array\u001b[0;34m(array, accept_sparse, accept_large_sparse, dtype, order, copy, force_all_finite, ensure_2d, allow_nd, ensure_min_samples, ensure_min_features, estimator)\u001b[0m\n\u001b[1;32m    596\u001b[0m                     \u001b[0marray\u001b[0m \u001b[0;34m=\u001b[0m \u001b[0marray\u001b[0m\u001b[0;34m.\u001b[0m\u001b[0mastype\u001b[0m\u001b[0;34m(\u001b[0m\u001b[0mdtype\u001b[0m\u001b[0;34m,\u001b[0m \u001b[0mcasting\u001b[0m\u001b[0;34m=\u001b[0m\u001b[0;34m\"unsafe\"\u001b[0m\u001b[0;34m,\u001b[0m \u001b[0mcopy\u001b[0m\u001b[0;34m=\u001b[0m\u001b[0;32mFalse\u001b[0m\u001b[0;34m)\u001b[0m\u001b[0;34m\u001b[0m\u001b[0;34m\u001b[0m\u001b[0m\n\u001b[1;32m    597\u001b[0m                 \u001b[0;32melse\u001b[0m\u001b[0;34m:\u001b[0m\u001b[0;34m\u001b[0m\u001b[0;34m\u001b[0m\u001b[0m\n\u001b[0;32m--> 598\u001b[0;31m                     \u001b[0marray\u001b[0m \u001b[0;34m=\u001b[0m \u001b[0mnp\u001b[0m\u001b[0;34m.\u001b[0m\u001b[0masarray\u001b[0m\u001b[0;34m(\u001b[0m\u001b[0marray\u001b[0m\u001b[0;34m,\u001b[0m \u001b[0morder\u001b[0m\u001b[0;34m=\u001b[0m\u001b[0morder\u001b[0m\u001b[0;34m,\u001b[0m \u001b[0mdtype\u001b[0m\u001b[0;34m=\u001b[0m\u001b[0mdtype\u001b[0m\u001b[0;34m)\u001b[0m\u001b[0;34m\u001b[0m\u001b[0;34m\u001b[0m\u001b[0m\n\u001b[0m\u001b[1;32m    599\u001b[0m             \u001b[0;32mexcept\u001b[0m \u001b[0mComplexWarning\u001b[0m\u001b[0;34m:\u001b[0m\u001b[0;34m\u001b[0m\u001b[0;34m\u001b[0m\u001b[0m\n\u001b[1;32m    600\u001b[0m                 raise ValueError(\"Complex data not supported\\n\"\n",
      "\u001b[0;32m~/venv_test/venv/local/lib/python3.6/site-packages/numpy/core/_asarray.py\u001b[0m in \u001b[0;36masarray\u001b[0;34m(a, dtype, order)\u001b[0m\n\u001b[1;32m     81\u001b[0m \u001b[0;34m\u001b[0m\u001b[0m\n\u001b[1;32m     82\u001b[0m     \"\"\"\n\u001b[0;32m---> 83\u001b[0;31m     \u001b[0;32mreturn\u001b[0m \u001b[0marray\u001b[0m\u001b[0;34m(\u001b[0m\u001b[0ma\u001b[0m\u001b[0;34m,\u001b[0m \u001b[0mdtype\u001b[0m\u001b[0;34m,\u001b[0m \u001b[0mcopy\u001b[0m\u001b[0;34m=\u001b[0m\u001b[0;32mFalse\u001b[0m\u001b[0;34m,\u001b[0m \u001b[0morder\u001b[0m\u001b[0;34m=\u001b[0m\u001b[0morder\u001b[0m\u001b[0;34m)\u001b[0m\u001b[0;34m\u001b[0m\u001b[0;34m\u001b[0m\u001b[0m\n\u001b[0m\u001b[1;32m     84\u001b[0m \u001b[0;34m\u001b[0m\u001b[0m\n\u001b[1;32m     85\u001b[0m \u001b[0;34m\u001b[0m\u001b[0m\n",
      "\u001b[0;32m~/venv_test/venv/local/lib/python3.6/site-packages/torch/tensor.py\u001b[0m in \u001b[0;36m__array__\u001b[0;34m(self, dtype)\u001b[0m\n\u001b[1;32m    478\u001b[0m     \u001b[0;32mdef\u001b[0m \u001b[0m__array__\u001b[0m\u001b[0;34m(\u001b[0m\u001b[0mself\u001b[0m\u001b[0;34m,\u001b[0m \u001b[0mdtype\u001b[0m\u001b[0;34m=\u001b[0m\u001b[0;32mNone\u001b[0m\u001b[0;34m)\u001b[0m\u001b[0;34m:\u001b[0m\u001b[0;34m\u001b[0m\u001b[0;34m\u001b[0m\u001b[0m\n\u001b[1;32m    479\u001b[0m         \u001b[0;32mif\u001b[0m \u001b[0mdtype\u001b[0m \u001b[0;32mis\u001b[0m \u001b[0;32mNone\u001b[0m\u001b[0;34m:\u001b[0m\u001b[0;34m\u001b[0m\u001b[0;34m\u001b[0m\u001b[0m\n\u001b[0;32m--> 480\u001b[0;31m             \u001b[0;32mreturn\u001b[0m \u001b[0mself\u001b[0m\u001b[0;34m.\u001b[0m\u001b[0mnumpy\u001b[0m\u001b[0;34m(\u001b[0m\u001b[0;34m)\u001b[0m\u001b[0;34m\u001b[0m\u001b[0;34m\u001b[0m\u001b[0m\n\u001b[0m\u001b[1;32m    481\u001b[0m         \u001b[0;32melse\u001b[0m\u001b[0;34m:\u001b[0m\u001b[0;34m\u001b[0m\u001b[0;34m\u001b[0m\u001b[0m\n\u001b[1;32m    482\u001b[0m             \u001b[0;32mreturn\u001b[0m \u001b[0mself\u001b[0m\u001b[0;34m.\u001b[0m\u001b[0mnumpy\u001b[0m\u001b[0;34m(\u001b[0m\u001b[0;34m)\u001b[0m\u001b[0;34m.\u001b[0m\u001b[0mastype\u001b[0m\u001b[0;34m(\u001b[0m\u001b[0mdtype\u001b[0m\u001b[0;34m,\u001b[0m \u001b[0mcopy\u001b[0m\u001b[0;34m=\u001b[0m\u001b[0;32mFalse\u001b[0m\u001b[0;34m)\u001b[0m\u001b[0;34m\u001b[0m\u001b[0;34m\u001b[0m\u001b[0m\n",
      "\u001b[0;31mRuntimeError\u001b[0m: Can't call numpy() on Tensor that requires grad. Use tensor.detach().numpy() instead."
     ]
    }
   ],
   "source": [
    "for i in range(4):\n",
    "    tb = transformer.transform(gramm_batch[i].cpu().reshape(1, -1))\n",
    "    print(clf.decision_function(tb))"
   ]
  },
  {
   "cell_type": "code",
   "execution_count": 27,
   "metadata": {},
   "outputs": [
    {
     "data": {
      "text/plain": [
       "array([-0.13891481])"
      ]
     },
     "execution_count": 27,
     "metadata": {},
     "output_type": "execute_result"
    }
   ],
   "source": []
  },
  {
   "cell_type": "code",
   "execution_count": 16,
   "metadata": {},
   "outputs": [],
   "source": [
    "matrices_for_embedding = []\n",
    "base_matrices = []\n",
    "grammatrices = []\n",
    "scanners = []\n",
    "\n",
    "for batch in dl:\n",
    "    images, targets, scanner, filepath = batch\n",
    "    images = torch.stack(images)\n",
    "\n",
    "    x = images.to(device)\n",
    "    y_style = stylemodel(x.float())\n",
    "    for gm in grammatrices[0]:\n",
    "        matrices_for_embedding.append(gm.detach().cpu().numpy().flatten())\n",
    "        base_matrices.append(gm.detach().cpu().numpy().flatten())\n",
    "    scanners.append(0)\n",
    "    grammatrices = []\n",
    "    \n",
    "for batch in dl_trainset:\n",
    "    images, targets, scanner, filepath = batch\n",
    "    images = torch.stack(images)\n",
    "\n",
    "    x = images.to(device)\n",
    "    y_style = stylemodel(x.float())\n",
    "    for gm in grammatrices[0]:\n",
    "        matrices_for_embedding.append(gm.detach().cpu().numpy().flatten())\n",
    "        grammatrices = []\n",
    "    if scanner[0] == 'ges':\n",
    "        scanners.append(0)\n",
    "    elif scanner[0] == 'geb':\n",
    "        scanners.append(1)\n",
    "    else:\n",
    "        scanners.append(2)"
   ]
  },
  {
   "cell_type": "code",
   "execution_count": 11,
   "metadata": {},
   "outputs": [
    {
     "data": {
      "text/html": [
       "<div>\n",
       "<style scoped>\n",
       "    .dataframe tbody tr th:only-of-type {\n",
       "        vertical-align: middle;\n",
       "    }\n",
       "\n",
       "    .dataframe tbody tr th {\n",
       "        vertical-align: top;\n",
       "    }\n",
       "\n",
       "    .dataframe thead th {\n",
       "        text-align: right;\n",
       "    }\n",
       "</style>\n",
       "<table border=\"1\" class=\"dataframe\">\n",
       "  <thead>\n",
       "    <tr style=\"text-align: right;\">\n",
       "      <th></th>\n",
       "      <th></th>\n",
       "      <th>level_0</th>\n",
       "      <th>index</th>\n",
       "      <th>Unnamed: 0</th>\n",
       "      <th>image</th>\n",
       "      <th>seriesuid</th>\n",
       "      <th>label</th>\n",
       "      <th>coordX</th>\n",
       "      <th>coordY</th>\n",
       "      <th>diameter_mm</th>\n",
       "      <th>id</th>\n",
       "      <th>malignancy</th>\n",
       "      <th>bin_malignancy</th>\n",
       "    </tr>\n",
       "    <tr>\n",
       "      <th>split</th>\n",
       "      <th>res</th>\n",
       "      <th></th>\n",
       "      <th></th>\n",
       "      <th></th>\n",
       "      <th></th>\n",
       "      <th></th>\n",
       "      <th></th>\n",
       "      <th></th>\n",
       "      <th></th>\n",
       "      <th></th>\n",
       "      <th></th>\n",
       "      <th></th>\n",
       "      <th></th>\n",
       "    </tr>\n",
       "  </thead>\n",
       "  <tbody>\n",
       "    <tr>\n",
       "      <th>base_train</th>\n",
       "      <th>ges</th>\n",
       "      <td>249</td>\n",
       "      <td>249</td>\n",
       "      <td>249</td>\n",
       "      <td>249</td>\n",
       "      <td>249</td>\n",
       "      <td>249</td>\n",
       "      <td>249</td>\n",
       "      <td>249</td>\n",
       "      <td>249</td>\n",
       "      <td>249</td>\n",
       "      <td>249</td>\n",
       "      <td>249</td>\n",
       "    </tr>\n",
       "    <tr>\n",
       "      <th rowspan=\"3\" valign=\"top\">test</th>\n",
       "      <th>geb</th>\n",
       "      <td>39</td>\n",
       "      <td>39</td>\n",
       "      <td>39</td>\n",
       "      <td>39</td>\n",
       "      <td>39</td>\n",
       "      <td>39</td>\n",
       "      <td>39</td>\n",
       "      <td>39</td>\n",
       "      <td>39</td>\n",
       "      <td>39</td>\n",
       "      <td>39</td>\n",
       "      <td>39</td>\n",
       "    </tr>\n",
       "    <tr>\n",
       "      <th>ges</th>\n",
       "      <td>104</td>\n",
       "      <td>104</td>\n",
       "      <td>104</td>\n",
       "      <td>104</td>\n",
       "      <td>104</td>\n",
       "      <td>104</td>\n",
       "      <td>104</td>\n",
       "      <td>104</td>\n",
       "      <td>104</td>\n",
       "      <td>104</td>\n",
       "      <td>104</td>\n",
       "      <td>104</td>\n",
       "    </tr>\n",
       "    <tr>\n",
       "      <th>sie</th>\n",
       "      <td>25</td>\n",
       "      <td>25</td>\n",
       "      <td>25</td>\n",
       "      <td>25</td>\n",
       "      <td>25</td>\n",
       "      <td>25</td>\n",
       "      <td>25</td>\n",
       "      <td>25</td>\n",
       "      <td>25</td>\n",
       "      <td>25</td>\n",
       "      <td>25</td>\n",
       "      <td>25</td>\n",
       "    </tr>\n",
       "    <tr>\n",
       "      <th rowspan=\"3\" valign=\"top\">train</th>\n",
       "      <th>geb</th>\n",
       "      <td>156</td>\n",
       "      <td>156</td>\n",
       "      <td>156</td>\n",
       "      <td>156</td>\n",
       "      <td>156</td>\n",
       "      <td>156</td>\n",
       "      <td>156</td>\n",
       "      <td>156</td>\n",
       "      <td>156</td>\n",
       "      <td>156</td>\n",
       "      <td>156</td>\n",
       "      <td>156</td>\n",
       "    </tr>\n",
       "    <tr>\n",
       "      <th>ges</th>\n",
       "      <td>122</td>\n",
       "      <td>122</td>\n",
       "      <td>122</td>\n",
       "      <td>122</td>\n",
       "      <td>122</td>\n",
       "      <td>122</td>\n",
       "      <td>122</td>\n",
       "      <td>122</td>\n",
       "      <td>122</td>\n",
       "      <td>122</td>\n",
       "      <td>122</td>\n",
       "      <td>122</td>\n",
       "    </tr>\n",
       "    <tr>\n",
       "      <th>sie</th>\n",
       "      <td>94</td>\n",
       "      <td>94</td>\n",
       "      <td>94</td>\n",
       "      <td>94</td>\n",
       "      <td>94</td>\n",
       "      <td>94</td>\n",
       "      <td>94</td>\n",
       "      <td>94</td>\n",
       "      <td>94</td>\n",
       "      <td>94</td>\n",
       "      <td>94</td>\n",
       "      <td>94</td>\n",
       "    </tr>\n",
       "    <tr>\n",
       "      <th rowspan=\"3\" valign=\"top\">val</th>\n",
       "      <th>geb</th>\n",
       "      <td>20</td>\n",
       "      <td>20</td>\n",
       "      <td>20</td>\n",
       "      <td>20</td>\n",
       "      <td>20</td>\n",
       "      <td>20</td>\n",
       "      <td>20</td>\n",
       "      <td>20</td>\n",
       "      <td>20</td>\n",
       "      <td>20</td>\n",
       "      <td>20</td>\n",
       "      <td>20</td>\n",
       "    </tr>\n",
       "    <tr>\n",
       "      <th>ges</th>\n",
       "      <td>52</td>\n",
       "      <td>52</td>\n",
       "      <td>52</td>\n",
       "      <td>52</td>\n",
       "      <td>52</td>\n",
       "      <td>52</td>\n",
       "      <td>52</td>\n",
       "      <td>52</td>\n",
       "      <td>52</td>\n",
       "      <td>52</td>\n",
       "      <td>52</td>\n",
       "      <td>52</td>\n",
       "    </tr>\n",
       "    <tr>\n",
       "      <th>sie</th>\n",
       "      <td>11</td>\n",
       "      <td>11</td>\n",
       "      <td>11</td>\n",
       "      <td>11</td>\n",
       "      <td>11</td>\n",
       "      <td>11</td>\n",
       "      <td>11</td>\n",
       "      <td>11</td>\n",
       "      <td>11</td>\n",
       "      <td>11</td>\n",
       "      <td>11</td>\n",
       "      <td>11</td>\n",
       "    </tr>\n",
       "  </tbody>\n",
       "</table>\n",
       "</div>"
      ],
      "text/plain": [
       "                level_0  index  Unnamed: 0  image  seriesuid  label  coordX  \\\n",
       "split      res                                                                \n",
       "base_train ges      249    249         249    249        249    249     249   \n",
       "test       geb       39     39          39     39         39     39      39   \n",
       "           ges      104    104         104    104        104    104     104   \n",
       "           sie       25     25          25     25         25     25      25   \n",
       "train      geb      156    156         156    156        156    156     156   \n",
       "           ges      122    122         122    122        122    122     122   \n",
       "           sie       94     94          94     94         94     94      94   \n",
       "val        geb       20     20          20     20         20     20      20   \n",
       "           ges       52     52          52     52         52     52      52   \n",
       "           sie       11     11          11     11         11     11      11   \n",
       "\n",
       "                coordY  diameter_mm   id  malignancy  bin_malignancy  \n",
       "split      res                                                        \n",
       "base_train ges     249          249  249         249             249  \n",
       "test       geb      39           39   39          39              39  \n",
       "           ges     104          104  104         104             104  \n",
       "           sie      25           25   25          25              25  \n",
       "train      geb     156          156  156         156             156  \n",
       "           ges     122          122  122         122             122  \n",
       "           sie      94           94   94          94              94  \n",
       "val        geb      20           20   20          20              20  \n",
       "           ges      52           52   52          52              52  \n",
       "           sie      11           11   11          11              11  "
      ]
     },
     "execution_count": 11,
     "metadata": {},
     "output_type": "execute_result"
    }
   ],
   "source": [
    "pd.read_csv('/project/catinous/lunadata/luna_lunacombined_dataset_malignancy.csv').groupby(['split', 'res']).count()"
   ]
  },
  {
   "cell_type": "code",
   "execution_count": 18,
   "metadata": {},
   "outputs": [
    {
     "data": {
      "text/plain": [
       "<matplotlib.collections.PathCollection at 0x7f844c211da0>"
      ]
     },
     "execution_count": 18,
     "metadata": {},
     "output_type": "execute_result"
    },
    {
     "data": {
      "image/png": "[encoded data removed]",
      "text/plain": [
       "<Figure size 432x288 with 1 Axes>"
      ]
     },
     "metadata": {
      "needs_background": "light"
     },
     "output_type": "display_data"
    }
   ],
   "source": [
    "tsne = TSNE(n_components=2, perplexity=50)\n",
    "elements_tsne = tsne.fit_transform(matrices_for_embedding)\n",
    "plt.scatter(elements_tsne[:, 0], elements_tsne[:, 1], c=scanners, cmap='Set1')"
   ]
  },
  {
   "cell_type": "code",
   "execution_count": 24,
   "metadata": {},
   "outputs": [
    {
     "data": {
      "text/plain": [
       "<matplotlib.collections.PathCollection at 0x7f83de19e748>"
      ]
     },
     "execution_count": 24,
     "metadata": {},
     "output_type": "execute_result"
    },
    {
     "data": {
      "image/png": "[encoded data removed]",
      "text/plain": [
       "<Figure size 432x288 with 1 Axes>"
      ]
     },
     "metadata": {
      "needs_background": "light"
     },
     "output_type": "display_data"
    }
   ],
   "source": [
    "transformer = SparseRandomProjection(random_state=156165, n_components=30)\n",
    "transformer.fit(base_matrices)\n",
    "\n",
    "emb_trans = transformer.transform(matrices_for_embedding)\n",
    "elements_tsne = tsne.fit_transform(emb_trans)\n",
    "plt.scatter(elements_tsne[:, 0], elements_tsne[:, 1], c=scanners, cmap='Set1')"
   ]
  },
  {
   "cell_type": "code",
   "execution_count": 40,
   "metadata": {},
   "outputs": [],
   "source": [
    "trans_initelements = transformer.transform(base_matrices[:64])\n",
    "clf = IsolationForest(n_estimators=10, random_state=156165).fit(trans_initelements)"
   ]
  },
  {
   "cell_type": "code",
   "execution_count": 41,
   "metadata": {},
   "outputs": [],
   "source": [
    "c = [clf.decision_function(emb_trans)>0]"
   ]
  },
  {
   "cell_type": "code",
   "execution_count": 42,
   "metadata": {},
   "outputs": [
    {
     "data": {
      "text/plain": [
       "<matplotlib.collections.PathCollection at 0x7f83ddf83780>"
      ]
     },
     "execution_count": 42,
     "metadata": {},
     "output_type": "execute_result"
    },
    {
     "data": {
      "image/png": "[encoded data removed]",
      "text/plain": [
       "<Figure size 432x288 with 1 Axes>"
      ]
     },
     "metadata": {
      "needs_background": "light"
     },
     "output_type": "display_data"
    }
   ],
   "source": [
    "plt.scatter(elements_tsne[:, 0], elements_tsne[:, 1], c=c, cmap='Set1')"
   ]
  },
  {
   "cell_type": "code",
   "execution_count": 3,
   "metadata": {},
   "outputs": [],
   "source": [
    "device = torch.device('cuda')\n",
    "#stylemodel = tvmodels.resnet50(pretrained=True) #maybe different model?\n",
    "\n",
    "stylemodel = EncoderModelGenesis()\n",
    "\n",
    "#Load pretrained model genesis\n",
    "weight_dir = 'models/Genesis_Chest_CT.pt'\n",
    "checkpoint = torch.load(weight_dir)\n",
    "state_dict = checkpoint['state_dict']\n",
    "unParalled_state_dict = {}\n",
    "for key in state_dict.keys():\n",
    "    if key.startswith('module.down_'):\n",
    "        unParalled_state_dict[key.replace(\"module.\", \"\")] = state_dict[key]\n",
    "stylemodel.load_state_dict(unParalled_state_dict)\n",
    "\n",
    "\n",
    "stylemodel = stylemodel.to(device)\n",
    "stylemodel.eval()\n",
    "\n",
    "grammatrices = []\n",
    "gramlayers = [stylemodel.down_tr64.ops[1].conv1]\n",
    "               #model.layer2[-1].conv1,\n",
    "               #model.layer3[-1].conv1]\n",
    "               #model.layer4[-1].conv1]\n",
    "register_hooks()\n",
    "collected_matrices = {}"
   ]
  },
  {
   "cell_type": "code",
   "execution_count": 4,
   "metadata": {},
   "outputs": [
    {
     "name": "stdout",
     "output_type": "stream",
     "text": [
      "41\n",
      "117\n"
     ]
    }
   ],
   "source": [
    "ds = BrainAgeContinuous('/project/catinous/brainds_split.csv')\n",
    "ds_base = BrainAgeDataset('/project/catinous/brainds_split.csv', split=['base_train'])\n",
    "dl_base = torch.utils.data.DataLoader(ds_base, num_workers=2, batch_size=2)\n",
    "dl = torch.utils.data.DataLoader(ds, num_workers=2, batch_size=2)"
   ]
  },
  {
   "cell_type": "code",
   "execution_count": 5,
   "metadata": {},
   "outputs": [],
   "source": [
    "matrices_for_embedding = []\n",
    "scanner = []\n",
    "base_matrices = []\n",
    "\n",
    "\n",
    "for batch in dl_base:\n",
    "    x, y, _, labels = batch\n",
    "    x = x.to(device)\n",
    "    out = stylemodel(x)\n",
    "    for gm in grammatrices[0]:\n",
    "        matrices_for_embedding.append(gm.detach().cpu().numpy().flatten())\n",
    "        base_matrices.append(gm.detach().cpu().numpy().flatten())\n",
    "        scanner.append(0)\n",
    "    grammatrices = []\n",
    "    \n",
    "for batch in dl:\n",
    "    x, y, _, labels = batch\n",
    "    x = x.to(device)\n",
    "    out = stylemodel(x)\n",
    "    for gm in grammatrices[0]:\n",
    "        matrices_for_embedding.append(gm.detach().cpu().numpy().flatten())\n",
    "    grammatrices = []\n",
    "    for l in labels:\n",
    "        if l=='1.5T Philips':\n",
    "            scanner.append(0)\n",
    "        elif l=='3.0T Philips':\n",
    "            scanner.append(1)\n",
    "        else:\n",
    "            scanner.append(2)"
   ]
  },
  {
   "cell_type": "code",
   "execution_count": 83,
   "metadata": {},
   "outputs": [],
   "source": []
  },
  {
   "cell_type": "code",
   "execution_count": 456,
   "metadata": {},
   "outputs": [],
   "source": [
    "base_arr = np.array(base_matrices)\n",
    "mu = base_arr[:50].mean(axis=0)\n",
    "std= base_arr[:50].std(axis=0)\n",
    "mu_3std = mu-(3.0*std)\n",
    "mu_plus3std = mu+(3.0*std)"
   ]
  },
  {
   "cell_type": "code",
   "execution_count": 574,
   "metadata": {},
   "outputs": [
    {
     "data": {
      "text/plain": [
       "(200, 1024)"
      ]
     },
     "execution_count": 574,
     "metadata": {},
     "output_type": "execute_result"
    }
   ],
   "source": []
  },
  {
   "cell_type": "code",
   "execution_count": 549,
   "metadata": {},
   "outputs": [],
   "source": [
    "domain_mus = [mu]\n",
    "domain_stds = [std]\n",
    "\n",
    "new_count = {0:0, 1:0, 2:0}\n",
    "outlier_cache = []\n",
    "outlier_scanners = []\n",
    "\n",
    "elements = []\n",
    "pseudodomains = []\n",
    "\n",
    "\n",
    "\n",
    "for i, m in enumerate(matrices_for_embedding[200:]):\n",
    "    domain = np.array([euclidean(m, dm) for dm in domain_mus]).argmin()\n",
    "\n",
    "    mu_3std = domain_mus[domain]-(4.0*domain_stds[domain])\n",
    "    mu_plus3std = domain_mus[domain]+(4.0*domain_stds[domain])\n",
    "    \n",
    "    outlier = False\n",
    "    for j, b in enumerate(m):\n",
    "        if b<mu_3std[j] or b>mu_plus3std[j]:\n",
    "            outlier = True\n",
    "            \n",
    "    if outlier:\n",
    "        new_count[scanner[200+i]] += 1\n",
    "        outlier_cache.append(m)\n",
    "        outlier_scanners.append(scanner[200+i])\n",
    "        \n",
    "        if len(outlier_cache)==10:\n",
    "            new_domain_label = len(domain_mus)\n",
    "            distances = squareform(pdist(outlier_cache))\n",
    "            idx = np.array([np.array(sorted(d)[:6]).sum() for d in distances]).argmin()\n",
    "            indeces = np.argsort(distances[idx])[:5]\n",
    "            compact_cache = np.array([outlier_cache[i] for i in indeces])\n",
    "            for c in compact_cache:\n",
    "                elements.append(c)\n",
    "                pseudodomains.append(new_domain_label)\n",
    "            domain_mus.append(compact_cache.mean(axis=0))\n",
    "            domain_stds.append(compact_cache.std(axis=0))\n",
    "            \n",
    "            outlier_cache = [] #not the best thing to do\n",
    "        \n",
    "    else:\n",
    "        elements.append(m)\n",
    "        pseudodomains.append(domain)\n",
    "np.unique(pseudodomains, return_counts=True)"
   ]
  },
  {
   "cell_type": "code",
   "execution_count": 550,
   "metadata": {},
   "outputs": [
    {
     "data": {
      "text/plain": [
       "(array([  0,   1,   2,   3,   4,   5,   6,   7,   8,   9,  10,  11,  12,\n",
       "         13,  14,  15,  16,  17,  18,  19,  20,  21,  22,  23,  24,  25,\n",
       "         26,  27,  28,  29,  30,  31,  32,  33,  34,  35,  36,  37,  38,\n",
       "         39,  40,  41,  42,  43,  44,  45,  46,  47,  48,  49,  50,  51,\n",
       "         52,  53,  54,  55,  56,  57,  58,  59,  60,  61,  62,  63,  64,\n",
       "         65,  66,  67,  68,  69,  70,  71,  72,  73,  74,  75,  76,  77,\n",
       "         78,  79,  80,  81,  82,  83,  84,  85,  86,  87,  88,  89,  90,\n",
       "         91,  92,  93,  94,  95,  96,  97,  98,  99, 100, 101, 102, 103,\n",
       "        104, 105, 106, 107, 108, 109, 110, 111, 112]),\n",
       " array([126,   7,   9,   5,   5,   5,   5,   5,   5,   7,   7,   5, 149,\n",
       "          8,  13,   5,   9,   6,   6,  10,   8,   9,   5,   5,   9,   6,\n",
       "         10,   5,   9,  50,  51,   7,   9,  10,  15,   6,   7,   7,   6,\n",
       "         13,   6,  12,   5,   5,   7,   7,   8,  21,   6,   5,   5,   6,\n",
       "          5,   7,   5,   8,  12,   6,   5,   6,   5,   8,   5,   5,   6,\n",
       "          6,   7,   5,  14,   5,   7,   7,   6,  12,   5,   8,  40,   5,\n",
       "          5,   6,   5,   5,   6,   5,   5,   5,   8,   5,   6,   5,   8,\n",
       "          5,   6,   5,   6,   5,   9,   5,   5,   5,   5,   5,   6,   6,\n",
       "          6,   5,   5,   5,   6,   5,   5,   5,   5]))"
      ]
     },
     "execution_count": 550,
     "metadata": {},
     "output_type": "execute_result"
    }
   ],
   "source": [
    "np.unique(pseudodomains, return_counts=True)"
   ]
  },
  {
   "cell_type": "code",
   "execution_count": 568,
   "metadata": {},
   "outputs": [],
   "source": [
    "domain_mus = [mu]\n",
    "domain_stds = [std]\n",
    "\n",
    "new_count = {0:0, 1:0, 2:0}\n",
    "outlier_cache = []\n",
    "outlier_scanners = []\n",
    "\n",
    "elements = []\n",
    "pseudodomains = []\n",
    "scanners_elements = []\n",
    "\n",
    "clf = IsolationForest(n_estimators=10, random_state=323459145).fit(base_arr[:50])\n",
    "isoforests = [clf]\n",
    "\n",
    "for i, m in enumerate(matrices_for_embedding[200:]):\n",
    "    outlier = True\n",
    "    for j, clf in enumerate(isoforests):\n",
    "        if outlier:\n",
    "            if clf.predict(m.reshape(1, -1))!=-1: #TODO: this takes the first pseudo label, but it might be that another psuedo label is better!!\n",
    "                    pseudodomains.append(j)\n",
    "                    outlier=False\n",
    "                    elements.append(m)\n",
    "                    #scanners_elements.append(scanner[200+i])\n",
    "    if outlier:\n",
    "        new_count[scanner[200+i]] += 1\n",
    "        outlier_cache.append(m)\n",
    "        outlier_scanners.append(scanner[200+i])\n",
    "        \n",
    "        if len(outlier_cache)==10:\n",
    "            new_domain_label = len(isoforests)\n",
    "            #distances = squareform(pdist(outlier_cache))\n",
    "            #idx = np.array([np.array(sorted(d)[:6]).sum() for d in distances]).argmin()\n",
    "            #indeces = np.argsort(distances[idx])[:5]\n",
    "            #compact_cache = np.array([outlier_cache[i] for i in indeces])\n",
    "            #for c in compact_cache:\n",
    "            #    elements.append(c)\n",
    "            #    pseudodomains.append(new_domain_label)\n",
    "            clf = IsolationForest(n_estimators=10, random_state=2491308414, contamination=0.5).fit(outlier_cache)\n",
    "            \n",
    "            #print(clf.predict(outlier_cache))\n",
    "            \n",
    "            for k, p in enumerate(clf.predict(outlier_cache)):\n",
    "                if p==1:\n",
    "                    elements.append(outlier_cache[k])\n",
    "                    pseudodomains.append(new_domain_label)\n",
    "            \n",
    "            isoforests.append(clf)\n",
    "            \n",
    "            outlier_cache = [] #not the best thing to do"
   ]
  },
  {
   "cell_type": "code",
   "execution_count": 569,
   "metadata": {},
   "outputs": [
    {
     "data": {
      "text/plain": [
       "(array([ 0,  1,  2,  3,  4,  5,  6,  7,  8,  9, 10, 11]),\n",
       " array([ 95, 414, 235, 149, 139,   6, 170, 180,  81, 144,  20,  11]))"
      ]
     },
     "execution_count": 569,
     "metadata": {},
     "output_type": "execute_result"
    }
   ],
   "source": [
    "np.unique(pseudodomains, return_counts=True)"
   ]
  },
  {
   "cell_type": "code",
   "execution_count": 570,
   "metadata": {},
   "outputs": [
    {
     "data": {
      "text/plain": [
       "<matplotlib.collections.PathCollection at 0x7fb830685208>"
      ]
     },
     "execution_count": 570,
     "metadata": {},
     "output_type": "execute_result"
    },
    {
     "data": {
      "image/png": "[encoded data removed]",
      "text/plain": [
       "<Figure size 432x288 with 1 Axes>"
      ]
     },
     "metadata": {
      "needs_background": "light"
     },
     "output_type": "display_data"
    }
   ],
   "source": [
    "tsne = TSNE(n_components=2, perplexity=50)\n",
    "elements_tsne = tsne.fit_transform(elements)\n",
    "plt.scatter(elements_tsne[:, 0], elements_tsne[:, 1], c=pseudodomains, cmap='Set1')"
   ]
  },
  {
   "cell_type": "code",
   "execution_count": null,
   "metadata": {},
   "outputs": [],
   "source": [
    "plt.scatter(elements_tsne[:, 0], elements_tsne[:, 1], c=pseudodomains, cmap='Set1')"
   ]
  },
  {
   "cell_type": "code",
   "execution_count": 500,
   "metadata": {},
   "outputs": [],
   "source": [
    "domain_mus = [mu,cache_mu]\n",
    "domain_stds = [std]\n",
    "\n",
    "new_count = {0:0, 1:0, 2:0}\n",
    "outlier_cache = []\n",
    "outlier_scanners = []\n",
    "outliers = []\n",
    "\n",
    "for i, m in enumerate(matrices_for_embedding):\n",
    "        \n",
    "    outlier = False\n",
    "    for j, b in enumerate(m):\n",
    "        if b<mu_3std[j] or b>mu_plus3std[j]:\n",
    "            outlier = True\n",
    "    if outlier:\n",
    "        new_count[scanner[i]] += 1\n",
    "        outlier_cache.append(m)\n",
    "        outlier_scanners.append(scanner[i])\n",
    "    outliers.append(outlier)"
   ]
  },
  {
   "cell_type": "code",
   "execution_count": 476,
   "metadata": {},
   "outputs": [
    {
     "data": {
      "text/plain": [
       "array([0.12071742, 0.16377655, 0.33526106, 0.12872205, 0.11783462,\n",
       "       0.14420113, 0.13582333, 0.18172506, 0.11885718, 0.13722116])"
      ]
     },
     "execution_count": 476,
     "metadata": {},
     "output_type": "execute_result"
    }
   ],
   "source": [
    "test_cache = outlier_cache[:10]\n",
    "distances = squareform(pdist(test_cache))\n",
    "np.array([np.array(sorted(d)[1:6]).sum() for d in distances])"
   ]
  },
  {
   "cell_type": "code",
   "execution_count": 478,
   "metadata": {},
   "outputs": [
    {
     "data": {
      "text/plain": [
       "(45,)"
      ]
     },
     "execution_count": 478,
     "metadata": {},
     "output_type": "execute_result"
    }
   ],
   "source": [
    "pdist(test_cache).shape"
   ]
  },
  {
   "cell_type": "code",
   "execution_count": 470,
   "metadata": {},
   "outputs": [
    {
     "data": {
      "text/plain": [
       "array([0.1976914 , 0.15858781, 0.50638191, 0.36322299, 0.14972052,\n",
       "       0.16474966, 0.12019986, 0.13214153, 0.29908643, 0.19506673,\n",
       "       0.1715666 , 0.23233148, 0.11623907, 0.12802128, 0.19285182])"
      ]
     },
     "execution_count": 470,
     "metadata": {},
     "output_type": "execute_result"
    }
   ],
   "source": [
    "test_cache = outlier_cache[10:25]\n",
    "distances = squareform(pdist(test_cache))\n",
    "np.array([np.array(sorted(d)[1:6]).sum() for d in distances])"
   ]
  },
  {
   "cell_type": "code",
   "execution_count": 471,
   "metadata": {},
   "outputs": [],
   "source": [
    "test_cache = outlier_cache[10:25]\n",
    "distances = squareform(pdist(test_cache))\n",
    "idx = np.array([np.array(sorted(d)[1:6]).sum() for d in distances]).argmin()\n",
    "compact_cache = np.array([test_cache[i] for i in np.argsort(distances[idx])[:5]])"
   ]
  },
  {
   "cell_type": "code",
   "execution_count": 455,
   "metadata": {},
   "outputs": [],
   "source": [
    "cache_mu = compact_cache.mean(axis=0)\n",
    "cache_std = compact_cache.std(axis=0)"
   ]
  },
  {
   "cell_type": "code",
   "execution_count": 472,
   "metadata": {},
   "outputs": [
    {
     "data": {
      "text/plain": [
       "12"
      ]
     },
     "execution_count": 472,
     "metadata": {},
     "output_type": "execute_result"
    }
   ],
   "source": [
    "idx"
   ]
  },
  {
   "cell_type": "code",
   "execution_count": 514,
   "metadata": {},
   "outputs": [],
   "source": [
    "tsne = TSNE(n_components=2, perplexity=30)\n",
    "emb_matrices = np.vstack((matrices_for_embedding, mu, mu_3std, mu_plus3std))\n",
    "mat_trans = tsne.fit_transform(emb_matrices)"
   ]
  },
  {
   "cell_type": "code",
   "execution_count": 507,
   "metadata": {},
   "outputs": [
    {
     "data": {
      "text/plain": [
       "1900"
      ]
     },
     "execution_count": 507,
     "metadata": {},
     "output_type": "execute_result"
    }
   ],
   "source": [
    "len(outliers)"
   ]
  },
  {
   "cell_type": "code",
   "execution_count": 517,
   "metadata": {},
   "outputs": [
    {
     "data": {
      "text/plain": [
       "<matplotlib.collections.PathCollection at 0x7fb8383c0780>"
      ]
     },
     "execution_count": 517,
     "metadata": {},
     "output_type": "execute_result"
    },
    {
     "data": {
      "image/png": "[encoded data removed]",
      "text/plain": [
       "<Figure size 432x288 with 1 Axes>"
      ]
     },
     "metadata": {
      "needs_background": "light"
     },
     "output_type": "display_data"
    }
   ],
   "source": [
    "plt.scatter(mat_trans[:1900, 0], mat_trans[:1900, 1], c=outliers, cmap='Set1')\n",
    "plt.scatter(mat_trans[1901, 0], mat_trans[1901, 1], c='green', marker='*')\n",
    "plt.scatter(mat_trans[1903, 0], mat_trans[1903, 1], c='yellow', marker='*')"
   ]
  },
  {
   "cell_type": "code",
   "execution_count": 519,
   "metadata": {},
   "outputs": [
    {
     "data": {
      "text/plain": [
       "<matplotlib.collections.PathCollection at 0x7fb838309cc0>"
      ]
     },
     "execution_count": 519,
     "metadata": {},
     "output_type": "execute_result"
    },
    {
     "data": {
      "image/png": "[encoded data removed]",
      "text/plain": [
       "<Figure size 432x288 with 1 Axes>"
      ]
     },
     "metadata": {
      "needs_background": "light"
     },
     "output_type": "display_data"
    }
   ],
   "source": [
    "plt.scatter(mat_trans[:1900, 0], mat_trans[:1900, 1], c=scanner, cmap='Set1')"
   ]
  },
  {
   "cell_type": "code",
   "execution_count": 369,
   "metadata": {},
   "outputs": [
    {
     "data": {
      "text/plain": [
       "[0, 0, 0, 0, 0, 0, 0, 0, 0, 0]"
      ]
     },
     "execution_count": 369,
     "metadata": {},
     "output_type": "execute_result"
    }
   ],
   "source": [
    "outlier_cache = []\n",
    "outlier_scanners = []\n",
    "for i, m in enumerate(matrices_for_embedding[200:]):\n",
    "    distance = euclidean(m, mu)\n",
    "    if clf.predict(m.reshape(1, -1))==-1:\n",
    "        new_count[scanner[200+i]] += 1\n",
    "        outlier_cache.append(m)\n",
    "        outlier_scanners.append(scanner[200+i])\n",
    "           \n",
    "print(new_count)"
   ]
  },
  {
   "cell_type": "code",
   "execution_count": 367,
   "metadata": {},
   "outputs": [
    {
     "name": "stdout",
     "output_type": "stream",
     "text": [
      "{0: 18, 1: 102, 2: 1486}\n"
     ]
    }
   ],
   "source": [
    "clf = IsolationForest(n_estimators=10, random_state=323459145).fit(base_arr[:50])\n",
    "\n",
    "new_count = {0:0, 1:0, 2:0}\n",
    "outlier_cache = []\n",
    "outlier_scanners = []\n",
    "for i, m in enumerate(matrices_for_embedding[200:]):\n",
    "    distance = euclidean(m, mu)\n",
    "    if clf.predict(m.reshape(1, -1))==-1:\n",
    "        new_count[scanner[200+i]] += 1\n",
    "        outlier_cache.append(m)\n",
    "        outlier_scanners.append(scanner[200+i])\n",
    "           \n",
    "print(new_count)"
   ]
  },
  {
   "cell_type": "code",
   "execution_count": 392,
   "metadata": {},
   "outputs": [
    {
     "data": {
      "text/plain": [
       "[0, 0, 1, 1, 1, 1, 1, 0, 1, 1]"
      ]
     },
     "execution_count": 392,
     "metadata": {},
     "output_type": "execute_result"
    }
   ],
   "source": [
    "test_cache = outlier_cache[15:25]\n",
    "outlier_scanners[15:25]"
   ]
  },
  {
   "cell_type": "code",
   "execution_count": 406,
   "metadata": {},
   "outputs": [
    {
     "data": {
      "text/plain": [
       "array([3, 0, 5, 9, 8])"
      ]
     },
     "execution_count": 406,
     "metadata": {},
     "output_type": "execute_result"
    }
   ],
   "source": [
    "distances = squareform(pdist(test_cache))\n",
    "idx = np.array([np.array(sorted(d)[1:6]).sum() for d in distances]).argmin()\n",
    "np.argsort(distances[3])[:5]"
   ]
  },
  {
   "cell_type": "code",
   "execution_count": 409,
   "metadata": {},
   "outputs": [
    {
     "data": {
      "text/plain": [
       "array([0.02501244, 0.18742735, 0.09520343, 0.        , 0.0734624 ,\n",
       "       0.03038382, 0.05132294, 0.13353274, 0.04821279, 0.03126397])"
      ]
     },
     "execution_count": 409,
     "metadata": {},
     "output_type": "execute_result"
    }
   ],
   "source": [
    "distances[idx]"
   ]
  },
  {
   "cell_type": "code",
   "execution_count": 414,
   "metadata": {},
   "outputs": [
    {
     "data": {
      "text/plain": [
       "0.026951520300935953"
      ]
     },
     "execution_count": 414,
     "metadata": {},
     "output_type": "execute_result"
    }
   ],
   "source": [
    "\n",
    "np.array([euclidean(mu, c) for c in base_arr]).mean()"
   ]
  },
  {
   "cell_type": "code",
   "execution_count": 383,
   "metadata": {},
   "outputs": [
    {
     "data": {
      "text/plain": [
       "[0.013381840503395965,\n",
       " 0.026028991915844284,\n",
       " 0.02885142135551405,\n",
       " 0.03235257618939177,\n",
       " 0.04119066872881931]"
      ]
     },
     "execution_count": 383,
     "metadata": {},
     "output_type": "execute_result"
    }
   ],
   "source": [
    "sorted(squareform(pdist(test_cache))[0])[1:6]"
   ]
  },
  {
   "cell_type": "code",
   "execution_count": 386,
   "metadata": {},
   "outputs": [
    {
     "data": {
      "text/plain": [
       "[0.015269152335095484,\n",
       " 0.018292599627166763,\n",
       " 0.028104527749477106,\n",
       " 0.02931569111262546,\n",
       " 0.029754348443798314]"
      ]
     },
     "execution_count": 386,
     "metadata": {},
     "output_type": "execute_result"
    }
   ],
   "source": [
    "sorted(squareform(pdist(test_cache))[1])[1:6]"
   ]
  },
  {
   "cell_type": "code",
   "execution_count": 14,
   "metadata": {},
   "outputs": [
    {
     "name": "stdout",
     "output_type": "stream",
     "text": [
      "[0.06792373 0.01821236 0.0817325  0.02493632 0.02233484 0.08826841] {0: 6, 1: 0, 2: 0}\n",
      "{0: 6, 1: 0, 2: 0}\n"
     ]
    }
   ],
   "source": [
    "new_count = {0:0, 1:0, 2:0}\n",
    "outlier_cache = []\n",
    "for i, m in enumerate(matrices_for_embedding):\n",
    "    distance = euclidean(m, mu)\n",
    "    if distance>max_dev:\n",
    "        new_count[scanner[i]] += 1\n",
    "        outlier_cache.append(m)\n",
    "        if len(outlier_cache)>5:\n",
    "            mu_out = np.array(outlier_cache).mean(axis=0)\n",
    "            std_out = np.array(outlier_cache).std(axis=0)\n",
    "            distances_out = np.array([euclidean(m, mu_out) for m in outlier_cache])\n",
    "            if distances_out.max()<distances_base.max():\n",
    "                print(distances_out, new_count)\n",
    "                break\n",
    "print(new_count)"
   ]
  },
  {
   "cell_type": "code",
   "execution_count": 577,
   "metadata": {},
   "outputs": [
    {
     "data": {
      "text/plain": [
       "array([ 1,  1,  1,  1,  1,  1,  1,  1,  1,  1,  1,  1,  1,  1, -1, -1,  1,\n",
       "        1,  1,  1, -1,  1,  1,  1, -1,  1,  1,  1,  1,  1,  1,  1,  1,  1,\n",
       "        1, -1,  1,  1,  1,  1, -1,  1,  1,  1,  1,  1,  1,  1,  1,  1,  1,\n",
       "        1,  1, -1,  1,  1,  1,  1, -1, -1,  1,  1,  1,  1,  1,  1,  1,  1,\n",
       "        1,  1,  1,  1,  1,  1,  1,  1, -1, -1,  1,  1,  1,  1,  1,  1, -1,\n",
       "       -1,  1,  1,  1,  1,  1,  1,  1,  1,  1,  1,  1,  1,  1,  1,  1,  1,\n",
       "        1,  1,  1,  1,  1,  1,  1,  1,  1,  1,  1,  1,  1,  1, -1, -1,  1,\n",
       "        1,  1,  1,  1,  1,  1,  1,  1,  1,  1,  1,  1,  1,  1,  1,  1,  1,\n",
       "        1, -1,  1,  1,  1, -1,  1,  1,  1,  1,  1,  1,  1,  1,  1,  1,  1,\n",
       "        1,  1, -1,  1,  1,  1,  1,  1,  1,  1,  1,  1,  1,  1,  1,  1,  1,\n",
       "        1,  1,  1,  1,  1,  1,  1,  1,  1,  1,  1,  1,  1,  1,  1,  1, -1,\n",
       "       -1,  1,  1,  1,  1,  1,  1,  1,  1,  1, -1,  1,  1])"
      ]
     },
     "execution_count": 577,
     "metadata": {},
     "output_type": "execute_result"
    }
   ],
   "source": [
    "ocs = OneClassSVM(gamma='auto').fit(base_arr[:20])\n",
    "ocs.predict(base_arr)"
   ]
  },
  {
   "cell_type": "code",
   "execution_count": 579,
   "metadata": {},
   "outputs": [
    {
     "data": {
      "text/plain": [
       "((array([-1,  1]), array([ 21, 179])), (array([-1,  1]), array([1038,  863])))"
      ]
     },
     "execution_count": 579,
     "metadata": {},
     "output_type": "execute_result"
    }
   ],
   "source": [
    "np.unique(ocs.predict(base_arr), return_counts=True), np.unique(ocs.predict(matrices_for_embedding), return_counts=True)"
   ]
  },
  {
   "cell_type": "code",
   "execution_count": 7,
   "metadata": {},
   "outputs": [],
   "source": [
    "tsne = TSNE(n_components=2, perplexity=30)\n",
    "mat_trans = tsne.fit_transform(matrices_for_embedding)"
   ]
  },
  {
   "cell_type": "code",
   "execution_count": 8,
   "metadata": {},
   "outputs": [
    {
     "data": {
      "text/plain": [
       "<matplotlib.collections.PathCollection at 0x7f2db3954438>"
      ]
     },
     "execution_count": 8,
     "metadata": {},
     "output_type": "execute_result"
    },
    {
     "data": {
      "image/png": "[encoded data removed]",
      "text/plain": [
       "<Figure size 432x288 with 1 Axes>"
      ]
     },
     "metadata": {
      "needs_background": "light"
     },
     "output_type": "display_data"
    }
   ],
   "source": [
    "plt.scatter(mat_trans[:, 0], mat_trans[:, 1], c=scanner, cmap='Set1')"
   ]
  },
  {
   "cell_type": "code",
   "execution_count": 6,
   "metadata": {},
   "outputs": [],
   "source": [
    "transform = SparseRandomProjection(random_state=3243255, n_components=30)\n",
    "base_trans = transform.fit_transform(base_matrices)\n",
    "matrices_trans = transform.transform(matrices_for_embedding)"
   ]
  },
  {
   "cell_type": "code",
   "execution_count": 13,
   "metadata": {},
   "outputs": [],
   "source": [
    "tsne = TSNE(n_components=2, random_state=214135)\n",
    "mat_trans_trans = tsne.fit_transform(matrices_trans)"
   ]
  },
  {
   "cell_type": "code",
   "execution_count": 14,
   "metadata": {},
   "outputs": [
    {
     "data": {
      "text/plain": [
       "<matplotlib.collections.PathCollection at 0x7f2db335e278>"
      ]
     },
     "execution_count": 14,
     "metadata": {},
     "output_type": "execute_result"
    },
    {
     "data": {
      "image/png": "[encoded data removed]",
      "text/plain": [
       "<Figure size 432x288 with 1 Axes>"
      ]
     },
     "metadata": {
      "needs_background": "light"
     },
     "output_type": "display_data"
    }
   ],
   "source": [
    "plt.scatter(mat_trans_trans[:, 0], mat_trans_trans[:, 1], c=scanner, cmap='Set1')"
   ]
  },
  {
   "cell_type": "code",
   "execution_count": 102,
   "metadata": {},
   "outputs": [
    {
     "data": {
      "text/plain": [
       "(0.0016207336100175773, 15.24247687447837)"
      ]
     },
     "execution_count": 102,
     "metadata": {},
     "output_type": "execute_result"
    }
   ],
   "source": [
    "x = base_pca[20]\n",
    "mu = base_pca.mean(axis=0)\n",
    "sigma = np.cov(base_pca.T)\n",
    "m_dist_x = np.dot((x-mu).transpose(),np.linalg.inv(sigma))\n",
    "m_dist_x = np.dot(m_dist_x, (x-mu))\n",
    "(1-stats.chi2.cdf(m_dist_x, 3), m_dist_x)"
   ]
  },
  {
   "cell_type": "code",
   "execution_count": 103,
   "metadata": {},
   "outputs": [
    {
     "data": {
      "text/plain": [
       "(0.0, 151.7242184096083)"
      ]
     },
     "execution_count": 103,
     "metadata": {},
     "output_type": "execute_result"
    }
   ],
   "source": [
    "\n",
    "\n",
    "x = matrices_pca[700]\n",
    "\n",
    "m_dist_x = np.dot((x-mu).transpose(),np.linalg.inv(sigma))\n",
    "m_dist_x = np.dot(m_dist_x, (x-mu))\n",
    "1-stats.chi2.cdf(m_dist_x, 3), m_dist_x"
   ]
  },
  {
   "cell_type": "code",
   "execution_count": 100,
   "metadata": {},
   "outputs": [],
   "source": [
    "from  scipy.spatial.distance import mahalanobis, euclidean"
   ]
  },
  {
   "cell_type": "code",
   "execution_count": 104,
   "metadata": {},
   "outputs": [],
   "source": [
    "distances = np.array([mahalanobis(m, mu, np.linalg.inv(sigma)) for m in matrices_pca])"
   ]
  },
  {
   "cell_type": "code",
   "execution_count": 105,
   "metadata": {},
   "outputs": [
    {
     "data": {
      "text/plain": [
       "(4.3875360208308605, 8.660386539932517, 12.030473743684684)"
      ]
     },
     "execution_count": 105,
     "metadata": {},
     "output_type": "execute_result"
    }
   ],
   "source": [
    "distances[np.array(scanner)==0].mean(), distances[np.array(scanner)==1].mean(), distances[np.array(scanner)==2].mean(), "
   ]
  },
  {
   "cell_type": "code",
   "execution_count": 95,
   "metadata": {},
   "outputs": [
    {
     "data": {
      "text/plain": [
       "200"
      ]
     },
     "execution_count": 95,
     "metadata": {},
     "output_type": "execute_result"
    }
   ],
   "source": [
    "len(x)"
   ]
  },
  {
   "cell_type": "code",
   "execution_count": 108,
   "metadata": {},
   "outputs": [],
   "source": []
  },
  {
   "cell_type": "code",
   "execution_count": 109,
   "metadata": {},
   "outputs": [
    {
     "data": {
      "text/plain": [
       "(0.02751501090824604, 0.03858610857019408, 0.07635739635232777)"
      ]
     },
     "execution_count": 109,
     "metadata": {},
     "output_type": "execute_result"
    }
   ],
   "source": [
    "distances_eu[np.array(scanner)==0].mean(), distances_eu[np.array(scanner)==1].mean(), distances_eu[np.array(scanner)==2].mean(), "
   ]
  },
  {
   "cell_type": "code",
   "execution_count": 111,
   "metadata": {},
   "outputs": [
    {
     "data": {
      "text/plain": [
       "(0.1571204662322998, 0.2104555368423462, 0.3073861598968506)"
      ]
     },
     "execution_count": 111,
     "metadata": {},
     "output_type": "execute_result"
    }
   ],
   "source": [
    "distances_eu[np.array(scanner)==0].max(), distances_eu[np.array(scanner)==1].max(), distances_eu[np.array(scanner)==2].max()"
   ]
  },
  {
   "cell_type": "code",
   "execution_count": 114,
   "metadata": {},
   "outputs": [
    {
     "data": {
      "text/plain": [
       "0.08882248326799902"
      ]
     },
     "execution_count": 114,
     "metadata": {},
     "output_type": "execute_result"
    }
   ],
   "source": []
  },
  {
   "cell_type": "code",
   "execution_count": 155,
   "metadata": {},
   "outputs": [
    {
     "data": {
      "text/plain": [
       "(1024,)"
      ]
     },
     "execution_count": 155,
     "metadata": {},
     "output_type": "execute_result"
    }
   ],
   "source": [
    "base_arr[0].shape"
   ]
  },
  {
   "cell_type": "code",
   "execution_count": 79,
   "metadata": {},
   "outputs": [],
   "source": [
    "device = torch.device('cuda')\n",
    "stylemodel = tvmodels.resnet50(pretrained=True) #maybe different model?\n",
    "stylemodel_cut = nn.Sequential(*list(stylemodel.children())[:5])\n",
    "\n",
    "stylemodel_cut = stylemodel_cut.to(device)\n",
    "stylemodel_cut.eval()\n",
    "\n",
    "grammatrices = []\n",
    "gramlayers = [stylemodel_cut[4][1].conv2]\n",
    "               #model.layer2[-1].conv1,\n",
    "               #model.layer3[-1].conv1]\n",
    "               #model.layer4[-1].conv1]\n",
    "register_hooks_2d(gramlayers)\n",
    "collected_matrices = {}"
   ]
  },
  {
   "cell_type": "code",
   "execution_count": 80,
   "metadata": {},
   "outputs": [
    {
     "name": "stdout",
     "output_type": "stream",
     "text": [
      "41\n",
      "117\n"
     ]
    }
   ],
   "source": [
    "ds = BrainAgeContinuous('/project/catinous/brainds_split.csv')\n",
    "ds_base = BrainAgeDataset('/project/catinous/brainds_split.csv', split=['base_train'])\n",
    "dl_base = torch.utils.data.DataLoader(ds_base, num_workers=2, batch_size=1)\n",
    "dl = torch.utils.data.DataLoader(ds, num_workers=2, batch_size=1)"
   ]
  },
  {
   "cell_type": "code",
   "execution_count": 81,
   "metadata": {},
   "outputs": [],
   "source": [
    "matrices_for_embedding = []\n",
    "scanner = []\n",
    "base_matrices = []\n",
    "\n",
    "\n",
    "for batch in dl_base:\n",
    "    x, y, _, labels = batch\n",
    "    img_sample = x[:, :, 2*int(img.shape[2]/3), :, :]\n",
    "    img_sample = np.tile(img_sample, [1, 3, 1, 1])\n",
    "\n",
    "    img_sample = torch.tensor(img_sample).to(device)\n",
    "    out = stylemodel_cut(img_sample)\n",
    "    for gm in grammatrices[0]:\n",
    "        matrices_for_embedding.append(gm.detach().cpu().numpy().flatten())\n",
    "        base_matrices.append(gm.detach().cpu().numpy().flatten())\n",
    "        scanner.append(0)\n",
    "    grammatrices = []\n",
    "    \n",
    "for batch in dl:\n",
    "    x, y, _, labels = batch\n",
    "    img_sample = x[:, :, 2*int(img.shape[2]/3), :, :]\n",
    "    img_sample = np.tile(img_sample, [1, 3, 1, 1])\n",
    "\n",
    "    img_sample = torch.tensor(img_sample).to(device)\n",
    "    out = stylemodel_cut(img_sample)\n",
    "    \n",
    "    for gm in grammatrices[0]:\n",
    "        matrices_for_embedding.append(gm.detach().cpu().numpy().flatten())\n",
    "    grammatrices = []\n",
    "    for l in labels:\n",
    "        if l=='1.5T Philips':\n",
    "            scanner.append(0)\n",
    "        elif l=='3.0T Philips':\n",
    "            scanner.append(1)\n",
    "        else:\n",
    "            scanner.append(2)"
   ]
  },
  {
   "cell_type": "code",
   "execution_count": 82,
   "metadata": {},
   "outputs": [
    {
     "data": {
      "text/plain": [
       "(4096,)"
      ]
     },
     "execution_count": 82,
     "metadata": {},
     "output_type": "execute_result"
    }
   ],
   "source": [
    "base_matrices[0].shape"
   ]
  },
  {
   "cell_type": "code",
   "execution_count": 83,
   "metadata": {},
   "outputs": [],
   "source": [
    "base_arr = np.array(base_matrices)"
   ]
  },
  {
   "cell_type": "code",
   "execution_count": 150,
   "metadata": {},
   "outputs": [
    {
     "data": {
      "text/plain": [
       "<matplotlib.collections.PathCollection at 0x7f20af1cd160>"
      ]
     },
     "execution_count": 150,
     "metadata": {},
     "output_type": "execute_result"
    },
    {
     "data": {
      "image/png": "[encoded data removed]",
      "text/plain": [
       "<Figure size 432x288 with 1 Axes>"
      ]
     },
     "metadata": {
      "needs_background": "light"
     },
     "output_type": "display_data"
    }
   ],
   "source": [
    "tsne = TSNE(n_components=2, perplexity=30, random_state=234234)\n",
    "mat_trans = tsne.fit_transform(matrices_for_embedding)\n",
    "plt.scatter(mat_trans[:, 0], mat_trans[:, 1], c=scanner, cmap='Set1')"
   ]
  },
  {
   "cell_type": "code",
   "execution_count": 24,
   "metadata": {},
   "outputs": [
    {
     "data": {
      "text/plain": [
       "torch.Size([1, 1, 128, 128])"
      ]
     },
     "execution_count": 24,
     "metadata": {},
     "output_type": "execute_result"
    }
   ],
   "source": [
    "transform = SparseRandomProjection(random_state=3243255, n_components=30)\n",
    "base_trans = transform.fit_transform(base_arr)\n",
    "matrices_trans = transform.transform(matrices_for_embedding)"
   ]
  },
  {
   "cell_type": "code",
   "execution_count": 15,
   "metadata": {},
   "outputs": [],
   "source": [
    "mu = base_trans.mean(axis=0)\n",
    "std= base_trans.std(axis=0)\n",
    "mu_3std = mu-(3.0*std)\n",
    "mu_plus3std = mu+(3.0*std)"
   ]
  },
  {
   "cell_type": "code",
   "execution_count": 32,
   "metadata": {},
   "outputs": [
    {
     "data": {
      "text/plain": [
       "(array([ 0,  1,  2,  3,  4,  5,  6,  7,  8,  9, 10, 11, 12, 13, 14, 15, 16,\n",
       "        17, 18]),\n",
       " array([  1, 139, 197,  13, 109,  88,  75,   7, 173, 160, 265, 221,  44,\n",
       "         74,  35, 101,  69,  27,   5]))"
      ]
     },
     "execution_count": 32,
     "metadata": {},
     "output_type": "execute_result"
    }
   ],
   "source": [
    "domain_mus = [mu]\n",
    "domain_stds = [std]\n",
    "\n",
    "new_count = {0:0, 1:0, 2:0}\n",
    "outlier_cache = []\n",
    "outlier_scanners = []\n",
    "\n",
    "elements = []\n",
    "pseudodomains = []\n",
    "elements_scanner = []\n",
    "\n",
    "outlier_cnt_exp = []\n",
    "\n",
    "for i, m in enumerate(matrices_trans):\n",
    "    domain = np.array([euclidean(m, dm) for dm in domain_mus]).argmin()\n",
    "\n",
    "    mu_3std = domain_mus[domain]-(3.0*domain_stds[domain])\n",
    "    mu_plus3std = domain_mus[domain]+(3.0*domain_stds[domain])\n",
    "    \n",
    "    outlier = False\n",
    "    outlier_cnt = 0\n",
    "\n",
    "    for j, b in enumerate(m):\n",
    "        if b<mu_3std[j] or b>mu_plus3std[j]:\n",
    "            outlier_cnt += 1\n",
    "    if outlier_cnt>2:\n",
    "        outlier = True\n",
    "            \n",
    "    if outlier:\n",
    "        new_count[scanner[i]] += 1\n",
    "        outlier_cache.append(m)\n",
    "        outlier_scanners.append(scanner[i])\n",
    "        \n",
    "        if len(outlier_cache)==10:\n",
    "            new_domain_label = len(domain_mus)\n",
    "            distances = squareform(pdist(outlier_cache))\n",
    "            idx = np.array([np.array(sorted(d)[:6]).sum() for d in distances]).argmin()\n",
    "            indeces = np.argsort(distances[idx])[:5]\n",
    "            compact_cache = np.array([outlier_cache[k] for k in indeces])\n",
    "            elements_scanner.extend(np.array([outlier_scanners[k] for k in indeces]))\n",
    "            for c in compact_cache:\n",
    "                elements.append(c)\n",
    "                pseudodomains.append(new_domain_label)\n",
    "            domain_mus.append(compact_cache.mean(axis=0))\n",
    "            domain_stds.append(compact_cache.std(axis=0))\n",
    "            \n",
    "            outlier_cache = [] #not the best thing to do\n",
    "        \n",
    "    else:    \n",
    "        elements.append(m)\n",
    "        pseudodomains.append(domain)\n",
    "        elements_scanner.append(scanner[i])\n",
    "        pseudo_elements = np.array(elements)[np.array(pseudodomains)==domain]\n",
    "        if len(pseudo_elements)<32:\n",
    "            domain_mus[domain] = pseudo_elements.mean(axis=0)\n",
    "            domain_stds[domain] = pseudo_elements.std(axis=0)\n",
    "np.unique(pseudodomains, return_counts=True)"
   ]
  },
  {
   "cell_type": "code",
   "execution_count": 33,
   "metadata": {},
   "outputs": [
    {
     "data": {
      "text/plain": [
       "<matplotlib.collections.PathCollection at 0x7f2d2cd03320>"
      ]
     },
     "execution_count": 33,
     "metadata": {},
     "output_type": "execute_result"
    },
    {
     "data": {
      "image/png": "[encoded data removed]",
      "text/plain": [
       "<Figure size 432x288 with 1 Axes>"
      ]
     },
     "metadata": {
      "needs_background": "light"
     },
     "output_type": "display_data"
    }
   ],
   "source": [
    "tsne = TSNE(n_components=2, random_state=2335355)\n",
    "elements_tsne = tsne.fit_transform(elements)\n",
    "plt.scatter(elements_tsne[:, 0], elements_tsne[:, 1], c=pseudodomains, cmap='tab20')"
   ]
  },
  {
   "cell_type": "code",
   "execution_count": 34,
   "metadata": {},
   "outputs": [
    {
     "data": {
      "text/plain": [
       "<matplotlib.collections.PathCollection at 0x7f2d2cce6550>"
      ]
     },
     "execution_count": 34,
     "metadata": {},
     "output_type": "execute_result"
    },
    {
     "data": {
      "image/png": "[encoded data removed]",
      "text/plain": [
       "<Figure size 432x288 with 1 Axes>"
      ]
     },
     "metadata": {
      "needs_background": "light"
     },
     "output_type": "display_data"
    }
   ],
   "source": [
    "plt.scatter(elements_tsne[:, 0], elements_tsne[:, 1], c=elements_scanner, cmap='Set1')"
   ]
  },
  {
   "cell_type": "code",
   "execution_count": 146,
   "metadata": {},
   "outputs": [],
   "source": [
    "domain_mus = [mu]\n",
    "domain_stds = [std]\n",
    "\n",
    "new_count = {0:0, 1:0, 2:0}\n",
    "outlier_cache = []\n",
    "outlier_scanners = []\n",
    "\n",
    "elements = []\n",
    "pseudodomains = []\n",
    "scanners_elements = []\n",
    "\n",
    "clf = IsolationForest(n_estimators=10, random_state=323459145).fit(base_arr)\n",
    "isoforests = [clf]\n",
    "\n",
    "for i, m in enumerate(matrices_for_embedding[200:]):\n",
    "    outlier = True\n",
    "    for j, clf in enumerate(isoforests):\n",
    "        if outlier:\n",
    "            if clf.predict(m.reshape(1, -1))!=-1: #TODO: this takes the first pseudo label, but it might be that another psuedo label is better!!\n",
    "                    pseudodomains.append(j)\n",
    "                    outlier=False\n",
    "                    elements.append(m)\n",
    "                    scanners_elements.append(scanner[200+i])\n",
    "                    if j!=0:\n",
    "                        pseudo_elements = np.array(elements)[np.array(pseudodomains)==j]\n",
    "                        if len(pseudo_elements)<32:\n",
    "                            clf = isoforests[j]\n",
    "                            clf.set_params(n_estimators=len(clf.estimators_)+3)\n",
    "                            isoforests[j] = clf.fit(pseudo_elements)\n",
    "    if outlier:\n",
    "        new_count[scanner[200+i]] += 1\n",
    "        outlier_cache.append(m)\n",
    "        outlier_scanners.append(scanner[200+i])\n",
    "        \n",
    "        if len(outlier_cache)==10:\n",
    "            new_domain_label = len(isoforests)\n",
    "            clf = IsolationForest(n_estimators=5, random_state=2491308414, warm_start=True, contamination=0.10).fit(outlier_cache) \n",
    "            #have to do a pre selection of cache elements here based on \n",
    "            \n",
    "            #print(clf.predict(outlier_cache))\n",
    "            \n",
    "            for k, p in enumerate(clf.predict(outlier_cache)):\n",
    "                if p==1:\n",
    "                    elements.append(outlier_cache[k])\n",
    "                    pseudodomains.append(new_domain_label)\n",
    "                    scanners_elements.append(outlier_scanners[k])\n",
    "            \n",
    "            isoforests.append(clf)\n",
    "            \n",
    "            outlier_cache = [] #not the best thing to do\n",
    "            outlier_scanner = []"
   ]
  },
  {
   "cell_type": "code",
   "execution_count": 148,
   "metadata": {},
   "outputs": [
    {
     "data": {
      "text/plain": [
       "(array([0, 1, 2, 3, 4, 5]), array([234, 935, 348, 131,  38,  10]))"
      ]
     },
     "execution_count": 148,
     "metadata": {},
     "output_type": "execute_result"
    }
   ],
   "source": [
    "np.unique(pseudodomains, return_counts=True)"
   ]
  },
  {
   "cell_type": "code",
   "execution_count": 147,
   "metadata": {},
   "outputs": [
    {
     "data": {
      "text/plain": [
       "<matplotlib.collections.PathCollection at 0x7f20af21c3c8>"
      ]
     },
     "execution_count": 147,
     "metadata": {},
     "output_type": "execute_result"
    },
    {
     "data": {
      "image/png": "[encoded data removed]",
      "text/plain": [
       "<Figure size 432x288 with 1 Axes>"
      ]
     },
     "metadata": {
      "needs_background": "light"
     },
     "output_type": "display_data"
    }
   ],
   "source": [
    "tsne = TSNE(n_components=2)\n",
    "elements_tsne = tsne.fit_transform(elements)\n",
    "plt.scatter(elements_tsne[:, 0], elements_tsne[:, 1], c=pseudodomains, cmap='tab20')"
   ]
  },
  {
   "cell_type": "code",
   "execution_count": 149,
   "metadata": {},
   "outputs": [
    {
     "data": {
      "text/plain": [
       "<matplotlib.collections.PathCollection at 0x7f20af1e6cc0>"
      ]
     },
     "execution_count": 149,
     "metadata": {},
     "output_type": "execute_result"
    },
    {
     "data": {
      "image/png": "[encoded data removed]",
      "text/plain": [
       "<Figure size 432x288 with 1 Axes>"
      ]
     },
     "metadata": {
      "needs_background": "light"
     },
     "output_type": "display_data"
    }
   ],
   "source": [
    "plt.scatter(elements_tsne[:, 0], elements_tsne[:, 1], c=scanners_elements, cmap='Set1')"
   ]
  },
  {
   "cell_type": "code",
   "execution_count": 137,
   "metadata": {},
   "outputs": [],
   "source": [
    "clf = isoforests[0]"
   ]
  },
  {
   "cell_type": "code",
   "execution_count": 145,
   "metadata": {},
   "outputs": [
    {
     "data": {
      "text/plain": [
       "(array([-1,  1]), array([61, 83]))"
      ]
     },
     "execution_count": 145,
     "metadata": {},
     "output_type": "execute_result"
    }
   ],
   "source": [
    "np.unique(clf.predict(np.array(matrices_for_embedding)[np.array(scanner)==1]), return_counts=True)"
   ]
  },
  {
   "cell_type": "code",
   "execution_count": 19,
   "metadata": {},
   "outputs": [],
   "source": [
    "domain_mus = [mu]\n",
    "domain_stds = [std]\n",
    "\n",
    "new_count = {0:0, 1:0, 2:0}\n",
    "outlier_cache = []\n",
    "outlier_scanners = []\n",
    "\n",
    "elements = []\n",
    "pseudodomains = []\n",
    "scanners_elements = []\n",
    "\n",
    "clf = IsolationForest(n_estimators=10, random_state=323459145, n_jobs=-1).fit(base_trans)\n",
    "isoforests = [clf]\n",
    "\n",
    "for i, m in enumerate(matrices_trans):\n",
    "    outlier = True\n",
    "    \n",
    "    current_max = 0.0\n",
    "    current_j = -1\n",
    "    for j, clf in enumerate(isoforests):\n",
    "        pred = clf.decision_function(m.reshape(1, -1))\n",
    "        if pred>current_max:\n",
    "            current_max = pred\n",
    "            current_j = j\n",
    "            \n",
    "    if current_j!=-1:\n",
    "        pseudodomains.append(current_j)\n",
    "        outlier=False\n",
    "        elements.append(m)\n",
    "        scanners_elements.append(scanner[i])\n",
    "        if current_j!=0:\n",
    "            pseudo_elements = np.array(elements)[np.array(pseudodomains)==current_j]\n",
    "            if len(pseudo_elements)<32:\n",
    "                clf = isoforests[current_j]\n",
    "                clf.set_params(n_estimators=len(clf.estimators_)+3)\n",
    "                isoforests[current_j] = clf.fit(pseudo_elements)\n",
    "      \n",
    "    if outlier:\n",
    "        new_count[scanner[i]] += 1\n",
    "        outlier_cache.append(m)\n",
    "        outlier_scanners.append(scanner[i])\n",
    "        \n",
    "        if len(outlier_cache)==10:\n",
    "            new_domain_label = len(isoforests)\n",
    "            distances = squareform(pdist(outlier_cache))\n",
    "            idx = np.array([np.array(sorted(d)[:6]).sum() for d in distances]).argmin()\n",
    "            indeces = np.argsort(distances[idx])[:5]\n",
    "            compact_cache = np.array([outlier_cache[i] for i in indeces])\n",
    "            #for c in compact_cache:\n",
    "            #    elements.append(c)\n",
    "            #    pseudodomains.append(new_domain_label)\n",
    "            clf = IsolationForest(n_estimators=5, random_state=2491308414, warm_start=True, contamination=0.10, n_jobs=-1).fit(outlier_cache) #have to do a pre selection of cache elements here based on \n",
    "            \n",
    "            #print(clf.predict(outlier_cache))\n",
    "            \n",
    "            for k, p in enumerate(clf.predict(outlier_cache)):\n",
    "                if p==1:\n",
    "                    elements.append(outlier_cache[k])\n",
    "                    pseudodomains.append(new_domain_label)\n",
    "                    scanners_elements.append(outlier_scanners[k])\n",
    "            \n",
    "            isoforests.append(clf)\n",
    "            \n",
    "            outlier_cache = [] #not the best thing to do\n",
    "            outlier_scanner = []"
   ]
  },
  {
   "cell_type": "code",
   "execution_count": 23,
   "metadata": {},
   "outputs": [
    {
     "data": {
      "text/plain": [
       "(array([0, 1, 2, 3, 4, 5, 6, 7, 8]),\n",
       " array([282,  49, 123,  50, 336, 766, 132, 130,  25]))"
      ]
     },
     "execution_count": 23,
     "metadata": {},
     "output_type": "execute_result"
    }
   ],
   "source": [
    "np.unique(pseudodomains, return_counts=True)"
   ]
  },
  {
   "cell_type": "code",
   "execution_count": 24,
   "metadata": {},
   "outputs": [
    {
     "data": {
      "text/plain": [
       "<matplotlib.collections.PathCollection at 0x7f2d2ce8a390>"
      ]
     },
     "execution_count": 24,
     "metadata": {},
     "output_type": "execute_result"
    },
    {
     "data": {
      "image/png": "[encoded data removed]",
      "text/plain": [
       "<Figure size 432x288 with 1 Axes>"
      ]
     },
     "metadata": {
      "needs_background": "light"
     },
     "output_type": "display_data"
    }
   ],
   "source": [
    "tsne = TSNE(n_components=2, random_state=2352235)\n",
    "elements_tsne = tsne.fit_transform(elements)\n",
    "plt.scatter(elements_tsne[:, 0], elements_tsne[:, 1], c=pseudodomains, cmap='tab20')"
   ]
  },
  {
   "cell_type": "code",
   "execution_count": 25,
   "metadata": {},
   "outputs": [
    {
     "data": {
      "text/plain": [
       "<matplotlib.collections.PathCollection at 0x7f2d2ce656a0>"
      ]
     },
     "execution_count": 25,
     "metadata": {},
     "output_type": "execute_result"
    },
    {
     "data": {
      "image/png": "[encoded data removed]",
      "text/plain": [
       "<Figure size 432x288 with 1 Axes>"
      ]
     },
     "metadata": {
      "needs_background": "light"
     },
     "output_type": "display_data"
    }
   ],
   "source": [
    "plt.scatter(elements_tsne[:, 0], elements_tsne[:, 1], c=scanners_elements, cmap='Set1')"
   ]
  },
  {
   "cell_type": "code",
   "execution_count": 36,
   "metadata": {},
   "outputs": [],
   "source": [
    "domaincounter = {0: 23, 1:0}"
   ]
  },
  {
   "cell_type": "code",
   "execution_count": 38,
   "metadata": {},
   "outputs": [
    {
     "name": "stdout",
     "output_type": "stream",
     "text": [
      "0 23\n",
      "1 0\n"
     ]
    }
   ],
   "source": [
    "for k, v in domaincounter.items():\n",
    "    print(k, v)"
   ]
  },
  {
   "cell_type": "code",
   "execution_count": 64,
   "metadata": {},
   "outputs": [],
   "source": [
    "domain_complete = {0: True, 3: True, 2:False}"
   ]
  },
  {
   "cell_type": "code",
   "execution_count": 62,
   "metadata": {},
   "outputs": [
    {
     "data": {
      "text/plain": [
       "True"
      ]
     },
     "execution_count": 62,
     "metadata": {},
     "output_type": "execute_result"
    }
   ],
   "source": [
    "np.all(list(domain_complete.values()))"
   ]
  },
  {
   "cell_type": "code",
   "execution_count": 63,
   "metadata": {},
   "outputs": [
    {
     "name": "stdout",
     "output_type": "stream",
     "text": [
      "0\n",
      "3\n"
     ]
    }
   ],
   "source": [
    "for d in domain_complete:\n",
    "    print(d)"
   ]
  },
  {
   "cell_type": "code",
   "execution_count": 65,
   "metadata": {},
   "outputs": [],
   "source": [
    "domain_items = [d if d else None for d in domain_complete]"
   ]
  },
  {
   "cell_type": "code",
   "execution_count": 5,
   "metadata": {},
   "outputs": [],
   "source": [
    "device = torch.device('cuda')\n",
    "stylemodel = tvmodels.resnet50(pretrained=True)\n",
    "\n",
    "stylemodel = stylemodel.to(device)\n",
    "stylemodel.eval()\n",
    "\n",
    "grammatrices = []\n",
    "gramlayers = [stylemodel.layer2[-1].conv1]\n",
    "               #model.layer3[-1].conv1]\n",
    "               #model.layer4[-1].conv1]\n",
    "register_hooks_2d(gramlayers)\n",
    "collected_matrices = {}"
   ]
  },
  {
   "cell_type": "code",
   "execution_count": 6,
   "metadata": {},
   "outputs": [],
   "source": [
    "dl = torch.utils.data.DataLoader(CatsinomDataset('/project/catinous/cat_data/',\n",
    "                                'catsinom_combined_dsts3_dataset.csv',\n",
    "                               iterations=None,\n",
    "                               batch_size=4,\n",
    "                               split=['base_train'],\n",
    "                              res='lr'),\n",
    "                   batch_size=4, num_workers=4, pin_memory=True, shuffle=True)"
   ]
  },
  {
   "cell_type": "code",
   "execution_count": 17,
   "metadata": {},
   "outputs": [],
   "source": [
    "gms = []\n",
    "res = []\n",
    "\n",
    "for batch in dl:\n",
    "    torch.cuda.empty_cache()\n",
    "\n",
    "\n",
    "    x, y, filepath, scanner = batch\n",
    "    x = x.to(device)\n",
    "    y_style = stylemodel(x.float())\n",
    "\n",
    "    for i, f in enumerate(filepath):\n",
    "        gms.append(grammatrices[0][i].detach().cpu().numpy().flatten())\n",
    "        res.append(scanner[i])\n",
    "\n",
    "    grammatrices = []"
   ]
  },
  {
   "cell_type": "code",
   "execution_count": 16,
   "metadata": {},
   "outputs": [],
   "source": [
    "dl = torch.utils.data.DataLoader(CatsinomDataset('/project/catinous/cat_data/',\n",
    "                                'catsinom_combined_dsts3_dataset.csv',\n",
    "                               iterations=None,\n",
    "                               batch_size=4,\n",
    "                               split=['val'],\n",
    "                              res='lr'),\n",
    "                   batch_size=4, num_workers=4, pin_memory=True, shuffle=True)"
   ]
  },
  {
   "cell_type": "code",
   "execution_count": 9,
   "metadata": {},
   "outputs": [],
   "source": [
    "spr = SparseRandomProjection(random_state=31515, n_components=30)\n",
    "spr_trans = spr.fit_transform(gms[:64])"
   ]
  },
  {
   "cell_type": "code",
   "execution_count": 10,
   "metadata": {},
   "outputs": [],
   "source": [
    "clf = IsolationForest(n_estimators=10, random_state=31515).fit(spr_trans)"
   ]
  },
  {
   "cell_type": "code",
   "execution_count": 18,
   "metadata": {},
   "outputs": [],
   "source": [
    "spr_trans_out = spr.transform(gms[-64:])"
   ]
  },
  {
   "cell_type": "code",
   "execution_count": 20,
   "metadata": {},
   "outputs": [
    {
     "data": {
      "text/plain": [
       "array([ 1,  1, -1,  1,  1,  1, -1,  1, -1,  1,  1,  1,  1,  1,  1,  1,  1,\n",
       "        1,  1,  1,  1,  1,  1,  1,  1,  1,  1,  1, -1,  1,  1,  1,  1,  1,\n",
       "        1,  1,  1,  1,  1,  1,  1,  1,  1,  1,  1,  1,  1,  1,  1,  1,  1,\n",
       "        1,  1,  1,  1,  1,  1,  1,  1,  1,  1,  1,  1,  1])"
      ]
     },
     "execution_count": 20,
     "metadata": {},
     "output_type": "execute_result"
    }
   ],
   "source": [
    "clf.predict(spr_trans_out)"
   ]
  },
  {
   "cell_type": "code",
   "execution_count": 19,
   "metadata": {},
   "outputs": [
    {
     "data": {
      "text/plain": [
       "<matplotlib.collections.PathCollection at 0x7ff833077e48>"
      ]
     },
     "execution_count": 19,
     "metadata": {},
     "output_type": "execute_result"
    },
    {
     "data": {
      "image/png": "[encoded data removed]",
      "text/plain": [
       "<Figure size 432x288 with 1 Axes>"
      ]
     },
     "metadata": {
      "needs_background": "light"
     },
     "output_type": "display_data"
    }
   ],
   "source": [
    "tsne = TSNE(n_components=2, random_state=2352235)\n",
    "elements_tsne = tsne.fit_transform(spr_trans)\n",
    "plt.scatter(elements_tsne[:, 0], elements_tsne[:, 1], cmap='tab20')"
   ]
  },
  {
   "cell_type": "code",
   "execution_count": 22,
   "metadata": {},
   "outputs": [],
   "source": [
    "r_c = []\n",
    "for r in res:\n",
    "    if r=='lr':\n",
    "        r_c.append(0)\n",
    "    elif r=='hr':\n",
    "        r_c.append(1)\n",
    "    else:\n",
    "        r_c.append(2)\n"
   ]
  },
  {
   "cell_type": "code",
   "execution_count": 35,
   "metadata": {},
   "outputs": [
    {
     "data": {
      "text/plain": [
       "<matplotlib.collections.PathCollection at 0x7ff78e9339e8>"
      ]
     },
     "execution_count": 35,
     "metadata": {},
     "output_type": "execute_result"
    },
    {
     "data": {
      "image/png": "[encoded data removed]",
      "text/plain": [
       "<Figure size 432x288 with 1 Axes>"
      ]
     },
     "metadata": {
      "needs_background": "light"
     },
     "output_type": "display_data"
    }
   ],
   "source": [
    "plt.scatter(elements_tsne[:500, 0], elements_tsne[:500, 1], cmap='tab20', c=r_c[:500])"
   ]
  },
  {
   "cell_type": "code",
   "execution_count": 31,
   "metadata": {},
   "outputs": [],
   "source": [
    "r = list(r_c[:500])"
   ]
  },
  {
   "cell_type": "code",
   "execution_count": null,
   "metadata": {},
   "outputs": [],
   "source": []
  }
 ],
 "metadata": {
  "kernelspec": {
   "display_name": "Python 3",
   "language": "python",
   "name": "python3"
  },
  "language_info": {
   "codemirror_mode": {
    "name": "ipython",
    "version": 3
   },
   "file_extension": ".py",
   "mimetype": "text/x-python",
   "name": "python",
   "nbconvert_exporter": "python",
   "pygments_lexer": "ipython3",
   "version": "3.6.9"
  }
 },
 "nbformat": 4,
 "nbformat_minor": 4
}
