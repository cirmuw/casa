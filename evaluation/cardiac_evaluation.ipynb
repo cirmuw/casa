{
 "cells": [
  {
   "cell_type": "code",
   "execution_count": 1,
   "metadata": {},
   "outputs": [
    {
     "name": "stderr",
     "output_type": "stream",
     "text": [
      "In /home/mperkonigg/.local/lib/python3.6/site-packages/matplotlib/mpl-data/stylelib/_classic_test.mplstyle: \n",
      "The text.latex.preview rcparam was deprecated in Matplotlib 3.3 and will be removed two minor releases later.\n",
      "In /home/mperkonigg/.local/lib/python3.6/site-packages/matplotlib/mpl-data/stylelib/_classic_test.mplstyle: \n",
      "The mathtext.fallback_to_cm rcparam was deprecated in Matplotlib 3.3 and will be removed two minor releases later.\n",
      "In /home/mperkonigg/.local/lib/python3.6/site-packages/matplotlib/mpl-data/stylelib/_classic_test.mplstyle: Support for setting the 'mathtext.fallback_to_cm' rcParam is deprecated since 3.3 and will be removed two minor releases later; use 'mathtext.fallback : 'cm' instead.\n",
      "In /home/mperkonigg/.local/lib/python3.6/site-packages/matplotlib/mpl-data/stylelib/_classic_test.mplstyle: \n",
      "The validate_bool_maybe_none function was deprecated in Matplotlib 3.3 and will be removed two minor releases later.\n",
      "In /home/mperkonigg/.local/lib/python3.6/site-packages/matplotlib/mpl-data/stylelib/_classic_test.mplstyle: \n",
      "The savefig.jpeg_quality rcparam was deprecated in Matplotlib 3.3 and will be removed two minor releases later.\n",
      "In /home/mperkonigg/.local/lib/python3.6/site-packages/matplotlib/mpl-data/stylelib/_classic_test.mplstyle: \n",
      "The keymap.all_axes rcparam was deprecated in Matplotlib 3.3 and will be removed two minor releases later.\n",
      "In /home/mperkonigg/.local/lib/python3.6/site-packages/matplotlib/mpl-data/stylelib/_classic_test.mplstyle: \n",
      "The animation.avconv_path rcparam was deprecated in Matplotlib 3.3 and will be removed two minor releases later.\n",
      "In /home/mperkonigg/.local/lib/python3.6/site-packages/matplotlib/mpl-data/stylelib/_classic_test.mplstyle: \n",
      "The animation.avconv_args rcparam was deprecated in Matplotlib 3.3 and will be removed two minor releases later.\n"
     ]
    }
   ],
   "source": [
    "import sys\n",
    "sys.path.append('../')\n",
    "from cardiac_evalfunctions import *"
   ]
  },
  {
   "cell_type": "markdown",
   "metadata": {},
   "source": [
    "To see the dynamics during training validation curves can be plotted by calling `plot_validation_curves(<path_to_config_files>, [optional <list of method names>], [optional <list of random seeds>])`.\n",
    "Note: Plotting those curves is only useful for methods trained on a continuous datastream"
   ]
  },
  {
   "cell_type": "code",
   "execution_count": 5,
   "metadata": {},
   "outputs": [
    {
     "name": "stdout",
     "output_type": "stream",
     "text": [
      "['Siemens', 'GE', 'Philips', 'Canon']\n"
     ]
    },
    {
     "data": {
      "image/png": "[encoded data removed]",
      "text/plain": [
       "<Figure size 720x360 with 3 Axes>"
      ]
     },
     "metadata": {
      "needs_background": "light"
     },
     "output_type": "display_data"
    }
   ],
   "source": [
    "plot_validation_curves(['../training_configs/cardiac_naive.yml', '../training_configs/cardiac_naive_20.yml'], names=['Naive', '20'], seeds=[1, 2, 3, 4, 5])"
   ]
  },
  {
   "cell_type": "markdown",
   "metadata": {},
   "source": [
    "To evaluate a specific config call `eval_config(<path_to_config_file>)`.\n",
    "\n",
    "Results are cached to avoid recalculation."
   ]
  },
  {
   "cell_type": "code",
   "execution_count": 2,
   "metadata": {},
   "outputs": [
    {
     "name": "stdout",
     "output_type": "stream",
     "text": [
      "init cardiac batch with datasetfile /project/catinous/cardiacslicessplitsingle.csv\n",
      "Read: /project/catinous/active_catinous/MELBA/output/trained_models/cardiac_batch_cardiacslicessplitsingle_base_1_d885e299cf.pt\n"
     ]
    },
    {
     "data": {
      "text/html": [
       "<div>\n",
       "<style scoped>\n",
       "    .dataframe tbody tr th:only-of-type {\n",
       "        vertical-align: middle;\n",
       "    }\n",
       "\n",
       "    .dataframe tbody tr th {\n",
       "        vertical-align: top;\n",
       "    }\n",
       "\n",
       "    .dataframe thead th {\n",
       "        text-align: right;\n",
       "    }\n",
       "</style>\n",
       "<table border=\"1\" class=\"dataframe\">\n",
       "  <thead>\n",
       "    <tr style=\"text-align: right;\">\n",
       "      <th></th>\n",
       "      <th>scanner</th>\n",
       "      <th>dice_lv</th>\n",
       "      <th>dice_myo</th>\n",
       "      <th>dice_rv</th>\n",
       "      <th>dice_mean</th>\n",
       "    </tr>\n",
       "  </thead>\n",
       "  <tbody>\n",
       "    <tr>\n",
       "      <th>0</th>\n",
       "      <td>Canon</td>\n",
       "      <td>0.398034</td>\n",
       "      <td>0.361050</td>\n",
       "      <td>0.161379</td>\n",
       "      <td>0.302008</td>\n",
       "    </tr>\n",
       "    <tr>\n",
       "      <th>1</th>\n",
       "      <td>GE</td>\n",
       "      <td>0.772942</td>\n",
       "      <td>0.665817</td>\n",
       "      <td>0.735189</td>\n",
       "      <td>0.701991</td>\n",
       "    </tr>\n",
       "    <tr>\n",
       "      <th>2</th>\n",
       "      <td>Philips</td>\n",
       "      <td>0.819396</td>\n",
       "      <td>0.745160</td>\n",
       "      <td>0.786602</td>\n",
       "      <td>0.774186</td>\n",
       "    </tr>\n",
       "    <tr>\n",
       "      <th>3</th>\n",
       "      <td>Siemens</td>\n",
       "      <td>0.854722</td>\n",
       "      <td>0.773785</td>\n",
       "      <td>0.802222</td>\n",
       "      <td>0.799329</td>\n",
       "    </tr>\n",
       "  </tbody>\n",
       "</table>\n",
       "</div>"
      ],
      "text/plain": [
       "   scanner   dice_lv  dice_myo   dice_rv  dice_mean\n",
       "0    Canon  0.398034  0.361050  0.161379   0.302008\n",
       "1       GE  0.772942  0.665817  0.735189   0.701991\n",
       "2  Philips  0.819396  0.745160  0.786602   0.774186\n",
       "3  Siemens  0.854722  0.773785  0.802222   0.799329"
      ]
     },
     "execution_count": 2,
     "metadata": {},
     "output_type": "execute_result"
    }
   ],
   "source": [
    "eval_config('../training_configs/cardiac_base.yml')"
   ]
  },
  {
   "cell_type": "code",
   "execution_count": null,
   "metadata": {},
   "outputs": [],
   "source": [
    "eval_config('../training_configs/cardiac_naive.yml', seeds=[1, 2, 3, 4, 5])"
   ]
  },
  {
   "cell_type": "code",
   "execution_count": null,
   "metadata": {},
   "outputs": [],
   "source": [
    "eval_config('../training_configs/cardiac_naive_20.yml', seeds=[1, 2, 3, 4, 5])"
   ]
  },
  {
   "cell_type": "code",
   "execution_count": 14,
   "metadata": {},
   "outputs": [
    {
     "data": {
      "text/html": [
       "<div>\n",
       "<style scoped>\n",
       "    .dataframe tbody tr th:only-of-type {\n",
       "        vertical-align: middle;\n",
       "    }\n",
       "\n",
       "    .dataframe tbody tr th {\n",
       "        vertical-align: top;\n",
       "    }\n",
       "\n",
       "    .dataframe thead tr th {\n",
       "        text-align: left;\n",
       "    }\n",
       "\n",
       "    .dataframe thead tr:last-of-type th {\n",
       "        text-align: right;\n",
       "    }\n",
       "</style>\n",
       "<table border=\"1\" class=\"dataframe\">\n",
       "  <thead>\n",
       "    <tr>\n",
       "      <th></th>\n",
       "      <th colspan=\"2\" halign=\"left\">dice_lv</th>\n",
       "      <th colspan=\"2\" halign=\"left\">dice_myo</th>\n",
       "      <th colspan=\"2\" halign=\"left\">dice_rv</th>\n",
       "      <th colspan=\"2\" halign=\"left\">dice_mean</th>\n",
       "    </tr>\n",
       "    <tr>\n",
       "      <th></th>\n",
       "      <th>mean</th>\n",
       "      <th>std</th>\n",
       "      <th>mean</th>\n",
       "      <th>std</th>\n",
       "      <th>mean</th>\n",
       "      <th>std</th>\n",
       "      <th>mean</th>\n",
       "      <th>std</th>\n",
       "    </tr>\n",
       "    <tr>\n",
       "      <th>scanner</th>\n",
       "      <th></th>\n",
       "      <th></th>\n",
       "      <th></th>\n",
       "      <th></th>\n",
       "      <th></th>\n",
       "      <th></th>\n",
       "      <th></th>\n",
       "      <th></th>\n",
       "    </tr>\n",
       "  </thead>\n",
       "  <tbody>\n",
       "    <tr>\n",
       "      <th>Canon</th>\n",
       "      <td>0.892480</td>\n",
       "      <td>0.013229</td>\n",
       "      <td>0.778514</td>\n",
       "      <td>0.016993</td>\n",
       "      <td>0.781722</td>\n",
       "      <td>0.009377</td>\n",
       "      <td>0.796754</td>\n",
       "      <td>0.009746</td>\n",
       "    </tr>\n",
       "    <tr>\n",
       "      <th>GE</th>\n",
       "      <td>0.856229</td>\n",
       "      <td>0.021028</td>\n",
       "      <td>0.766006</td>\n",
       "      <td>0.020088</td>\n",
       "      <td>0.789276</td>\n",
       "      <td>0.012075</td>\n",
       "      <td>0.793967</td>\n",
       "      <td>0.019573</td>\n",
       "    </tr>\n",
       "    <tr>\n",
       "      <th>Philips</th>\n",
       "      <td>0.897115</td>\n",
       "      <td>0.009725</td>\n",
       "      <td>0.839505</td>\n",
       "      <td>0.013415</td>\n",
       "      <td>0.843776</td>\n",
       "      <td>0.004985</td>\n",
       "      <td>0.855314</td>\n",
       "      <td>0.008548</td>\n",
       "    </tr>\n",
       "    <tr>\n",
       "      <th>Siemens</th>\n",
       "      <td>0.870262</td>\n",
       "      <td>0.025217</td>\n",
       "      <td>0.763125</td>\n",
       "      <td>0.031622</td>\n",
       "      <td>0.797200</td>\n",
       "      <td>0.006804</td>\n",
       "      <td>0.798511</td>\n",
       "      <td>0.022761</td>\n",
       "    </tr>\n",
       "  </tbody>\n",
       "</table>\n",
       "</div>"
      ],
      "text/plain": [
       "          dice_lv            dice_myo             dice_rv           dice_mean  \\\n",
       "             mean       std      mean       std      mean       std      mean   \n",
       "scanner                                                                         \n",
       "Canon    0.892480  0.013229  0.778514  0.016993  0.781722  0.009377  0.796754   \n",
       "GE       0.856229  0.021028  0.766006  0.020088  0.789276  0.012075  0.793967   \n",
       "Philips  0.897115  0.009725  0.839505  0.013415  0.843776  0.004985  0.855314   \n",
       "Siemens  0.870262  0.025217  0.763125  0.031622  0.797200  0.006804  0.798511   \n",
       "\n",
       "                   \n",
       "              std  \n",
       "scanner            \n",
       "Canon    0.009746  \n",
       "GE       0.019573  \n",
       "Philips  0.008548  \n",
       "Siemens  0.022761  "
      ]
     },
     "execution_count": 14,
     "metadata": {},
     "output_type": "execute_result"
    }
   ],
   "source": [
    "df = eval_config('../training_configs/cardiac_joint.yml', seeds=[1, 2, 3, 4, 5])\n",
    "df.groupby('scanner').agg({'dice_lv': ['mean', 'std'], 'dice_myo': ['mean', 'std'], 'dice_rv': ['mean', 'std'], 'dice_mean': ['mean', 'std']}, )"
   ]
  },
  {
   "cell_type": "markdown",
   "metadata": {},
   "source": [
    "To evaluate multiple configs at once and get an overview call `eval_config_list(<path_to_config_files>, <list of method names>, [optional <list of random seeds>])`"
   ]
  },
  {
   "cell_type": "code",
   "execution_count": 4,
   "metadata": {},
   "outputs": [
    {
     "data": {
      "text/html": [
       "<div>\n",
       "<style scoped>\n",
       "    .dataframe tbody tr th:only-of-type {\n",
       "        vertical-align: middle;\n",
       "    }\n",
       "\n",
       "    .dataframe tbody tr th {\n",
       "        vertical-align: top;\n",
       "    }\n",
       "\n",
       "    .dataframe thead th {\n",
       "        text-align: right;\n",
       "    }\n",
       "</style>\n",
       "<table border=\"1\" class=\"dataframe\">\n",
       "  <thead>\n",
       "    <tr style=\"text-align: right;\">\n",
       "      <th>scanner</th>\n",
       "      <th>Siemens</th>\n",
       "      <th>GE</th>\n",
       "      <th>Philips</th>\n",
       "      <th>Canon</th>\n",
       "      <th>BWT</th>\n",
       "      <th>FWT</th>\n",
       "    </tr>\n",
       "    <tr>\n",
       "      <th>model</th>\n",
       "      <th></th>\n",
       "      <th></th>\n",
       "      <th></th>\n",
       "      <th></th>\n",
       "      <th></th>\n",
       "      <th></th>\n",
       "    </tr>\n",
       "  </thead>\n",
       "  <tbody>\n",
       "    <tr>\n",
       "      <th>DM</th>\n",
       "      <td>0.793</td>\n",
       "      <td>0.756</td>\n",
       "      <td>0.811</td>\n",
       "      <td>0.842</td>\n",
       "      <td>0.010</td>\n",
       "      <td>0.046</td>\n",
       "    </tr>\n",
       "    <tr>\n",
       "      <th>Naive</th>\n",
       "      <td>0.783</td>\n",
       "      <td>0.741</td>\n",
       "      <td>0.789</td>\n",
       "      <td>0.843</td>\n",
       "      <td>-0.012</td>\n",
       "      <td>0.053</td>\n",
       "    </tr>\n",
       "  </tbody>\n",
       "</table>\n",
       "</div>"
      ],
      "text/plain": [
       "scanner  Siemens     GE  Philips  Canon    BWT    FWT\n",
       "model                                                \n",
       "DM         0.793  0.756    0.811  0.842  0.010  0.046\n",
       "Naive      0.783  0.741    0.789  0.843 -0.012  0.053"
      ]
     },
     "execution_count": 4,
     "metadata": {},
     "output_type": "execute_result"
    }
   ],
   "source": [
    "df_overview = eval_config_list(['../training_configs/cardiac_naive.yml', '../training_configs/cardiac_dynamicmemory.yml'], ['Naive', 'DM'])\n",
    "df_overview[['Siemens', 'GE', 'Philips', 'Canon', 'BWT', 'FWT']]"
   ]
  },
  {
   "cell_type": "markdown",
   "metadata": {},
   "source": [
    "If a specific dice score is of intrest the parameter `value` can be added to get the evaluation for either left ventricle (dice_lv), left ventricular myocardium (dice_myo) or the right ventricle (dice_rv)."
   ]
  },
  {
   "cell_type": "code",
   "execution_count": 5,
   "metadata": {},
   "outputs": [
    {
     "data": {
      "text/html": [
       "<div>\n",
       "<style scoped>\n",
       "    .dataframe tbody tr th:only-of-type {\n",
       "        vertical-align: middle;\n",
       "    }\n",
       "\n",
       "    .dataframe tbody tr th {\n",
       "        vertical-align: top;\n",
       "    }\n",
       "\n",
       "    .dataframe thead th {\n",
       "        text-align: right;\n",
       "    }\n",
       "</style>\n",
       "<table border=\"1\" class=\"dataframe\">\n",
       "  <thead>\n",
       "    <tr style=\"text-align: right;\">\n",
       "      <th>scanner</th>\n",
       "      <th>Siemens</th>\n",
       "      <th>GE</th>\n",
       "      <th>Philips</th>\n",
       "      <th>Canon</th>\n",
       "      <th>BWT</th>\n",
       "      <th>FWT</th>\n",
       "    </tr>\n",
       "    <tr>\n",
       "      <th>model</th>\n",
       "      <th></th>\n",
       "      <th></th>\n",
       "      <th></th>\n",
       "      <th></th>\n",
       "      <th></th>\n",
       "      <th></th>\n",
       "    </tr>\n",
       "  </thead>\n",
       "  <tbody>\n",
       "    <tr>\n",
       "      <th>DM</th>\n",
       "      <td>0.840</td>\n",
       "      <td>0.805</td>\n",
       "      <td>0.856</td>\n",
       "      <td>0.913</td>\n",
       "      <td>0.013</td>\n",
       "      <td>0.034</td>\n",
       "    </tr>\n",
       "    <tr>\n",
       "      <th>Naive</th>\n",
       "      <td>0.842</td>\n",
       "      <td>0.799</td>\n",
       "      <td>0.853</td>\n",
       "      <td>0.911</td>\n",
       "      <td>0.002</td>\n",
       "      <td>0.032</td>\n",
       "    </tr>\n",
       "  </tbody>\n",
       "</table>\n",
       "</div>"
      ],
      "text/plain": [
       "scanner  Siemens     GE  Philips  Canon    BWT    FWT\n",
       "model                                                \n",
       "DM         0.840  0.805    0.856  0.913  0.013  0.034\n",
       "Naive      0.842  0.799    0.853  0.911  0.002  0.032"
      ]
     },
     "execution_count": 5,
     "metadata": {},
     "output_type": "execute_result"
    }
   ],
   "source": [
    "df_overview = eval_config_list(['../training_configs/cardiac_naive.yml', '../training_configs/cardiac_dynamicmemory.yml'], ['Naive', 'DM'], value='dice_lv')\n",
    "df_overview[['Siemens', 'GE', 'Philips', 'Canon', 'BWT', 'FWT']]"
   ]
  },
  {
   "cell_type": "code",
   "execution_count": 7,
   "metadata": {},
   "outputs": [
    {
     "data": {
      "text/plain": [
       "2"
      ]
     },
     "execution_count": 7,
     "metadata": {},
     "output_type": "execute_result"
    }
   ],
   "source": [
    "scanners = ['dd', 'dd', 'aa']\n",
    "len(np.unique(scanners))"
   ]
  },
  {
   "cell_type": "code",
   "execution_count": 4,
   "metadata": {},
   "outputs": [],
   "source": [
    "df = pd.read_csv('/project/catinous/cardiacslicessplitsingle.csv')"
   ]
  },
  {
   "cell_type": "code",
   "execution_count": 6,
   "metadata": {},
   "outputs": [
    {
     "data": {
      "text/html": [
       "<div>\n",
       "<style scoped>\n",
       "    .dataframe tbody tr th:only-of-type {\n",
       "        vertical-align: middle;\n",
       "    }\n",
       "\n",
       "    .dataframe tbody tr th {\n",
       "        vertical-align: top;\n",
       "    }\n",
       "\n",
       "    .dataframe thead th {\n",
       "        text-align: right;\n",
       "    }\n",
       "</style>\n",
       "<table border=\"1\" class=\"dataframe\">\n",
       "  <thead>\n",
       "    <tr style=\"text-align: right;\">\n",
       "      <th></th>\n",
       "      <th>scanner</th>\n",
       "      <th>filepath</th>\n",
       "      <th>t</th>\n",
       "      <th>slice</th>\n",
       "      <th>slicepath</th>\n",
       "    </tr>\n",
       "    <tr>\n",
       "      <th>split</th>\n",
       "      <th></th>\n",
       "      <th></th>\n",
       "      <th></th>\n",
       "      <th></th>\n",
       "      <th></th>\n",
       "    </tr>\n",
       "  </thead>\n",
       "  <tbody>\n",
       "    <tr>\n",
       "      <th>base</th>\n",
       "      <td>1120</td>\n",
       "      <td>1120</td>\n",
       "      <td>1120</td>\n",
       "      <td>1120</td>\n",
       "      <td>1120</td>\n",
       "    </tr>\n",
       "    <tr>\n",
       "      <th>test</th>\n",
       "      <td>942</td>\n",
       "      <td>942</td>\n",
       "      <td>942</td>\n",
       "      <td>942</td>\n",
       "      <td>942</td>\n",
       "    </tr>\n",
       "    <tr>\n",
       "      <th>train</th>\n",
       "      <td>4298</td>\n",
       "      <td>4298</td>\n",
       "      <td>4298</td>\n",
       "      <td>4298</td>\n",
       "      <td>4298</td>\n",
       "    </tr>\n",
       "    <tr>\n",
       "      <th>val</th>\n",
       "      <td>960</td>\n",
       "      <td>960</td>\n",
       "      <td>960</td>\n",
       "      <td>960</td>\n",
       "      <td>960</td>\n",
       "    </tr>\n",
       "  </tbody>\n",
       "</table>\n",
       "</div>"
      ],
      "text/plain": [
       "       scanner  filepath     t  slice  slicepath\n",
       "split                                           \n",
       "base      1120      1120  1120   1120       1120\n",
       "test       942       942   942    942        942\n",
       "train     4298      4298  4298   4298       4298\n",
       "val        960       960   960    960        960"
      ]
     },
     "execution_count": 6,
     "metadata": {},
     "output_type": "execute_result"
    }
   ],
   "source": [
    "df.groupby('split').count()"
   ]
  },
  {
   "cell_type": "code",
   "execution_count": 9,
   "metadata": {},
   "outputs": [
    {
     "data": {
      "text/plain": [
       "(215, 430, 537, 860)"
      ]
     },
     "execution_count": 9,
     "metadata": {},
     "output_type": "execute_result"
    }
   ],
   "source": [
    "round(4298/20), round(4298/10), round(4298/8), round(4298/5)  "
   ]
  },
  {
   "cell_type": "code",
   "execution_count": null,
   "metadata": {},
   "outputs": [],
   "source": []
  }
 ],
 "metadata": {
  "kernelspec": {
   "display_name": "Python 3",
   "language": "python",
   "name": "python3"
  },
  "language_info": {
   "codemirror_mode": {
    "name": "ipython",
    "version": 3
   },
   "file_extension": ".py",
   "mimetype": "text/x-python",
   "name": "python",
   "nbconvert_exporter": "python",
   "pygments_lexer": "ipython3",
   "version": "3.6.9"
  }
 },
 "nbformat": 4,
 "nbformat_minor": 4
}
